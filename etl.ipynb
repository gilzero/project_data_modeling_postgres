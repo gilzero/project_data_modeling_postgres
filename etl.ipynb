{
 "cells": [
  {
   "cell_type": "markdown",
   "metadata": {},
   "source": [
    "# ETL Processes\n",
    "Use this notebook to develop the ETL process for each of your tables before completing the `etl.py` file to load the whole datasets."
   ]
  },
  {
   "cell_type": "code",
   "execution_count": 60,
   "metadata": {
    "pycharm": {
     "name": "#%%\n"
    }
   },
   "outputs": [
    {
     "name": "stdout",
     "output_type": "stream",
     "text": [
      "Tables Dropped If Exists.\r\n",
      "Tables All Created.\r\n"
     ]
    }
   ],
   "source": [
    "# Drop tables and create 'fresh' tables\n",
    "# by running the 'create_tables.py' script\n",
    "\n",
    "!python create_tables.py"
   ]
  },
  {
   "cell_type": "code",
   "execution_count": 61,
   "metadata": {},
   "outputs": [],
   "source": [
    "import os\n",
    "import glob\n",
    "import psycopg2\n",
    "import pandas as pd\n",
    "from datetime import datetime\n",
    "from sql_queries import *\n",
    "from prettytable import PrettyTable\n",
    "\n",
    "# Suppress SettingWithCopyWarning in Pandas\n",
    "pd.options.mode.chained_assignment = None"
   ]
  },
  {
   "cell_type": "code",
   "execution_count": 62,
   "metadata": {},
   "outputs": [],
   "source": [
    "conn = psycopg2.connect(\"host=127.0.0.1 dbname=sparkifydb user=student password=student\")\n",
    "cur = conn.cursor()"
   ]
  },
  {
   "cell_type": "code",
   "execution_count": 63,
   "metadata": {},
   "outputs": [],
   "source": [
    "def get_files(filepath):\n",
    "    all_files = []\n",
    "    for root, dirs, files in os.walk(filepath):\n",
    "        files = glob.glob(os.path.join(root, '*.json'))\n",
    "        for f in files:\n",
    "            all_files.append(os.path.abspath(f))\n",
    "\n",
    "    return all_files"
   ]
  },
  {
   "cell_type": "markdown",
   "metadata": {},
   "source": [
    "# Process `song_data`\n",
    "In this first part, you'll perform ETL on the first dataset, `song_data`, to create the `songs` and `artists` dimensional tables.\n",
    "\n",
    "Let's perform ETL on a single song file and load a single record into each table to start.\n",
    "- Use the `get_files` function provided above to get a list of all song JSON files in `data/song_data`\n",
    "- Select the first song in this list\n",
    "- Read the song file and view the data"
   ]
  },
  {
   "cell_type": "code",
   "execution_count": 64,
   "metadata": {},
   "outputs": [],
   "source": [
    "filepath = get_files('data/')\n",
    "song_files = get_files('data/song_data')\n",
    "log_files = get_files('data/log_data')"
   ]
  },
  {
   "cell_type": "code",
   "execution_count": 65,
   "metadata": {
    "pycharm": {
     "name": "#%%\n"
    }
   },
   "outputs": [
    {
     "data": {
      "text/plain": "   num_songs           artist_id  artist_latitude  artist_longitude  \\\n0          1  AR7G5I41187FB4CE6C              NaN               NaN   \n0          1  AR8ZCNI1187B9A069B              NaN               NaN   \n0          1  ARXR32B1187FB57099              NaN               NaN   \n0          1  AR10USD1187B99F3F1              NaN               NaN   \n0          1  ARGSJW91187B9B1D6B         35.21962         -80.01955   \n\n               artist_location            artist_name             song_id  \\\n0              London, England               Adam Ant  SONHOTT12A8C13493C   \n0                                    Planet P Project  SOIAZJW12AB01853F1   \n0                                                 Gob  SOFSOCN12A8C143F5D   \n0  Burlington, Ontario, Canada  Tweeterfriendly Music  SOHKNRJ12A6701D1F8   \n0               North Carolina           JennyAnyKind  SOQHXMF12AB0182363   \n\n             title   duration  year  \n0  Something Girls  233.40363  1982  \n0       Pink World  269.81832  1984  \n0   Face the Ashes  209.60608  2007  \n0     Drop of Rain  189.57016     0  \n0  Young Boy Blues  218.77506     0  ",
      "text/html": "<div>\n<style scoped>\n    .dataframe tbody tr th:only-of-type {\n        vertical-align: middle;\n    }\n\n    .dataframe tbody tr th {\n        vertical-align: top;\n    }\n\n    .dataframe thead th {\n        text-align: right;\n    }\n</style>\n<table border=\"1\" class=\"dataframe\">\n  <thead>\n    <tr style=\"text-align: right;\">\n      <th></th>\n      <th>num_songs</th>\n      <th>artist_id</th>\n      <th>artist_latitude</th>\n      <th>artist_longitude</th>\n      <th>artist_location</th>\n      <th>artist_name</th>\n      <th>song_id</th>\n      <th>title</th>\n      <th>duration</th>\n      <th>year</th>\n    </tr>\n  </thead>\n  <tbody>\n    <tr>\n      <th>0</th>\n      <td>1</td>\n      <td>AR7G5I41187FB4CE6C</td>\n      <td>NaN</td>\n      <td>NaN</td>\n      <td>London, England</td>\n      <td>Adam Ant</td>\n      <td>SONHOTT12A8C13493C</td>\n      <td>Something Girls</td>\n      <td>233.40363</td>\n      <td>1982</td>\n    </tr>\n    <tr>\n      <th>0</th>\n      <td>1</td>\n      <td>AR8ZCNI1187B9A069B</td>\n      <td>NaN</td>\n      <td>NaN</td>\n      <td></td>\n      <td>Planet P Project</td>\n      <td>SOIAZJW12AB01853F1</td>\n      <td>Pink World</td>\n      <td>269.81832</td>\n      <td>1984</td>\n    </tr>\n    <tr>\n      <th>0</th>\n      <td>1</td>\n      <td>ARXR32B1187FB57099</td>\n      <td>NaN</td>\n      <td>NaN</td>\n      <td></td>\n      <td>Gob</td>\n      <td>SOFSOCN12A8C143F5D</td>\n      <td>Face the Ashes</td>\n      <td>209.60608</td>\n      <td>2007</td>\n    </tr>\n    <tr>\n      <th>0</th>\n      <td>1</td>\n      <td>AR10USD1187B99F3F1</td>\n      <td>NaN</td>\n      <td>NaN</td>\n      <td>Burlington, Ontario, Canada</td>\n      <td>Tweeterfriendly Music</td>\n      <td>SOHKNRJ12A6701D1F8</td>\n      <td>Drop of Rain</td>\n      <td>189.57016</td>\n      <td>0</td>\n    </tr>\n    <tr>\n      <th>0</th>\n      <td>1</td>\n      <td>ARGSJW91187B9B1D6B</td>\n      <td>35.21962</td>\n      <td>-80.01955</td>\n      <td>North Carolina</td>\n      <td>JennyAnyKind</td>\n      <td>SOQHXMF12AB0182363</td>\n      <td>Young Boy Blues</td>\n      <td>218.77506</td>\n      <td>0</td>\n    </tr>\n  </tbody>\n</table>\n</div>"
     },
     "execution_count": 65,
     "metadata": {},
     "output_type": "execute_result"
    }
   ],
   "source": [
    "# Concat all songs data\n",
    "dfs = []\n",
    "\n",
    "for file in song_files:\n",
    "    x = pd.read_json(file, lines=True)\n",
    "    dfs.append(x)\n",
    "\n",
    "# Concat all songs data\n",
    "\n",
    "df_songs = pd.concat(dfs)\n",
    "df_songs.head()"
   ]
  },
  {
   "cell_type": "code",
   "execution_count": 66,
   "metadata": {
    "pycharm": {
     "name": "#%%\n"
    }
   },
   "outputs": [],
   "source": [
    "# song data\n",
    "\n",
    "# songs - songs in music database\n",
    "# song_id, title, artist_id, year, duration\n",
    "\n",
    "song_data = df_songs[['song_id', 'title', 'artist_id', 'year', 'duration']]\n",
    "song_data = song_data.drop_duplicates('song_id')\n",
    "song_data = song_data.set_index('song_id')\n",
    "song_data = song_data.to_records()\n",
    "song_data = list(song_data)\n",
    "\n",
    "# convert numpy numeric to python native numeric. otherwise psycopg2 wont accept\n",
    "song_data = [(x[0], x[1], x[2], int(x[3]), float(x[4])) for x in song_data]"
   ]
  },
  {
   "cell_type": "code",
   "execution_count": 67,
   "metadata": {
    "pycharm": {
     "name": "#%%\n"
    }
   },
   "outputs": [],
   "source": [
    "# artist data\n",
    "\n",
    "# artist_id, name, location, latitude, longitude\n",
    "\n",
    "artist_data = df_songs[['artist_id', 'artist_name', 'artist_location', 'artist_latitude', 'artist_longitude']]\n",
    "artist_data = artist_data.drop_duplicates('artist_id')\n",
    "artist_data = artist_data.set_index('artist_id')\n",
    "artist_data = artist_data.to_records()\n",
    "artist_data = list(artist_data)\n",
    "\n",
    "artist_data = [(x[0], x[1], x[2], float(x[3]), float(x[4])) for x in artist_data]"
   ]
  },
  {
   "cell_type": "code",
   "execution_count": 68,
   "metadata": {
    "pycharm": {
     "name": "#%%\n"
    }
   },
   "outputs": [
    {
     "data": {
      "text/plain": "                      artist       auth firstName gender  itemInSession  \\\n0                   Frumpies  Logged In  Anabelle      F              0   \n1  Kenny G with Peabo Bryson  Logged In  Anabelle      F              1   \n2                Biffy Clyro  Logged In  Anabelle      F              2   \n3                       None  Logged In      Lily      F              0   \n4                        HIM  Logged In      Lily      F              1   \n\n  lastName     length level                                     location  \\\n0  Simpson  134.47791  free  Philadelphia-Camden-Wilmington, PA-NJ-DE-MD   \n1  Simpson  264.75057  free  Philadelphia-Camden-Wilmington, PA-NJ-DE-MD   \n2  Simpson  189.83138  free  Philadelphia-Camden-Wilmington, PA-NJ-DE-MD   \n3    Burns        NaN  free        New York-Newark-Jersey City, NY-NJ-PA   \n4    Burns  212.06159  free        New York-Newark-Jersey City, NY-NJ-PA   \n\n  method      page  registration  sessionId                            song  \\\n0    PUT  NextSong  1.541044e+12        455                      Fuck Kitty   \n1    PUT  NextSong  1.541044e+12        455  By The Time This Night Is Over   \n2    PUT  NextSong  1.541044e+12        455                     God & Satan   \n3    GET      Home  1.540621e+12        456                            None   \n4    PUT  NextSong  1.540621e+12        456                       Beautiful   \n\n   status             ts                                          userAgent  \\\n0     200  1541903636796  \"Mozilla/5.0 (Macintosh; Intel Mac OS X 10_9_4...   \n1     200  1541903770796  \"Mozilla/5.0 (Macintosh; Intel Mac OS X 10_9_4...   \n2     200  1541904034796  \"Mozilla/5.0 (Macintosh; Intel Mac OS X 10_9_4...   \n3     200  1541910841796  \"Mozilla/5.0 (Windows NT 6.1; WOW64) AppleWebK...   \n4     200  1541910973796  \"Mozilla/5.0 (Windows NT 6.1; WOW64) AppleWebK...   \n\n  userId  \n0     69  \n1     69  \n2     69  \n3     32  \n4     32  ",
      "text/html": "<div>\n<style scoped>\n    .dataframe tbody tr th:only-of-type {\n        vertical-align: middle;\n    }\n\n    .dataframe tbody tr th {\n        vertical-align: top;\n    }\n\n    .dataframe thead th {\n        text-align: right;\n    }\n</style>\n<table border=\"1\" class=\"dataframe\">\n  <thead>\n    <tr style=\"text-align: right;\">\n      <th></th>\n      <th>artist</th>\n      <th>auth</th>\n      <th>firstName</th>\n      <th>gender</th>\n      <th>itemInSession</th>\n      <th>lastName</th>\n      <th>length</th>\n      <th>level</th>\n      <th>location</th>\n      <th>method</th>\n      <th>page</th>\n      <th>registration</th>\n      <th>sessionId</th>\n      <th>song</th>\n      <th>status</th>\n      <th>ts</th>\n      <th>userAgent</th>\n      <th>userId</th>\n    </tr>\n  </thead>\n  <tbody>\n    <tr>\n      <th>0</th>\n      <td>Frumpies</td>\n      <td>Logged In</td>\n      <td>Anabelle</td>\n      <td>F</td>\n      <td>0</td>\n      <td>Simpson</td>\n      <td>134.47791</td>\n      <td>free</td>\n      <td>Philadelphia-Camden-Wilmington, PA-NJ-DE-MD</td>\n      <td>PUT</td>\n      <td>NextSong</td>\n      <td>1.541044e+12</td>\n      <td>455</td>\n      <td>Fuck Kitty</td>\n      <td>200</td>\n      <td>1541903636796</td>\n      <td>\"Mozilla/5.0 (Macintosh; Intel Mac OS X 10_9_4...</td>\n      <td>69</td>\n    </tr>\n    <tr>\n      <th>1</th>\n      <td>Kenny G with Peabo Bryson</td>\n      <td>Logged In</td>\n      <td>Anabelle</td>\n      <td>F</td>\n      <td>1</td>\n      <td>Simpson</td>\n      <td>264.75057</td>\n      <td>free</td>\n      <td>Philadelphia-Camden-Wilmington, PA-NJ-DE-MD</td>\n      <td>PUT</td>\n      <td>NextSong</td>\n      <td>1.541044e+12</td>\n      <td>455</td>\n      <td>By The Time This Night Is Over</td>\n      <td>200</td>\n      <td>1541903770796</td>\n      <td>\"Mozilla/5.0 (Macintosh; Intel Mac OS X 10_9_4...</td>\n      <td>69</td>\n    </tr>\n    <tr>\n      <th>2</th>\n      <td>Biffy Clyro</td>\n      <td>Logged In</td>\n      <td>Anabelle</td>\n      <td>F</td>\n      <td>2</td>\n      <td>Simpson</td>\n      <td>189.83138</td>\n      <td>free</td>\n      <td>Philadelphia-Camden-Wilmington, PA-NJ-DE-MD</td>\n      <td>PUT</td>\n      <td>NextSong</td>\n      <td>1.541044e+12</td>\n      <td>455</td>\n      <td>God &amp; Satan</td>\n      <td>200</td>\n      <td>1541904034796</td>\n      <td>\"Mozilla/5.0 (Macintosh; Intel Mac OS X 10_9_4...</td>\n      <td>69</td>\n    </tr>\n    <tr>\n      <th>3</th>\n      <td>None</td>\n      <td>Logged In</td>\n      <td>Lily</td>\n      <td>F</td>\n      <td>0</td>\n      <td>Burns</td>\n      <td>NaN</td>\n      <td>free</td>\n      <td>New York-Newark-Jersey City, NY-NJ-PA</td>\n      <td>GET</td>\n      <td>Home</td>\n      <td>1.540621e+12</td>\n      <td>456</td>\n      <td>None</td>\n      <td>200</td>\n      <td>1541910841796</td>\n      <td>\"Mozilla/5.0 (Windows NT 6.1; WOW64) AppleWebK...</td>\n      <td>32</td>\n    </tr>\n    <tr>\n      <th>4</th>\n      <td>HIM</td>\n      <td>Logged In</td>\n      <td>Lily</td>\n      <td>F</td>\n      <td>1</td>\n      <td>Burns</td>\n      <td>212.06159</td>\n      <td>free</td>\n      <td>New York-Newark-Jersey City, NY-NJ-PA</td>\n      <td>PUT</td>\n      <td>NextSong</td>\n      <td>1.540621e+12</td>\n      <td>456</td>\n      <td>Beautiful</td>\n      <td>200</td>\n      <td>1541910973796</td>\n      <td>\"Mozilla/5.0 (Windows NT 6.1; WOW64) AppleWebK...</td>\n      <td>32</td>\n    </tr>\n  </tbody>\n</table>\n</div>"
     },
     "execution_count": 68,
     "metadata": {},
     "output_type": "execute_result"
    }
   ],
   "source": [
    "# Concat all event logs data\n",
    "dfl = []\n",
    "\n",
    "for file in log_files:\n",
    "    x = pd.read_json(file, lines=True)\n",
    "    dfl.append(x)\n",
    "\n",
    "# Concat\n",
    "\n",
    "df_logs = pd.concat(dfl)\n",
    "df_logs.head()"
   ]
  },
  {
   "cell_type": "code",
   "execution_count": 69,
   "metadata": {
    "pycharm": {
     "name": "#%%\n"
    }
   },
   "outputs": [],
   "source": [
    "# df logs data subset to song playing event\n",
    "\n",
    "df_logs = df_logs[df_logs['page'] == 'NextSong']"
   ]
  },
  {
   "cell_type": "code",
   "execution_count": 70,
   "metadata": {
    "pycharm": {
     "name": "#%%\n"
    }
   },
   "outputs": [
    {
     "name": "stdout",
     "output_type": "stream",
     "text": [
      "129\n"
     ]
    }
   ],
   "source": [
    "# load user table\n",
    "\n",
    "# user_id, first_name, last_name, gender, level\n",
    "\n",
    "user_df = df_logs[['userId', 'firstName', 'lastName', 'gender', 'level']]\n",
    "user_df = user_df.drop_duplicates('userId', keep='last')\n",
    "user_df = user_df.set_index('userId')\n",
    "user_data = user_df.to_records()\n",
    "user_data = list(user_data)\n",
    "\n",
    "print(len(user_data))"
   ]
  },
  {
   "cell_type": "markdown",
   "metadata": {},
   "source": [
    "## #1: `songs` Table\n",
    "#### Extract Data for Songs Table\n",
    "- Select columns for song ID, title, artist ID, year, and duration\n",
    "- Use `df.values` to select just the values from the dataframe\n",
    "- Index to select the first (only) record in the dataframe\n",
    "- Convert the array to a list and set it to `song_data`"
   ]
  },
  {
   "cell_type": "code",
   "execution_count": 71,
   "metadata": {
    "pycharm": {
     "name": "#%%\n"
    }
   },
   "outputs": [
    {
     "data": {
      "text/plain": "('SONHOTT12A8C13493C',\n 'Something Girls',\n 'AR7G5I41187FB4CE6C',\n 1982,\n 233.40363)"
     },
     "execution_count": 71,
     "metadata": {},
     "output_type": "execute_result"
    }
   ],
   "source": [
    "# Spot Check\n",
    "song_data[0]"
   ]
  },
  {
   "cell_type": "markdown",
   "metadata": {},
   "source": [
    "#### Insert Record into Song Table\n",
    "Implement the `song_table_insert` query in `sql_queries.py` and run the cell below to insert a record for this song into the `songs` table. Remember to run `create_tables.py` before running the cell below to ensure you've created/resetted the `songs` table in the sparkify database."
   ]
  },
  {
   "cell_type": "code",
   "execution_count": 72,
   "metadata": {
    "pycharm": {
     "name": "#%%\n"
    }
   },
   "outputs": [
    {
     "name": "stdout",
     "output_type": "stream",
     "text": [
      "Insert song rows done\n"
     ]
    }
   ],
   "source": [
    "# Insert all songs data records\n",
    "try:\n",
    "    for row in song_data:\n",
    "        # print(row)\n",
    "        cur.execute(song_table_insert, row)\n",
    "        conn.commit()\n",
    "    print('Insert song rows done')\n",
    "\n",
    "except Exception as e:\n",
    "    conn.rollback()\n",
    "    print('Error in inserting song data. ')\n",
    "    print(e)"
   ]
  },
  {
   "cell_type": "code",
   "execution_count": 73,
   "metadata": {
    "pycharm": {
     "name": "#%%\n"
    }
   },
   "outputs": [
    {
     "name": "stdout",
     "output_type": "stream",
     "text": [
      "+--------------------+------------------------------------------------------+--------------------+------+-----------+\n",
      "|      song_id       |                        title                         |     artist_id      | year |  duration |\n",
      "+--------------------+------------------------------------------------------+--------------------+------+-----------+\n",
      "| SONHOTT12A8C13493C |                   Something Girls                    | AR7G5I41187FB4CE6C | 1982 | 233.40363 |\n",
      "| SOIAZJW12AB01853F1 |                      Pink World                      | AR8ZCNI1187B9A069B | 1984 | 269.81832 |\n",
      "| SOFSOCN12A8C143F5D |                    Face the Ashes                    | ARXR32B1187FB57099 | 2007 | 209.60608 |\n",
      "| SOHKNRJ12A6701D1F8 |                     Drop of Rain                     | AR10USD1187B99F3F1 |  0   | 189.57016 |\n",
      "| SOQHXMF12AB0182363 |                   Young Boy Blues                    | ARGSJW91187B9B1D6B |  0   | 218.77506 |\n",
      "| SOCIWDW12A8C13D406 |                      Soul Deep                       | ARMJAGH1187FB546F3 | 1969 | 148.03546 |\n",
      "| SOMZWCG12A8C13C480 |                   I Didn't Mean To                   | ARD7TVE1187B99BFB1 |  0   | 218.93179 |\n",
      "| SOXVLOJ12AB0189215 |                   Amor De Cabaret                    | ARKRRTF1187B9984DA |  0   | 177.47546 |\n",
      "| SOUDSGM12AC9618304 |          Insatiable (Instrumental Version)           | ARNTLGG11E2835DDB9 |  0   | 266.39628 |\n",
      "| SOYMRWW12A6D4FAB14 |     The Moon And I (Ordinary Day Album Version)      | ARKFYS91187B98E58F |  0   |  267.7024 |\n",
      "| SOMJBYD12A6D4F8557 |                Keepin It Real (Skit)                 | ARD0S291187B9B7BF5 |  0   | 114.78159 |\n",
      "| SOVYKGO12AB0187199 |                 Crazy Mixed Up World                 | ARH4Z031187B9A71F2 | 1961 | 156.39465 |\n",
      "| SOGNCJP12A58A80271 |             Do You Finally Need A Friend             | ARB29H41187B98F0EF | 1972 | 342.56934 |\n",
      "| SOGXHEG12AB018653E |              It Makes No Difference Now              | AR0RCMP1187FB3F427 | 1992 | 133.32853 |\n",
      "| SOBLGCN12AB0183212 |            James (Hold The Ladder Steady)            | AR47JEX1187B995D81 | 1985 | 124.86485 |\n",
      "| SOZQDIU12A58A7BCF6 |                  Superconfidential                   | ARNTLGG11E2835DDB9 |  0   | 338.31138 |\n",
      "| SOOLYAZ12A6701F4A6 |           Laws Patrolling (Album Version)            | AREBBGV1187FB523D2 |  0   | 173.66159 |\n",
      "| SOBBUGU12A8C13E95D |           Setting Fire to Sleeping Giants            | ARMAC4T1187FB3FA4C | 2004 | 207.77751 |\n",
      "| SOYTPEP12AB0180E7B |                   Twist and Shout                    | ARAJPHH1187FB5566A | 1964 | 164.80608 |\n",
      "| SOPSWQW12A6D4F8781 |                Made Like This (Live)                 | ARGIWFO1187B9B55B7 |  0   | 225.09669 |\n",
      "| SONYPOM12A8C13B2D7 | I Think My Wife Is Running Around On Me (Taco Hell)  | ARDNS031187B9924F0 | 2005 | 186.48771 |\n",
      "| SOGOSOV12AF72A285E |                  ¿Dónde va Chichi?                   | ARGUVEV1187B98BA17 | 1997 | 313.12934 |\n",
      "| SOZCTXZ12AB0182364 |                    Setanta matins                    | AR5KOSW1187FB35FF4 |  0   | 269.58322 |\n",
      "| SOLLHMX12AB01846DC |                  The Emperor Falls                   | AR1Y2PT1187FB5B9CE |  0   | 484.62322 |\n",
      "| SOBZBAZ12A6D4F8742 |                    Spanish Grease                    | AROUOZZ1187B9ABE51 | 1997 | 168.25424 |\n",
      "| SOMUYGI12AB0188633 |                       La Culpa                       | ARL7K851187B99ACD2 |  0   | 226.35057 |\n",
      "| SOZVMJI12AB01808AF |                   Synthetic Dream                    | ARNPAGP1241B9C7FD4 |  0   | 165.69424 |\n",
      "| SOWTBJW12AC468AC6E |              Broken-Down Merry-Go-Round              | ARQGYP71187FB44566 |  0   | 151.84934 |\n",
      "| SOUQQEA12A8C134B1B |                      High Tide                       | ARIG6O41187B988BDD |  0   |  228.5971 |\n",
      "| SORAMLE12AB017C8B0 |                    Auguri Cha Cha                    | ARHHO3O1187B989413 |  0   | 191.84281 |\n",
      "| SOKEJEJ12A8C13E0D0 |               The Urgency (LP Version)               | ARC43071187B990240 |  0   | 245.21098 |\n",
      "| SOBEBDG12A58A76D60 |                     Kassie Jones                     | ARI3BMM1187FB4255E |  0   | 220.78649 |\n",
      "| SOBONFF12A6D4F84D8 |               Tonight Will Be Alright                | ARIK43K1187B9AE54C | 1986 |  307.3824 |\n",
      "| SOHUOAP12A8AE488E9 |                       Floating                       | ARD842G1187B997376 | 1987 | 491.12771 |\n",
      "| SOILPQQ12AB017E82A |                 Sohna Nee Sohna Data                 | AR1ZHYZ1187FB3C717 |  0   | 599.24853 |\n",
      "| SOXLBJT12A8C140925 |                  Caught In A Dream                   | ARYKCQI1187FB3B18F | 2004 | 290.29832 |\n",
      "| SOTTDKS12AB018D69B |                 It Wont Be Christmas                 | ARMBR4Y1187B9990EB |  0   | 241.47546 |\n",
      "| SOZHPGD12A8C1394FE |                   Baby Come To Me                    | AR9AWNF1187B9AB0B4 |  0   | 236.93016 |\n",
      "| SOMVWWT12A58A7AE05 |               Knocked Out Of The Park                | ARQ9BO41187FB5CF1F |  0   | 183.17016 |\n",
      "| SOPVXLX12A8C1402D5 |                   Larger Than Life                   | AR3JMC51187B9AE49D | 1999 | 236.25098 |\n",
      "| SOBBXLX12A58A79DDA |            Erica (2005 Digital Remaster)             | AREDBBQ1187B98AFF5 |  0   | 138.63138 |\n",
      "| SOAOIBZ12AB01815BE | I Hold Your Hand In Mine [Live At Royal Albert Hall] | ARPBNLO1187FB3D52F | 2000 |  43.36281 |\n",
      "| SOQVMXR12A81C21483 |                     Salt In NYC                      | ARKULSX1187FB45F84 |  0   | 424.12363 |\n",
      "| SOSLAVG12A8C13397F |                     Den Pai Alo                      | AROGWRA122988FEE45 |  0   | 243.82649 |\n",
      "| SODUJBS12A8C132150 |                 Wessex Loses a Bride                 | ARI2JSK1187FB496EF |  0   | 111.62077 |\n",
      "| SOQLGFP12A58A7800E |                       OAKtown                        | ARD7TVE1187B99BFB1 |  0   | 259.44771 |\n",
      "| SOTUKVB12AB0181477 |                  Blessed Assurance                   | AR7ZKHQ1187B98DD73 | 1993 |  270.602  |\n",
      "| SODREIN12A58A7F2E5 |    A Whiter Shade Of Pale (Live @ Fillmore West)     | ARLTWXK1187FB5A3F8 |  0   | 326.00771 |\n",
      "| SOSWKAV12AB018FC91 |                    Midnight Star                     | ARULZCI1241B9C8611 |  0   | 335.51628 |\n",
      "| SOWQTQZ12A58A7B63E |       Streets On Fire (Explicit Album Version)       | ARPFHN61187FB575F6 |  0   | 279.97995 |\n",
      "+--------------------+------------------------------------------------------+--------------------+------+-----------+\n"
     ]
    }
   ],
   "source": [
    "# Read from db, check data inserted\n",
    "\n",
    "cur.execute(\"select * from songs limit 50\")\n",
    "conn.commit()\n",
    "\n",
    "t = PrettyTable(['song_id', 'title', 'artist_id', 'year', 'duration'])\n",
    "\n",
    "for (song_id, title, artist_id, year, duration) in cur:\n",
    "    t.add_row([song_id, title, artist_id, year, duration])\n",
    "\n",
    "print(t)"
   ]
  },
  {
   "cell_type": "markdown",
   "metadata": {},
   "source": [
    "## #2: `artists` Table\n",
    "#### Extract Data for Artists Table\n",
    "- Select columns for artist ID, name, location, latitude, and longitude\n",
    "- Use `df.values` to select just the values from the dataframe\n",
    "- Index to select the first (only) record in the dataframe\n",
    "- Convert the array to a list and set it to `artist_data`"
   ]
  },
  {
   "cell_type": "code",
   "execution_count": 74,
   "metadata": {},
   "outputs": [
    {
     "data": {
      "text/plain": "('AR10USD1187B99F3F1',\n 'Tweeterfriendly Music',\n 'Burlington, Ontario, Canada',\n nan,\n nan)"
     },
     "execution_count": 74,
     "metadata": {},
     "output_type": "execute_result"
    }
   ],
   "source": [
    "# artist_data =\n",
    "# artist_data\n",
    "\n",
    "artist_data[3]\n"
   ]
  },
  {
   "cell_type": "markdown",
   "metadata": {},
   "source": [
    "#### Insert Record into Artist Table\n",
    "Implement the `artist_table_insert` query in `sql_queries.py` and run the cell below to insert a record for this song's artist into the `artists` table. Remember to run `create_tables.py` before running the cell below to ensure you've created/resetted the `artists` table in the sparkify database."
   ]
  },
  {
   "cell_type": "code",
   "execution_count": 75,
   "metadata": {},
   "outputs": [],
   "source": [
    "# cur.execute(artist_table_insert, artist_data[4])\n",
    "# conn.commit()"
   ]
  },
  {
   "cell_type": "code",
   "execution_count": 76,
   "metadata": {
    "pycharm": {
     "name": "#%%\n"
    }
   },
   "outputs": [
    {
     "name": "stdout",
     "output_type": "stream",
     "text": [
      "Inserting artist rows.\n",
      "Insert artist rows done\n"
     ]
    }
   ],
   "source": [
    "# Insert all artist data records\n",
    "\n",
    "try:\n",
    "    print('Inserting artist rows.')\n",
    "    for row in artist_data:\n",
    "        # print(row)\n",
    "        cur.execute(artist_table_insert, row)\n",
    "        conn.commit()\n",
    "\n",
    "    print('Insert artist rows done')\n",
    "\n",
    "except Exception as e:\n",
    "    conn.rollback()\n",
    "    print('Error in inserting artist data. ')\n",
    "    print(e)"
   ]
  },
  {
   "cell_type": "code",
   "execution_count": 77,
   "metadata": {
    "pycharm": {
     "name": "#%%\n"
    }
   },
   "outputs": [
    {
     "name": "stdout",
     "output_type": "stream",
     "text": [
      "+--------------------+----------------------------------------------+-------------------------------+----------+------------+\n",
      "|     artist_id      |                     name                     |            location           | latitude | longitude  |\n",
      "+--------------------+----------------------------------------------+-------------------------------+----------+------------+\n",
      "| AR7G5I41187FB4CE6C |                   Adam Ant                   |        London, England        |   NaN    |    NaN     |\n",
      "| AR8ZCNI1187B9A069B |               Planet P Project               |                               |   NaN    |    NaN     |\n",
      "| ARXR32B1187FB57099 |                     Gob                      |                               |   NaN    |    NaN     |\n",
      "| AR10USD1187B99F3F1 |            Tweeterfriendly Music             |  Burlington, Ontario, Canada  |   NaN    |    NaN     |\n",
      "| ARGSJW91187B9B1D6B |                 JennyAnyKind                 |         North Carolina        | 35.21962 | -80.01955  |\n",
      "| ARMJAGH1187FB546F3 |                 The Box Tops                 |          Memphis, TN          | 35.14968 | -90.04892  |\n",
      "| ARD7TVE1187B99BFB1 |                    Casual                    |        California - LA        |   NaN    |    NaN     |\n",
      "| ARKRRTF1187B9984DA |               Sonora Santanera               |                               |   NaN    |    NaN     |\n",
      "| ARNTLGG11E2835DDB9 |                     Clp                      |                               |   NaN    |    NaN     |\n",
      "| ARKFYS91187B98E58F |            Jeff And Sheri Easter             |                               |   NaN    |    NaN     |\n",
      "| ARD0S291187B9B7BF5 |                   Rated R                    |              Ohio             |   NaN    |    NaN     |\n",
      "| ARH4Z031187B9A71F2 |                  Faye Adams                  |           Newark, NJ          | 40.73197 | -74.17418  |\n",
      "| ARB29H41187B98F0EF |                Terry Callier                 |            Chicago            | 41.88415 | -87.63241  |\n",
      "| AR0RCMP1187FB3F427 |               Billie Jo Spears               |          Beaumont, TX         | 30.08615 | -94.10158  |\n",
      "| AR47JEX1187B995D81 |                 SUE THOMPSON                 |           Nevada, MO          | 37.83721 | -94.35868  |\n",
      "| AREBBGV1187FB523D2 | Mike Jones (Featuring CJ_ Mello & Lil' Bran) |          Houston, TX          |   NaN    |    NaN     |\n",
      "| ARMAC4T1187FB3FA4C |          The Dillinger Escape Plan           |       Morris Plains, NJ       | 40.82624 | -74.47995  |\n",
      "| ARAJPHH1187FB5566A |               The Shangri-Las                |           Queens, NY          | 40.7038  | -73.83168  |\n",
      "| ARGIWFO1187B9B55B7 |                Five Bolt Main                |                               |   NaN    |    NaN     |\n",
      "| ARDNS031187B9924F0 |                  Tim Wilson                  |            Georgia            | 32.67828 | -83.22295  |\n",
      "| ARGUVEV1187B98BA17 |                Sierra Maestra                |                               |   NaN    |    NaN     |\n",
      "| AR5KOSW1187FB35FF4 |                    Elena                     |           Dubai UAE           | 49.80388 |  15.47491  |\n",
      "| AR1Y2PT1187FB5B9CE |                 John Wesley                  |            Brandon            | 27.94017 | -82.32547  |\n",
      "| AROUOZZ1187B9ABE51 |                 Willie Bobo                  | New York, NY [Spanish Harlem] | 40.79195 | -73.94512  |\n",
      "| ARL7K851187B99ACD2 |                  Andy Andy                   |                               |   NaN    |    NaN     |\n",
      "| ARNPAGP1241B9C7FD4 |                  lextrical                   |                               |   NaN    |    NaN     |\n",
      "| ARQGYP71187FB44566 |                 Jimmy Wakely                 |          Mineola, AR          | 34.31109 | -94.02978  |\n",
      "| ARIG6O41187B988BDD |               Richard Souther                |         United States         | 37.16793 | -95.84502  |\n",
      "| ARHHO3O1187B989413 |                  Bob Azzam                   |                               |   NaN    |    NaN     |\n",
      "| ARC43071187B990240 |                 Wayne Watson                 |           Wisner, LA          |   NaN    |    NaN     |\n",
      "| ARI3BMM1187FB4255E |                 Alice Stuart                 |           Washington          | 38.8991  |  -77.029   |\n",
      "| ARIK43K1187B9AE54C |                Lionel Richie                 |       Beverly Hills, CA       |   NaN    |    NaN     |\n",
      "| ARD842G1187B997376 |                  Blue Rodeo                  |    Toronto, Ontario, Canada   | 43.64856 | -79.38533  |\n",
      "| AR1ZHYZ1187FB3C717 |                Faiz Ali Faiz                 |                               |   NaN    |    NaN     |\n",
      "| ARYKCQI1187FB3B18F |                    Tesla                     |                               |   NaN    |    NaN     |\n",
      "| ARMBR4Y1187B9990EB |                 David Martin                 |        California - SF        | 37.77916 | -122.42005 |\n",
      "| AR9AWNF1187B9AB0B4 |         Kenny G featuring Daryl Hall         |    Seattle, Washington USA    |   NaN    |    NaN     |\n",
      "| ARQ9BO41187FB5CF1F |                  John Davis                  |          Pennsylvania         | 40.99471 | -77.60454  |\n",
      "| AR3JMC51187B9AE49D |               Backstreet Boys                |          Orlando, FL          | 28.53823 | -81.37739  |\n",
      "| AREDBBQ1187B98AFF5 |                Eddie Calvert                 |                               |   NaN    |    NaN     |\n",
      "| ARPBNLO1187FB3D52F |                   Tiny Tim                   |          New York, NY         | 40.71455 | -74.00712  |\n",
      "| ARKULSX1187FB45F84 |                    Trafik                    |              Utah             | 39.49974 | -111.54732 |\n",
      "| AROGWRA122988FEE45 |               Christos Dantis                |                               |   NaN    |    NaN     |\n",
      "| ARI2JSK1187FB496EF |           Nick Ingman;Gavyn Wright           |        London, England        | 51.50632 |  -0.12714  |\n",
      "| AR7ZKHQ1187B98DD73 |                     Glad                     |                               |   NaN    |    NaN     |\n",
      "| ARLTWXK1187FB5A3F8 |                 King Curtis                  |         Fort Worth, TX        | 32.74863 | -97.32925  |\n",
      "| ARULZCI1241B9C8611 |              Luna Orbit Project              |                               |   NaN    |    NaN     |\n",
      "| ARPFHN61187FB575F6 |                 Lupe Fiasco                  |          Chicago, IL          | 41.88415 | -87.63241  |\n",
      "| ARJIE2Y1187B994AB7 |                 Line Renaud                  |                               |   NaN    |    NaN     |\n",
      "| AR0IAWL1187B9A96D0 |                 Danilo Perez                 |             Panama            |  8.4177  | -80.11278  |\n",
      "+--------------------+----------------------------------------------+-------------------------------+----------+------------+\n"
     ]
    }
   ],
   "source": [
    "# Read from db, check data inserted\n",
    "\n",
    "cur.execute(\"select * from artists limit 50\")\n",
    "conn.commit()\n",
    "\n",
    "t = PrettyTable(['artist_id', 'name', 'location', 'latitude', 'longitude'])\n",
    "\n",
    "for (artist_id, name, location, latitude, longitude) in cur:\n",
    "    t.add_row([artist_id, name, location, latitude, longitude])\n",
    "\n",
    "print(t)"
   ]
  },
  {
   "cell_type": "markdown",
   "metadata": {},
   "source": [
    "# Process `log_data`\n",
    "In this part, you'll perform ETL on the second dataset, `log_data`, to create the `time` and `users` dimensional tables, as well as the `songplays` fact table.\n",
    "\n",
    "Let's perform ETL on a single log file and load a single record into each table.\n",
    "- Use the `get_files` function provided above to get a list of all log JSON files in `data/log_data`\n",
    "- Select the first log file in this list\n",
    "- Read the log file and view the data"
   ]
  },
  {
   "cell_type": "markdown",
   "metadata": {},
   "source": [
    "## #3: `time` Table\n",
    "#### Extract Data for Time Table\n",
    "- Filter records by `NextSong` action\n",
    "- Convert the `ts` timestamp column to datetime\n",
    "  - Hint: the current timestamp is in milliseconds\n",
    "- Extract the timestamp, hour, day, week of year, month, year, and weekday from the `ts` column and set `time_data` to a list containing these values in order\n",
    "  - Hint: use pandas' [`dt` attribute](https://pandas.pydata.org/pandas-docs/stable/reference/api/pandas.Series.dt.html) to access easily datetimelike properties.\n",
    "- Specify labels for these columns and set to `column_labels`\n",
    "- Create a dataframe, `time_df,` containing the time data for this file by combining `column_labels` and `time_data` into a dictionary and converting this into a dataframe"
   ]
  },
  {
   "cell_type": "markdown",
   "metadata": {},
   "source": [
    "#### Insert Records into Time Table\n",
    "Implement the `time_table_insert` query in `sql_queries.py` and run the cell below to insert records for the timestamps in this log file into the `time` table. Remember to run `create_tables.py` before running the cell below to ensure you've created/resetted the `time` table in the sparkify database."
   ]
  },
  {
   "cell_type": "code",
   "execution_count": 78,
   "outputs": [
    {
     "data": {
      "text/plain": "                       ts  hour  day  week  month  year  weekday\n0 2018-11-11 02:33:56.796     2   11    45     11  2018        6\n1 2018-11-11 02:36:10.796     2   11    45     11  2018        6\n2 2018-11-11 02:40:34.796     2   11    45     11  2018        6\n4 2018-11-11 04:36:13.796     4   11    45     11  2018        6\n5 2018-11-11 04:36:46.796     4   11    45     11  2018        6",
      "text/html": "<div>\n<style scoped>\n    .dataframe tbody tr th:only-of-type {\n        vertical-align: middle;\n    }\n\n    .dataframe tbody tr th {\n        vertical-align: top;\n    }\n\n    .dataframe thead th {\n        text-align: right;\n    }\n</style>\n<table border=\"1\" class=\"dataframe\">\n  <thead>\n    <tr style=\"text-align: right;\">\n      <th></th>\n      <th>ts</th>\n      <th>hour</th>\n      <th>day</th>\n      <th>week</th>\n      <th>month</th>\n      <th>year</th>\n      <th>weekday</th>\n    </tr>\n  </thead>\n  <tbody>\n    <tr>\n      <th>0</th>\n      <td>2018-11-11 02:33:56.796</td>\n      <td>2</td>\n      <td>11</td>\n      <td>45</td>\n      <td>11</td>\n      <td>2018</td>\n      <td>6</td>\n    </tr>\n    <tr>\n      <th>1</th>\n      <td>2018-11-11 02:36:10.796</td>\n      <td>2</td>\n      <td>11</td>\n      <td>45</td>\n      <td>11</td>\n      <td>2018</td>\n      <td>6</td>\n    </tr>\n    <tr>\n      <th>2</th>\n      <td>2018-11-11 02:40:34.796</td>\n      <td>2</td>\n      <td>11</td>\n      <td>45</td>\n      <td>11</td>\n      <td>2018</td>\n      <td>6</td>\n    </tr>\n    <tr>\n      <th>4</th>\n      <td>2018-11-11 04:36:13.796</td>\n      <td>4</td>\n      <td>11</td>\n      <td>45</td>\n      <td>11</td>\n      <td>2018</td>\n      <td>6</td>\n    </tr>\n    <tr>\n      <th>5</th>\n      <td>2018-11-11 04:36:46.796</td>\n      <td>4</td>\n      <td>11</td>\n      <td>45</td>\n      <td>11</td>\n      <td>2018</td>\n      <td>6</td>\n    </tr>\n  </tbody>\n</table>\n</div>"
     },
     "execution_count": 78,
     "metadata": {},
     "output_type": "execute_result"
    }
   ],
   "source": [
    "# Type cast and extract specific datetime info\n",
    "\n",
    "t = pd.to_datetime(df_logs['ts'], unit='ms')\n",
    "\n",
    "time_df = pd.DataFrame({\n",
    "    'ts': t,\n",
    "    'hour': t.dt.hour,\n",
    "    'day': t.dt.day,\n",
    "    'week': t.dt.isocalendar().week,\n",
    "    'month': t.dt.month,\n",
    "    'year': t.dt.year,\n",
    "    'weekday': t.dt.weekday\n",
    "\n",
    "})\n",
    "\n",
    "time_df.head()"
   ],
   "metadata": {
    "collapsed": false,
    "pycharm": {
     "name": "#%%\n"
    }
   }
  },
  {
   "cell_type": "code",
   "execution_count": 79,
   "outputs": [
    {
     "name": "stdout",
     "output_type": "stream",
     "text": [
      "Inserting time records.\n",
      "Insert time rows done.\n"
     ]
    }
   ],
   "source": [
    "# Insert time records\n",
    "\n",
    "try:\n",
    "    print('Inserting time records.')\n",
    "\n",
    "    for _, row in time_df.iterrows():\n",
    "        cur.execute(time_table_insert, tuple(row))\n",
    "        conn.commit()\n",
    "\n",
    "    print('Insert time rows done.')\n",
    "\n",
    "except Exception as e:\n",
    "    conn.rollback()\n",
    "    print('Error in inserting time data. ')\n",
    "    print(e)\n"
   ],
   "metadata": {
    "collapsed": false,
    "pycharm": {
     "name": "#%%\n"
    }
   }
  },
  {
   "cell_type": "code",
   "execution_count": 80,
   "metadata": {
    "pycharm": {
     "name": "#%%\n"
    }
   },
   "outputs": [
    {
     "name": "stdout",
     "output_type": "stream",
     "text": [
      "+----------------------------+------+-----+------+-------+------+---------+\n",
      "|         start_time         | hour | day | week | month | year | weekday |\n",
      "+----------------------------+------+-----+------+-------+------+---------+\n",
      "| 2018-11-11 02:33:56.796000 |  2   |  11 |  45  |   11  | 2018 |    6    |\n",
      "| 2018-11-11 02:36:10.796000 |  2   |  11 |  45  |   11  | 2018 |    6    |\n",
      "| 2018-11-11 02:40:34.796000 |  2   |  11 |  45  |   11  | 2018 |    6    |\n",
      "| 2018-11-11 04:36:13.796000 |  4   |  11 |  45  |   11  | 2018 |    6    |\n",
      "| 2018-11-11 04:36:46.796000 |  4   |  11 |  45  |   11  | 2018 |    6    |\n",
      "| 2018-11-11 09:56:28.796000 |  9   |  11 |  45  |   11  | 2018 |    6    |\n",
      "| 2018-11-11 10:00:47.796000 |  10  |  11 |  45  |   11  | 2018 |    6    |\n",
      "| 2018-11-11 10:04:07.796000 |  10  |  11 |  45  |   11  | 2018 |    6    |\n",
      "| 2018-11-11 10:08:28.796000 |  10  |  11 |  45  |   11  | 2018 |    6    |\n",
      "| 2018-11-11 10:12:00.796000 |  10  |  11 |  45  |   11  | 2018 |    6    |\n",
      "| 2018-11-11 10:27:43.796000 |  10  |  11 |  45  |   11  | 2018 |    6    |\n",
      "| 2018-11-11 10:33:44.796000 |  10  |  11 |  45  |   11  | 2018 |    6    |\n",
      "| 2018-11-11 10:36:22.796000 |  10  |  11 |  45  |   11  | 2018 |    6    |\n",
      "| 2018-11-11 10:40:14.796000 |  10  |  11 |  45  |   11  | 2018 |    6    |\n",
      "| 2018-11-11 10:43:23.796000 |  10  |  11 |  45  |   11  | 2018 |    6    |\n",
      "| 2018-11-11 10:46:18.796000 |  10  |  11 |  45  |   11  | 2018 |    6    |\n",
      "| 2018-11-11 11:14:51.796000 |  11  |  11 |  45  |   11  | 2018 |    6    |\n",
      "| 2018-11-11 13:41:22.796000 |  13  |  11 |  45  |   11  | 2018 |    6    |\n",
      "| 2018-11-11 13:52:23.796000 |  13  |  11 |  45  |   11  | 2018 |    6    |\n",
      "| 2018-11-11 13:58:22.796000 |  13  |  11 |  45  |   11  | 2018 |    6    |\n",
      "| 2018-11-11 14:05:43.796000 |  14  |  11 |  45  |   11  | 2018 |    6    |\n",
      "| 2018-11-11 14:07:54.796000 |  14  |  11 |  45  |   11  | 2018 |    6    |\n",
      "| 2018-11-11 14:09:36.796000 |  14  |  11 |  45  |   11  | 2018 |    6    |\n",
      "| 2018-11-11 14:14:29.796000 |  14  |  11 |  45  |   11  | 2018 |    6    |\n",
      "| 2018-11-11 14:15:06.796000 |  14  |  11 |  45  |   11  | 2018 |    6    |\n",
      "| 2018-11-11 14:17:52.796000 |  14  |  11 |  45  |   11  | 2018 |    6    |\n",
      "| 2018-11-11 14:19:37.796000 |  14  |  11 |  45  |   11  | 2018 |    6    |\n",
      "| 2018-11-11 14:24:58.796000 |  14  |  11 |  45  |   11  | 2018 |    6    |\n",
      "| 2018-11-11 14:30:05.796000 |  14  |  11 |  45  |   11  | 2018 |    6    |\n",
      "| 2018-11-11 14:33:53.796000 |  14  |  11 |  45  |   11  | 2018 |    6    |\n",
      "| 2018-11-11 14:37:16.796000 |  14  |  11 |  45  |   11  | 2018 |    6    |\n",
      "| 2018-11-11 14:40:58.796000 |  14  |  11 |  45  |   11  | 2018 |    6    |\n",
      "| 2018-11-11 14:44:29.796000 |  14  |  11 |  45  |   11  | 2018 |    6    |\n",
      "| 2018-11-11 14:47:24.796000 |  14  |  11 |  45  |   11  | 2018 |    6    |\n",
      "| 2018-11-11 14:47:42.796000 |  14  |  11 |  45  |   11  | 2018 |    6    |\n",
      "| 2018-11-11 14:51:55.796000 |  14  |  11 |  45  |   11  | 2018 |    6    |\n",
      "| 2018-11-11 14:54:07.796000 |  14  |  11 |  45  |   11  | 2018 |    6    |\n",
      "| 2018-11-11 14:56:21.796000 |  14  |  11 |  45  |   11  | 2018 |    6    |\n",
      "| 2018-11-11 14:57:24.796000 |  14  |  11 |  45  |   11  | 2018 |    6    |\n",
      "| 2018-11-11 15:00:12.796000 |  15  |  11 |  45  |   11  | 2018 |    6    |\n",
      "| 2018-11-11 15:00:37.796000 |  15  |  11 |  45  |   11  | 2018 |    6    |\n",
      "| 2018-11-11 15:04:26.796000 |  15  |  11 |  45  |   11  | 2018 |    6    |\n",
      "| 2018-11-11 15:07:26.796000 |  15  |  11 |  45  |   11  | 2018 |    6    |\n",
      "| 2018-11-11 15:10:12.796000 |  15  |  11 |  45  |   11  | 2018 |    6    |\n",
      "| 2018-11-11 15:14:56.796000 |  15  |  11 |  45  |   11  | 2018 |    6    |\n",
      "| 2018-11-11 16:01:19.796000 |  16  |  11 |  45  |   11  | 2018 |    6    |\n",
      "| 2018-11-11 16:05:35.796000 |  16  |  11 |  45  |   11  | 2018 |    6    |\n",
      "| 2018-11-11 16:09:12.796000 |  16  |  11 |  45  |   11  | 2018 |    6    |\n",
      "| 2018-11-11 16:13:43.796000 |  16  |  11 |  45  |   11  | 2018 |    6    |\n",
      "| 2018-11-11 18:08:33.796000 |  18  |  11 |  45  |   11  | 2018 |    6    |\n",
      "+----------------------------+------+-----+------+-------+------+---------+\n"
     ]
    }
   ],
   "source": [
    "# Read from db, check data inserted\n",
    "\n",
    "cur.execute(\"select * from time limit 50\")\n",
    "conn.commit()\n",
    "\n",
    "t = PrettyTable(['start_time', 'hour', 'day', 'week', 'month', 'year', 'weekday'])\n",
    "\n",
    "for (start_time, hour, day, week, month, year, weekday) in cur:\n",
    "    t.add_row([start_time, hour, day, week, month, year, weekday])\n",
    "\n",
    "print(t)\n",
    "\n",
    "# start_time, hour, day, week, month, year, weekday"
   ]
  },
  {
   "cell_type": "markdown",
   "metadata": {},
   "source": [
    "## #4: `users` Table\n",
    "#### Extract Data for Users Table\n",
    "- Select columns for user ID, first name, last name, gender and level and set to `user_df`"
   ]
  },
  {
   "cell_type": "markdown",
   "metadata": {},
   "source": [
    "#### Insert Records into Users Table\n",
    "Implement the `user_table_insert` query in `sql_queries.py` and run the cell below to insert records for the users in this log file into the `users` table. Remember to run `create_tables.py` before running the cell below to ensure you've created/resetted the `users` table in the sparkify database."
   ]
  },
  {
   "cell_type": "code",
   "execution_count": 81,
   "metadata": {
    "pycharm": {
     "name": "#%%\n"
    }
   },
   "outputs": [
    {
     "name": "stdout",
     "output_type": "stream",
     "text": [
      "Inserting user records.\n",
      "Insert users done.\n"
     ]
    }
   ],
   "source": [
    "try:\n",
    "    print('Inserting user records.')\n",
    "    for row in user_data:\n",
    "        # print(row)\n",
    "        cur.execute(user_table_insert, row)\n",
    "        conn.commit()\n",
    "\n",
    "    print('Insert users done.')\n",
    "\n",
    "except Exception as e:\n",
    "    conn.rollback()\n",
    "    print('Error in inserting users data. ')\n",
    "    print(e)\n",
    "\n"
   ]
  },
  {
   "cell_type": "code",
   "execution_count": 82,
   "metadata": {
    "pycharm": {
     "name": "#%%\n"
    }
   },
   "outputs": [
    {
     "name": "stdout",
     "output_type": "stream",
     "text": [
      "+---------+------------+-----------+--------+-------+\n",
      "| user_id | first_name | last_name | gender | level |\n",
      "+---------+------------+-----------+--------+-------+\n",
      "|    56   |   Cienna   |  Freeman  |   F    |  free |\n",
      "|    59   |    Lily    |   Cooper  |   F    |  free |\n",
      "|    20   |   Aiden    |  Ramirez  |   M    |  paid |\n",
      "|    72   |   Hayden   |   Brock   |   F    |  paid |\n",
      "|    48   |   Marina   |   Sutton  |   F    |  free |\n",
      "|    3    |   Isaac    |   Valdez  |   M    |  free |\n",
      "|    98   |   Jordyn   |   Powell  |   F    |  free |\n",
      "|    79   |   James    |   Martin  |   M    |  free |\n",
      "|    4    |   Alivia   |  Terrell  |   F    |  free |\n",
      "|    22   |    Sean    |   Wilson  |   F    |  free |\n",
      "|    78   |   Chloe    |    Roth   |   F    |  free |\n",
      "|    64   |   Hannah   |  Calhoun  |   F    |  free |\n",
      "|    47   |   Kimber   |   Norris  |   F    |  free |\n",
      "|    99   |    Ann     |   Banks   |   F    |  free |\n",
      "|    38   |   Gianna   |   Jones   |   F    |  free |\n",
      "|    5    |   Elijah   |   Davis   |   M    |  free |\n",
      "|    43   |   Jahiem   |   Miles   |   M    |  free |\n",
      "|    28   |  Brantley  |    West   |   M    |  free |\n",
      "|    84   |  Shakira   |    Hunt   |   F    |  free |\n",
      "|    27   |   Carlos   |   Carter  |   M    |  free |\n",
      "|    75   |   Joseph   | Gutierrez |   M    |  free |\n",
      "|    45   |  Dominick  |   Norris  |   M    |  free |\n",
      "|    41   |  Brayden   |   Clark   |   M    |  free |\n",
      "|    70   |   Jaleah   |   Hayes   |   F    |  paid |\n",
      "|    42   |   Harper   |  Barrett  |   M    |  paid |\n",
      "|    71   |   Ayleen   |    Wise   |   F    |  free |\n",
      "|    7    |   Adelyn   |   Jordan  |   F    |  free |\n",
      "|    18   |   Jacob    |   Rogers  |   M    |  free |\n",
      "|    35   |   Molly    |   Taylor  |   F    |  free |\n",
      "|    51   |    Maia    |   Burke   |   F    |  free |\n",
      "|    94   |    Noah    |   Chavez  |   M    |  free |\n",
      "|    25   |   Jayden   |   Graves  |   M    |  paid |\n",
      "|    65   |   Amiya    |  Davidson |   F    |  paid |\n",
      "|    54   |   Kaleb    |    Cook   |   M    |  free |\n",
      "|    91   |   Jayden   |    Bell   |   M    |  free |\n",
      "|    52   |  Theodore  |   Smith   |   M    |  free |\n",
      "|    66   |   Kevin    |  Arellano |   M    |  free |\n",
      "|    12   |   Austin   |  Rosales  |   M    |  free |\n",
      "|    81   |   Sienna   |   Colon   |   F    |  free |\n",
      "|    34   |   Evelin   |   Ayala   |   F    |  free |\n",
      "|    2    |  Jizelle   |  Benjamin |   F    |  free |\n",
      "|    30   |   Avery    |  Watkins  |   F    |  paid |\n",
      "|    16   |   Rylan    |   George  |   M    |  free |\n",
      "|    74   |   Braden   |   Parker  |   M    |  free |\n",
      "|    55   |   Martin   |  Johnson  |   M    |  free |\n",
      "|    40   |   Tucker   |  Garrison |   M    |  free |\n",
      "|    9    |   Wyatt    |   Scott   |   M    |  free |\n",
      "|   100   |   Adler    |  Barrera  |   M    |  free |\n",
      "|    82   |   Avery    |  Martinez |   F    |  paid |\n",
      "|    19   |  Zachary   |   Thomas  |   M    |  free |\n",
      "+---------+------------+-----------+--------+-------+\n"
     ]
    }
   ],
   "source": [
    "# Read from user table check\n",
    "\n",
    "cur.execute(\"select * from users limit 50\")\n",
    "conn.commit()\n",
    "\n",
    "t = PrettyTable(['user_id', 'first_name', 'last_name', 'gender', 'level'])\n",
    "\n",
    "for (user_id, first_name, last_name, gender, level) in cur:\n",
    "    t.add_row([user_id, first_name, last_name, gender, level])\n",
    "\n",
    "print(t)\n",
    "\n",
    "# user_id, first_name, last_name, gender, level"
   ]
  },
  {
   "cell_type": "markdown",
   "metadata": {},
   "source": [
    "## #5: `songplays` Table\n",
    "#### Extract Data and Songplays Table\n",
    "This one is a little more complicated since information from the songs table, artists table, and original log file are all needed for the `songplays` table. Since the log file does not specify an ID for either the song or the artist, you'll need to get the song ID and artist ID by querying the songs and artists tables to find matches based on song title, artist name, and song duration time.\n",
    "- Implement the `song_select` query in `sql_queries.py` to find the song ID and artist ID based on the title, artist name, and duration of a song.\n",
    "- Select the timestamp, user ID, level, song ID, artist ID, session ID, location, and user agent and set to `songplay_data`\n",
    "\n",
    "#### Insert Records into Songplays Table\n",
    "- Implement the `songplay_table_insert` query and run the cell below to insert records for the songplay actions in this log file into the `songplays` table. Remember to run `create_tables.py` before running the cell below to ensure you've created/resetted the `songplays` table in the sparkify database."
   ]
  },
  {
   "cell_type": "code",
   "execution_count": 83,
   "metadata": {
    "pycharm": {
     "name": "#%%\n"
    }
   },
   "outputs": [],
   "source": [
    "# songplay_id, start_time, user_id, level, song_id, artist_id, session_id, location, user_agent\n",
    "\n",
    "df = df_logs.copy()"
   ]
  },
  {
   "cell_type": "code",
   "execution_count": 84,
   "metadata": {},
   "outputs": [
    {
     "name": "stdout",
     "output_type": "stream",
     "text": [
      "Inserting songplay records.\n",
      "Insert songplay records done\n"
     ]
    }
   ],
   "source": [
    "# songplay_id, start_time, user_id, level, song_id, artist_id, session_id, location, user_agent\n",
    "try:\n",
    "    print('Inserting songplay records.')\n",
    "\n",
    "    for index, row in df.iterrows():\n",
    "\n",
    "        start_time = pd.to_datetime(row.ts, unit='ms') # typecast to timestamp\n",
    "        user_id = row.userId\n",
    "        level = row.level\n",
    "        song_title = row.song\n",
    "        artist_name = row.artist\n",
    "        session_id = row.sessionId\n",
    "        location = row.location\n",
    "        user_agent = row.userAgent\n",
    "        duration = row.length\n",
    "\n",
    "        # parameters data from select song id and artist id\n",
    "        params = (song_title, artist_name, duration)\n",
    "\n",
    "        # get songid and artistid from song and artist tables\n",
    "        cur.execute(song_select, params)\n",
    "        results = cur.fetchone()\n",
    "        # print(f\"results: {results}\")\n",
    "\n",
    "        if results:\n",
    "            song_id, artist_id = results\n",
    "        else:\n",
    "            song_id, artist_id = None, None\n",
    "\n",
    "        # insert songplay record\n",
    "        songplay_data = (start_time, user_id, level, song_id, artist_id, session_id, location, user_agent)\n",
    "        cur.execute(songplay_table_insert, songplay_data)\n",
    "        conn.commit()\n",
    "\n",
    "    print(\"Insert songplay records done\")\n",
    "\n",
    "\n",
    "except Exception as e:\n",
    "    conn.rollback()\n",
    "    print('Error in inserting songplay data. ')\n",
    "    print(e)"
   ]
  },
  {
   "cell_type": "code",
   "execution_count": 85,
   "metadata": {
    "pycharm": {
     "name": "#%%\n"
    }
   },
   "outputs": [
    {
     "name": "stdout",
     "output_type": "stream",
     "text": [
      "+-------------+----------------------------+---------+-------+---------+-----------+------------+------------------------------------------------+-------------------------------------------------------------------------------------------------------------------------------------------+\n",
      "| songplay_id |         start_time         | user_id | level | song_id | artist_id | session_id |                    location                    |                                                                 user_agent                                                                |\n",
      "+-------------+----------------------------+---------+-------+---------+-----------+------------+------------------------------------------------+-------------------------------------------------------------------------------------------------------------------------------------------+\n",
      "|      1      | 2018-11-11 02:33:56.796000 |    69   |  free |   None  |    None   |    455     |  Philadelphia-Camden-Wilmington, PA-NJ-DE-MD   |         \"Mozilla/5.0 (Macintosh; Intel Mac OS X 10_9_4) AppleWebKit/537.36 (KHTML, like Gecko) Chrome/36.0.1985.125 Safari/537.36\"        |\n",
      "|      2      | 2018-11-11 02:36:10.796000 |    69   |  free |   None  |    None   |    455     |  Philadelphia-Camden-Wilmington, PA-NJ-DE-MD   |         \"Mozilla/5.0 (Macintosh; Intel Mac OS X 10_9_4) AppleWebKit/537.36 (KHTML, like Gecko) Chrome/36.0.1985.125 Safari/537.36\"        |\n",
      "|      3      | 2018-11-11 02:40:34.796000 |    69   |  free |   None  |    None   |    455     |  Philadelphia-Camden-Wilmington, PA-NJ-DE-MD   |         \"Mozilla/5.0 (Macintosh; Intel Mac OS X 10_9_4) AppleWebKit/537.36 (KHTML, like Gecko) Chrome/36.0.1985.125 Safari/537.36\"        |\n",
      "|      4      | 2018-11-11 04:36:13.796000 |    32   |  free |   None  |    None   |    456     |     New York-Newark-Jersey City, NY-NJ-PA      |              \"Mozilla/5.0 (Windows NT 6.1; WOW64) AppleWebKit/537.36 (KHTML, like Gecko) Chrome/36.0.1985.125 Safari/537.36\"              |\n",
      "|      5      | 2018-11-11 04:36:46.796000 |    75   |  free |   None  |    None   |    284     |                  Columbia, SC                  |         \"Mozilla/5.0 (Macintosh; Intel Mac OS X 10_9_3) AppleWebKit/537.75.14 (KHTML, like Gecko) Version/7.0.3 Safari/537.75.14\"         |\n",
      "|      6      | 2018-11-11 09:56:28.796000 |    92   |  free |   None  |    None   |    328     |                 Palestine, TX                  |                             Mozilla/5.0 (Macintosh; Intel Mac OS X 10.9; rv:31.0) Gecko/20100101 Firefox/31.0                             |\n",
      "|      7      | 2018-11-11 10:00:47.796000 |    92   |  free |   None  |    None   |    328     |                 Palestine, TX                  |                             Mozilla/5.0 (Macintosh; Intel Mac OS X 10.9; rv:31.0) Gecko/20100101 Firefox/31.0                             |\n",
      "|      8      | 2018-11-11 10:04:07.796000 |    92   |  free |   None  |    None   |    328     |                 Palestine, TX                  |                             Mozilla/5.0 (Macintosh; Intel Mac OS X 10.9; rv:31.0) Gecko/20100101 Firefox/31.0                             |\n",
      "|      9      | 2018-11-11 10:08:28.796000 |    92   |  free |   None  |    None   |    328     |                 Palestine, TX                  |                             Mozilla/5.0 (Macintosh; Intel Mac OS X 10.9; rv:31.0) Gecko/20100101 Firefox/31.0                             |\n",
      "|      10     | 2018-11-11 10:12:00.796000 |    92   |  free |   None  |    None   |    328     |                 Palestine, TX                  |                             Mozilla/5.0 (Macintosh; Intel Mac OS X 10.9; rv:31.0) Gecko/20100101 Firefox/31.0                             |\n",
      "|      11     | 2018-11-11 10:27:43.796000 |    49   |  free |   None  |    None   |    437     |       San Francisco-Oakland-Hayward, CA        |                                     Mozilla/5.0 (Windows NT 5.1; rv:31.0) Gecko/20100101 Firefox/31.0                                     |\n",
      "|      12     | 2018-11-11 10:33:44.796000 |    49   |  free |   None  |    None   |    437     |       San Francisco-Oakland-Hayward, CA        |                                     Mozilla/5.0 (Windows NT 5.1; rv:31.0) Gecko/20100101 Firefox/31.0                                     |\n",
      "|      13     | 2018-11-11 10:36:22.796000 |    49   |  free |   None  |    None   |    437     |       San Francisco-Oakland-Hayward, CA        |                                     Mozilla/5.0 (Windows NT 5.1; rv:31.0) Gecko/20100101 Firefox/31.0                                     |\n",
      "|      14     | 2018-11-11 10:40:14.796000 |    49   |  free |   None  |    None   |    437     |       San Francisco-Oakland-Hayward, CA        |                                     Mozilla/5.0 (Windows NT 5.1; rv:31.0) Gecko/20100101 Firefox/31.0                                     |\n",
      "|      15     | 2018-11-11 10:43:23.796000 |    49   |  free |   None  |    None   |    437     |       San Francisco-Oakland-Hayward, CA        |                                     Mozilla/5.0 (Windows NT 5.1; rv:31.0) Gecko/20100101 Firefox/31.0                                     |\n",
      "|      16     | 2018-11-11 10:46:18.796000 |    49   |  free |   None  |    None   |    437     |       San Francisco-Oakland-Hayward, CA        |                                     Mozilla/5.0 (Windows NT 5.1; rv:31.0) Gecko/20100101 Firefox/31.0                                     |\n",
      "|      17     | 2018-11-11 11:14:51.796000 |    49   |  free |   None  |    None   |    437     |       San Francisco-Oakland-Hayward, CA        |                                     Mozilla/5.0 (Windows NT 5.1; rv:31.0) Gecko/20100101 Firefox/31.0                                     |\n",
      "|      18     | 2018-11-11 13:41:22.796000 |    49   |  free |   None  |    None   |    469     |       San Francisco-Oakland-Hayward, CA        |                                     Mozilla/5.0 (Windows NT 5.1; rv:31.0) Gecko/20100101 Firefox/31.0                                     |\n",
      "|      19     | 2018-11-11 13:52:23.796000 |    88   |  free |   None  |    None   |    441     |    Sacramento--Roseville--Arden-Arcade, CA     |         \"Mozilla/5.0 (Macintosh; Intel Mac OS X 10_9_4) AppleWebKit/537.36 (KHTML, like Gecko) Chrome/36.0.1985.143 Safari/537.36\"        |\n",
      "|      20     | 2018-11-11 13:58:22.796000 |    88   |  free |   None  |    None   |    441     |    Sacramento--Roseville--Arden-Arcade, CA     |         \"Mozilla/5.0 (Macintosh; Intel Mac OS X 10_9_4) AppleWebKit/537.36 (KHTML, like Gecko) Chrome/36.0.1985.143 Safari/537.36\"        |\n",
      "|      21     | 2018-11-11 14:05:43.796000 |    96   |  free |   None  |    None   |    443     |                  Richmond, VA                  |          \"Mozilla/5.0 (Macintosh; Intel Mac OS X 10_9_4) AppleWebKit/537.77.4 (KHTML, like Gecko) Version/7.0.5 Safari/537.77.4\"          |\n",
      "|      22     | 2018-11-11 14:07:54.796000 |    26   |  free |   None  |    None   |    452     |       San Jose-Sunnyvale-Santa Clara, CA       | \"Mozilla/5.0 (X11; Linux x86_64) AppleWebKit/537.36 (KHTML, like Gecko) Ubuntu Chromium/36.0.1985.125 Chrome/36.0.1985.125 Safari/537.36\" |\n",
      "|      23     | 2018-11-11 14:09:36.796000 |    96   |  free |   None  |    None   |    443     |                  Richmond, VA                  |          \"Mozilla/5.0 (Macintosh; Intel Mac OS X 10_9_4) AppleWebKit/537.77.4 (KHTML, like Gecko) Version/7.0.5 Safari/537.77.4\"          |\n",
      "|      24     | 2018-11-11 14:14:29.796000 |    96   |  free |   None  |    None   |    443     |                  Richmond, VA                  |          \"Mozilla/5.0 (Macintosh; Intel Mac OS X 10_9_4) AppleWebKit/537.77.4 (KHTML, like Gecko) Version/7.0.5 Safari/537.77.4\"          |\n",
      "|      25     | 2018-11-11 14:15:06.796000 |    44   |  paid |   None  |    None   |    448     |            Waterloo-Cedar Falls, IA            |                             Mozilla/5.0 (Macintosh; Intel Mac OS X 10.9; rv:31.0) Gecko/20100101 Firefox/31.0                             |\n",
      "|      26     | 2018-11-11 14:17:52.796000 |    96   |  free |   None  |    None   |    443     |                  Richmond, VA                  |          \"Mozilla/5.0 (Macintosh; Intel Mac OS X 10_9_4) AppleWebKit/537.77.4 (KHTML, like Gecko) Version/7.0.5 Safari/537.77.4\"          |\n",
      "|      27     | 2018-11-11 14:19:37.796000 |    44   |  paid |   None  |    None   |    448     |            Waterloo-Cedar Falls, IA            |                             Mozilla/5.0 (Macintosh; Intel Mac OS X 10.9; rv:31.0) Gecko/20100101 Firefox/31.0                             |\n",
      "|      28     | 2018-11-11 14:24:58.796000 |    44   |  paid |   None  |    None   |    448     |            Waterloo-Cedar Falls, IA            |                             Mozilla/5.0 (Macintosh; Intel Mac OS X 10.9; rv:31.0) Gecko/20100101 Firefox/31.0                             |\n",
      "|      29     | 2018-11-11 14:30:05.796000 |    44   |  paid |   None  |    None   |    448     |            Waterloo-Cedar Falls, IA            |                             Mozilla/5.0 (Macintosh; Intel Mac OS X 10.9; rv:31.0) Gecko/20100101 Firefox/31.0                             |\n",
      "|      30     | 2018-11-11 14:33:53.796000 |    44   |  paid |   None  |    None   |    448     |            Waterloo-Cedar Falls, IA            |                             Mozilla/5.0 (Macintosh; Intel Mac OS X 10.9; rv:31.0) Gecko/20100101 Firefox/31.0                             |\n",
      "|      31     | 2018-11-11 14:37:16.796000 |    44   |  paid |   None  |    None   |    448     |            Waterloo-Cedar Falls, IA            |                             Mozilla/5.0 (Macintosh; Intel Mac OS X 10.9; rv:31.0) Gecko/20100101 Firefox/31.0                             |\n",
      "|      32     | 2018-11-11 14:40:58.796000 |    44   |  paid |   None  |    None   |    448     |            Waterloo-Cedar Falls, IA            |                             Mozilla/5.0 (Macintosh; Intel Mac OS X 10.9; rv:31.0) Gecko/20100101 Firefox/31.0                             |\n",
      "|      33     | 2018-11-11 14:44:29.796000 |    44   |  paid |   None  |    None   |    448     |            Waterloo-Cedar Falls, IA            |                             Mozilla/5.0 (Macintosh; Intel Mac OS X 10.9; rv:31.0) Gecko/20100101 Firefox/31.0                             |\n",
      "|      34     | 2018-11-11 14:47:24.796000 |    44   |  paid |   None  |    None   |    448     |            Waterloo-Cedar Falls, IA            |                             Mozilla/5.0 (Macintosh; Intel Mac OS X 10.9; rv:31.0) Gecko/20100101 Firefox/31.0                             |\n",
      "|      35     | 2018-11-11 14:47:42.796000 |    44   |  paid |   None  |    None   |    448     |            Waterloo-Cedar Falls, IA            |                             Mozilla/5.0 (Macintosh; Intel Mac OS X 10.9; rv:31.0) Gecko/20100101 Firefox/31.0                             |\n",
      "|      36     | 2018-11-11 14:51:55.796000 |    44   |  paid |   None  |    None   |    448     |            Waterloo-Cedar Falls, IA            |                             Mozilla/5.0 (Macintosh; Intel Mac OS X 10.9; rv:31.0) Gecko/20100101 Firefox/31.0                             |\n",
      "|      37     | 2018-11-11 14:54:07.796000 |    67   |  free |   None  |    None   |    414     | Nashville-Davidson--Murfreesboro--Franklin, TN |         \"Mozilla/5.0 (Macintosh; Intel Mac OS X 10_9_4) AppleWebKit/537.36 (KHTML, like Gecko) Chrome/36.0.1985.125 Safari/537.36\"        |\n",
      "|      38     | 2018-11-11 14:56:21.796000 |    44   |  paid |   None  |    None   |    448     |            Waterloo-Cedar Falls, IA            |                             Mozilla/5.0 (Macintosh; Intel Mac OS X 10.9; rv:31.0) Gecko/20100101 Firefox/31.0                             |\n",
      "|      39     | 2018-11-11 14:57:24.796000 |    67   |  free |   None  |    None   |    414     | Nashville-Davidson--Murfreesboro--Franklin, TN |         \"Mozilla/5.0 (Macintosh; Intel Mac OS X 10_9_4) AppleWebKit/537.36 (KHTML, like Gecko) Chrome/36.0.1985.125 Safari/537.36\"        |\n",
      "|      40     | 2018-11-11 15:00:12.796000 |    44   |  paid |   None  |    None   |    448     |            Waterloo-Cedar Falls, IA            |                             Mozilla/5.0 (Macintosh; Intel Mac OS X 10.9; rv:31.0) Gecko/20100101 Firefox/31.0                             |\n",
      "|      41     | 2018-11-11 15:00:37.796000 |    67   |  free |   None  |    None   |    414     | Nashville-Davidson--Murfreesboro--Franklin, TN |         \"Mozilla/5.0 (Macintosh; Intel Mac OS X 10_9_4) AppleWebKit/537.36 (KHTML, like Gecko) Chrome/36.0.1985.125 Safari/537.36\"        |\n",
      "|      78     | 2018-11-23 00:20:45.796000 |    66   |  free |   None  |    None   |    815     |            Harrisburg-Carlisle, PA             |         \"Mozilla/5.0 (Macintosh; Intel Mac OS X 10_9_4) AppleWebKit/537.36 (KHTML, like Gecko) Chrome/36.0.1985.125 Safari/537.36\"        |\n",
      "|      42     | 2018-11-11 15:04:26.796000 |    67   |  free |   None  |    None   |    414     | Nashville-Davidson--Murfreesboro--Franklin, TN |         \"Mozilla/5.0 (Macintosh; Intel Mac OS X 10_9_4) AppleWebKit/537.36 (KHTML, like Gecko) Chrome/36.0.1985.125 Safari/537.36\"        |\n",
      "|      43     | 2018-11-11 15:07:26.796000 |    67   |  free |   None  |    None   |    414     | Nashville-Davidson--Murfreesboro--Franklin, TN |         \"Mozilla/5.0 (Macintosh; Intel Mac OS X 10_9_4) AppleWebKit/537.36 (KHTML, like Gecko) Chrome/36.0.1985.125 Safari/537.36\"        |\n",
      "|      44     | 2018-11-11 15:10:12.796000 |    67   |  free |   None  |    None   |    414     | Nashville-Davidson--Murfreesboro--Franklin, TN |         \"Mozilla/5.0 (Macintosh; Intel Mac OS X 10_9_4) AppleWebKit/537.36 (KHTML, like Gecko) Chrome/36.0.1985.125 Safari/537.36\"        |\n",
      "|      45     | 2018-11-11 15:14:56.796000 |    67   |  free |   None  |    None   |    414     | Nashville-Davidson--Murfreesboro--Franklin, TN |         \"Mozilla/5.0 (Macintosh; Intel Mac OS X 10_9_4) AppleWebKit/537.36 (KHTML, like Gecko) Chrome/36.0.1985.125 Safari/537.36\"        |\n",
      "|      46     | 2018-11-11 16:01:19.796000 |    62   |  free |   None  |    None   |    218     |      Houston-The Woodlands-Sugar Land, TX      |              \"Mozilla/5.0 (Macintosh; Intel Mac OS X 10_10) AppleWebKit/538.46 (KHTML, like Gecko) Version/8.0 Safari/538.46\"             |\n",
      "|      47     | 2018-11-11 16:05:35.796000 |    62   |  free |   None  |    None   |    218     |      Houston-The Woodlands-Sugar Land, TX      |              \"Mozilla/5.0 (Macintosh; Intel Mac OS X 10_10) AppleWebKit/538.46 (KHTML, like Gecko) Version/8.0 Safari/538.46\"             |\n",
      "|      48     | 2018-11-11 16:09:12.796000 |    62   |  free |   None  |    None   |    218     |      Houston-The Woodlands-Sugar Land, TX      |              \"Mozilla/5.0 (Macintosh; Intel Mac OS X 10_10) AppleWebKit/538.46 (KHTML, like Gecko) Version/8.0 Safari/538.46\"             |\n",
      "|      49     | 2018-11-11 16:13:43.796000 |    62   |  free |   None  |    None   |    218     |      Houston-The Woodlands-Sugar Land, TX      |              \"Mozilla/5.0 (Macintosh; Intel Mac OS X 10_10) AppleWebKit/538.46 (KHTML, like Gecko) Version/8.0 Safari/538.46\"             |\n",
      "+-------------+----------------------------+---------+-------+---------+-----------+------------+------------------------------------------------+-------------------------------------------------------------------------------------------------------------------------------------------+\n"
     ]
    }
   ],
   "source": [
    "# Read from songplays data\n",
    "\n",
    "cur.execute(\"select * from songplays limit 50\")\n",
    "conn.commit()\n",
    "\n",
    "t = PrettyTable(\n",
    "    ['songplay_id', 'start_time', 'user_id', 'level', 'song_id', 'artist_id', 'session_id', 'location', 'user_agent'])\n",
    "\n",
    "for (songplay_id, start_time, user_id, level, song_id, artist_id, session_id, location, user_agent) in cur:\n",
    "    t.add_row([songplay_id, start_time, user_id, level, song_id, artist_id, session_id, location, user_agent])\n",
    "\n",
    "print(t)\n",
    "\n",
    "# songplay_id, start_time, user_id, level, song_id, artist_id, session_id, location, user_agent"
   ]
  },
  {
   "cell_type": "code",
   "execution_count": 86,
   "metadata": {},
   "outputs": [],
   "source": [
    "# test_data = ('Love Story', 'Taylor Swift')\n",
    "#\n",
    "# cur.execute(\"\"\"\n",
    "# select song_id, artist_id\n",
    "# from songs\n",
    "# inner join artists\n",
    "# using (artist_id)\n",
    "# where title = %s and name = %s\n",
    "# \"\"\", test_data)\n",
    "# conn.commit()\n",
    "#\n",
    "# res = cur.fetchone()\n",
    "# print(res)\n",
    "#\n",
    "# # res = cur.fetchone()\n",
    "#\n",
    "# # t = PrettyTable(['song_id', 'artist_id'])\n",
    "# # for (a, b) in cur:\n",
    "# #     t.add_row([a, b])\n",
    "# #\n",
    "# # print(t)"
   ]
  },
  {
   "cell_type": "markdown",
   "metadata": {},
   "source": [
    "# Close Connection to Sparkify Database"
   ]
  },
  {
   "cell_type": "code",
   "execution_count": 87,
   "metadata": {},
   "outputs": [],
   "source": [
    "conn.close()"
   ]
  },
  {
   "cell_type": "markdown",
   "metadata": {},
   "source": [
    "# Implement `etl.py`\n",
    "Use what you've completed in this notebook to implement `etl.py`."
   ]
  },
  {
   "cell_type": "code",
   "execution_count": 87,
   "outputs": [],
   "source": [],
   "metadata": {
    "collapsed": false,
    "pycharm": {
     "name": "#%%\n"
    }
   }
  }
 ],
 "metadata": {
  "kernelspec": {
   "display_name": "Python 3 (ipykernel)",
   "language": "python",
   "name": "python3"
  },
  "language_info": {
   "codemirror_mode": {
    "name": "ipython",
    "version": 3
   },
   "file_extension": ".py",
   "mimetype": "text/x-python",
   "name": "python",
   "nbconvert_exporter": "python",
   "pygments_lexer": "ipython3",
   "version": "3.9.7"
  }
 },
 "nbformat": 4,
 "nbformat_minor": 2
}