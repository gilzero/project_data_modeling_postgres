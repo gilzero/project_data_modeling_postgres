{
 "cells": [
  {
   "cell_type": "markdown",
   "metadata": {},
   "source": [
    "# ETL Processes\n",
    "Use this notebook to develop the ETL process for each of your tables before completing the `etl.py` file to load the whole datasets."
   ]
  },
  {
   "cell_type": "code",
   "execution_count": 108,
   "metadata": {},
   "outputs": [],
   "source": [
    "import os\n",
    "import glob\n",
    "import psycopg2\n",
    "import pandas as pd\n",
    "from datetime import datetime\n",
    "from sql_queries import *"
   ]
  },
  {
   "cell_type": "code",
   "execution_count": 4,
   "metadata": {},
   "outputs": [],
   "source": [
    "conn = psycopg2.connect(\"host=127.0.0.1 dbname=sparkifydb user=newuser password=student\")\n",
    "cur = conn.cursor()"
   ]
  },
  {
   "cell_type": "code",
   "execution_count": 5,
   "metadata": {},
   "outputs": [],
   "source": [
    "def get_files(filepath):\n",
    "    all_files = []\n",
    "    for root, dirs, files in os.walk(filepath):\n",
    "        files = glob.glob(os.path.join(root, '*.json'))\n",
    "        for f in files:\n",
    "            all_files.append(os.path.abspath(f))\n",
    "\n",
    "    return all_files"
   ]
  },
  {
   "cell_type": "markdown",
   "metadata": {},
   "source": [
    "# Process `song_data`\n",
    "In this first part, you'll perform ETL on the first dataset, `song_data`, to create the `songs` and `artists` dimensional tables.\n",
    "\n",
    "Let's perform ETL on a single song file and load a single record into each table to start.\n",
    "- Use the `get_files` function provided above to get a list of all song JSON files in `data/song_data`\n",
    "- Select the first song in this list\n",
    "- Read the song file and view the data"
   ]
  },
  {
   "cell_type": "code",
   "execution_count": 6,
   "metadata": {},
   "outputs": [],
   "source": [
    "song_files = get_files('data/song_data')"
   ]
  },
  {
   "cell_type": "code",
   "execution_count": 7,
   "outputs": [
    {
     "data": {
      "text/plain": "['/Users/apple/pyprojects/project_data_modeling_postgres/data/song_data/A/A/A/TRAAAEF128F4273421.json',\n '/Users/apple/pyprojects/project_data_modeling_postgres/data/song_data/A/A/A/TRAAARJ128F9320760.json',\n '/Users/apple/pyprojects/project_data_modeling_postgres/data/song_data/A/A/A/TRAAAFD128F92F423A.json',\n '/Users/apple/pyprojects/project_data_modeling_postgres/data/song_data/A/A/A/TRAAAPK128E0786D96.json',\n '/Users/apple/pyprojects/project_data_modeling_postgres/data/song_data/A/A/A/TRAAAVO128F93133D4.json',\n '/Users/apple/pyprojects/project_data_modeling_postgres/data/song_data/A/A/A/TRAAABD128F429CF47.json',\n '/Users/apple/pyprojects/project_data_modeling_postgres/data/song_data/A/A/A/TRAAAAW128F429D538.json',\n '/Users/apple/pyprojects/project_data_modeling_postgres/data/song_data/A/A/A/TRAAADZ128F9348C2E.json',\n '/Users/apple/pyprojects/project_data_modeling_postgres/data/song_data/A/A/A/TRAAAVG12903CFA543.json',\n '/Users/apple/pyprojects/project_data_modeling_postgres/data/song_data/A/A/A/TRAAAMO128F1481E7F.json',\n '/Users/apple/pyprojects/project_data_modeling_postgres/data/song_data/A/A/A/TRAAAMQ128F1460CD3.json',\n '/Users/apple/pyprojects/project_data_modeling_postgres/data/song_data/A/A/C/TRAACOW128F933E35F.json',\n '/Users/apple/pyprojects/project_data_modeling_postgres/data/song_data/A/A/C/TRAACPE128F421C1B9.json',\n '/Users/apple/pyprojects/project_data_modeling_postgres/data/song_data/A/A/C/TRAACTB12903CAAF15.json',\n '/Users/apple/pyprojects/project_data_modeling_postgres/data/song_data/A/A/C/TRAACFV128F935E50B.json',\n '/Users/apple/pyprojects/project_data_modeling_postgres/data/song_data/A/A/C/TRAACIW12903CC0F6D.json',\n '/Users/apple/pyprojects/project_data_modeling_postgres/data/song_data/A/A/C/TRAACVS128E078BE39.json',\n '/Users/apple/pyprojects/project_data_modeling_postgres/data/song_data/A/A/C/TRAACER128F4290F96.json',\n '/Users/apple/pyprojects/project_data_modeling_postgres/data/song_data/A/A/C/TRAACSL128F93462F4.json',\n '/Users/apple/pyprojects/project_data_modeling_postgres/data/song_data/A/A/C/TRAACHN128F1489601.json',\n '/Users/apple/pyprojects/project_data_modeling_postgres/data/song_data/A/A/C/TRAACLV128F427E123.json',\n '/Users/apple/pyprojects/project_data_modeling_postgres/data/song_data/A/A/C/TRAACZK128F4243829.json',\n '/Users/apple/pyprojects/project_data_modeling_postgres/data/song_data/A/A/C/TRAACCG128F92E8A55.json',\n '/Users/apple/pyprojects/project_data_modeling_postgres/data/song_data/A/A/C/TRAACQT128F9331780.json',\n '/Users/apple/pyprojects/project_data_modeling_postgres/data/song_data/A/A/C/TRAACNS128F14A2DF5.json',\n '/Users/apple/pyprojects/project_data_modeling_postgres/data/song_data/A/A/B/TRAABDL12903CAABBA.json',\n '/Users/apple/pyprojects/project_data_modeling_postgres/data/song_data/A/A/B/TRAABXG128F9318EBD.json',\n '/Users/apple/pyprojects/project_data_modeling_postgres/data/song_data/A/A/B/TRAABYN12903CFD305.json',\n '/Users/apple/pyprojects/project_data_modeling_postgres/data/song_data/A/A/B/TRAABNV128F425CEE1.json',\n '/Users/apple/pyprojects/project_data_modeling_postgres/data/song_data/A/A/B/TRAABJL12903CDCF1A.json',\n '/Users/apple/pyprojects/project_data_modeling_postgres/data/song_data/A/A/B/TRAABCL128F4286650.json',\n '/Users/apple/pyprojects/project_data_modeling_postgres/data/song_data/A/A/B/TRAABYW128F4244559.json',\n '/Users/apple/pyprojects/project_data_modeling_postgres/data/song_data/A/A/B/TRAABJV128F1460C49.json',\n '/Users/apple/pyprojects/project_data_modeling_postgres/data/song_data/A/A/B/TRAABLR128F423B7E3.json',\n '/Users/apple/pyprojects/project_data_modeling_postgres/data/song_data/A/A/B/TRAABRB128F9306DD5.json',\n '/Users/apple/pyprojects/project_data_modeling_postgres/data/song_data/A/A/B/TRAABVM128F92CA9DC.json',\n '/Users/apple/pyprojects/project_data_modeling_postgres/data/song_data/A/B/A/TRABAVQ12903CBF7E0.json',\n '/Users/apple/pyprojects/project_data_modeling_postgres/data/song_data/A/B/A/TRABAIO128F42938F9.json',\n '/Users/apple/pyprojects/project_data_modeling_postgres/data/song_data/A/B/A/TRABAWW128F4250A31.json',\n '/Users/apple/pyprojects/project_data_modeling_postgres/data/song_data/A/B/A/TRABAFJ128F42AF24E.json',\n '/Users/apple/pyprojects/project_data_modeling_postgres/data/song_data/A/B/A/TRABAXV128F92F6AE3.json',\n '/Users/apple/pyprojects/project_data_modeling_postgres/data/song_data/A/B/A/TRABAFP128F931E9A1.json',\n '/Users/apple/pyprojects/project_data_modeling_postgres/data/song_data/A/B/A/TRABAXL128F424FC50.json',\n '/Users/apple/pyprojects/project_data_modeling_postgres/data/song_data/A/B/A/TRABATO128F42627E9.json',\n '/Users/apple/pyprojects/project_data_modeling_postgres/data/song_data/A/B/A/TRABAXR128F426515F.json',\n '/Users/apple/pyprojects/project_data_modeling_postgres/data/song_data/A/B/A/TRABACN128F425B784.json',\n '/Users/apple/pyprojects/project_data_modeling_postgres/data/song_data/A/B/A/TRABAZH128F930419A.json',\n '/Users/apple/pyprojects/project_data_modeling_postgres/data/song_data/A/B/C/TRABCFL128F149BB0D.json',\n '/Users/apple/pyprojects/project_data_modeling_postgres/data/song_data/A/B/C/TRABCAJ12903CDFCC2.json',\n '/Users/apple/pyprojects/project_data_modeling_postgres/data/song_data/A/B/C/TRABCKL128F423A778.json',\n '/Users/apple/pyprojects/project_data_modeling_postgres/data/song_data/A/B/C/TRABCEI128F424C983.json',\n '/Users/apple/pyprojects/project_data_modeling_postgres/data/song_data/A/B/C/TRABCEC128F426456E.json',\n '/Users/apple/pyprojects/project_data_modeling_postgres/data/song_data/A/B/C/TRABCUQ128E0783E2B.json',\n '/Users/apple/pyprojects/project_data_modeling_postgres/data/song_data/A/B/C/TRABCRU128F423F449.json',\n '/Users/apple/pyprojects/project_data_modeling_postgres/data/song_data/A/B/C/TRABCXB128F4286BD3.json',\n '/Users/apple/pyprojects/project_data_modeling_postgres/data/song_data/A/B/C/TRABCPZ128F4275C32.json',\n '/Users/apple/pyprojects/project_data_modeling_postgres/data/song_data/A/B/C/TRABCYE128F934CE1D.json',\n '/Users/apple/pyprojects/project_data_modeling_postgres/data/song_data/A/B/C/TRABCIX128F4265903.json',\n '/Users/apple/pyprojects/project_data_modeling_postgres/data/song_data/A/B/C/TRABCTK128F934B224.json',\n '/Users/apple/pyprojects/project_data_modeling_postgres/data/song_data/A/B/B/TRABBKX128F4285205.json',\n '/Users/apple/pyprojects/project_data_modeling_postgres/data/song_data/A/B/B/TRABBBV128F42967D7.json',\n '/Users/apple/pyprojects/project_data_modeling_postgres/data/song_data/A/B/B/TRABBOR128F4286200.json',\n '/Users/apple/pyprojects/project_data_modeling_postgres/data/song_data/A/B/B/TRABBAM128F429D223.json',\n '/Users/apple/pyprojects/project_data_modeling_postgres/data/song_data/A/B/B/TRABBVJ128F92F7EAA.json',\n '/Users/apple/pyprojects/project_data_modeling_postgres/data/song_data/A/B/B/TRABBXU128F92FEF48.json',\n '/Users/apple/pyprojects/project_data_modeling_postgres/data/song_data/A/B/B/TRABBZN12903CD9297.json',\n '/Users/apple/pyprojects/project_data_modeling_postgres/data/song_data/A/B/B/TRABBTA128F933D304.json',\n '/Users/apple/pyprojects/project_data_modeling_postgres/data/song_data/A/B/B/TRABBNP128F932546F.json',\n '/Users/apple/pyprojects/project_data_modeling_postgres/data/song_data/A/B/B/TRABBOP128F931B50D.json',\n '/Users/apple/pyprojects/project_data_modeling_postgres/data/song_data/A/B/B/TRABBLU128F93349CF.json',\n '/Users/apple/pyprojects/project_data_modeling_postgres/data/song_data/A/B/B/TRABBJE12903CDB442.json']"
     },
     "execution_count": 7,
     "metadata": {},
     "output_type": "execute_result"
    }
   ],
   "source": [
    "song_files"
   ],
   "metadata": {
    "collapsed": false,
    "pycharm": {
     "name": "#%%\n"
    }
   }
  },
  {
   "cell_type": "code",
   "execution_count": 8,
   "outputs": [
    {
     "data": {
      "text/plain": "71"
     },
     "execution_count": 8,
     "metadata": {},
     "output_type": "execute_result"
    }
   ],
   "source": [
    "len(song_files)"
   ],
   "metadata": {
    "collapsed": false,
    "pycharm": {
     "name": "#%%\n"
    }
   }
  },
  {
   "cell_type": "code",
   "execution_count": 9,
   "outputs": [
    {
     "data": {
      "text/plain": "                                   0\nnum_songs                          1\nartist_id         ARMJAGH1187FB546F3\nartist_latitude             35.14968\nartist_longitude           -90.04892\nartist_location          Memphis, TN\nartist_name             The Box Tops\nsong_id           SOCIWDW12A8C13D406\ntitle                      Soul Deep\nduration                   148.03546\nyear                            1969",
      "text/html": "<div>\n<style scoped>\n    .dataframe tbody tr th:only-of-type {\n        vertical-align: middle;\n    }\n\n    .dataframe tbody tr th {\n        vertical-align: top;\n    }\n\n    .dataframe thead th {\n        text-align: right;\n    }\n</style>\n<table border=\"1\" class=\"dataframe\">\n  <thead>\n    <tr style=\"text-align: right;\">\n      <th></th>\n      <th>0</th>\n    </tr>\n  </thead>\n  <tbody>\n    <tr>\n      <th>num_songs</th>\n      <td>1</td>\n    </tr>\n    <tr>\n      <th>artist_id</th>\n      <td>ARMJAGH1187FB546F3</td>\n    </tr>\n    <tr>\n      <th>artist_latitude</th>\n      <td>35.14968</td>\n    </tr>\n    <tr>\n      <th>artist_longitude</th>\n      <td>-90.04892</td>\n    </tr>\n    <tr>\n      <th>artist_location</th>\n      <td>Memphis, TN</td>\n    </tr>\n    <tr>\n      <th>artist_name</th>\n      <td>The Box Tops</td>\n    </tr>\n    <tr>\n      <th>song_id</th>\n      <td>SOCIWDW12A8C13D406</td>\n    </tr>\n    <tr>\n      <th>title</th>\n      <td>Soul Deep</td>\n    </tr>\n    <tr>\n      <th>duration</th>\n      <td>148.03546</td>\n    </tr>\n    <tr>\n      <th>year</th>\n      <td>1969</td>\n    </tr>\n  </tbody>\n</table>\n</div>"
     },
     "execution_count": 9,
     "metadata": {},
     "output_type": "execute_result"
    }
   ],
   "source": [
    "pd.read_json(song_files[5], lines=True).T"
   ],
   "metadata": {
    "collapsed": false,
    "pycharm": {
     "name": "#%%\n"
    }
   }
  },
  {
   "cell_type": "code",
   "execution_count": 10,
   "metadata": {},
   "outputs": [
    {
     "data": {
      "text/plain": "['/Users/apple/pyprojects/project_data_modeling_postgres/data/log_data/2018/11/2018-11-11-events.json',\n '/Users/apple/pyprojects/project_data_modeling_postgres/data/log_data/2018/11/2018-11-23-events.json',\n '/Users/apple/pyprojects/project_data_modeling_postgres/data/log_data/2018/11/2018-11-18-events.json',\n '/Users/apple/pyprojects/project_data_modeling_postgres/data/log_data/2018/11/2018-11-04-events.json',\n '/Users/apple/pyprojects/project_data_modeling_postgres/data/log_data/2018/11/2018-11-01-events.json',\n '/Users/apple/pyprojects/project_data_modeling_postgres/data/log_data/2018/11/2018-11-14-events.json',\n '/Users/apple/pyprojects/project_data_modeling_postgres/data/log_data/2018/11/2018-11-08-events.json',\n '/Users/apple/pyprojects/project_data_modeling_postgres/data/log_data/2018/11/2018-11-26-events.json',\n '/Users/apple/pyprojects/project_data_modeling_postgres/data/log_data/2018/11/2018-11-25-events.json',\n '/Users/apple/pyprojects/project_data_modeling_postgres/data/log_data/2018/11/2018-11-17-events.json',\n '/Users/apple/pyprojects/project_data_modeling_postgres/data/log_data/2018/11/2018-11-02-events.json',\n '/Users/apple/pyprojects/project_data_modeling_postgres/data/log_data/2018/11/2018-11-30-events.json',\n '/Users/apple/pyprojects/project_data_modeling_postgres/data/log_data/2018/11/2018-11-07-events.json',\n '/Users/apple/pyprojects/project_data_modeling_postgres/data/log_data/2018/11/2018-11-29-events.json',\n '/Users/apple/pyprojects/project_data_modeling_postgres/data/log_data/2018/11/2018-11-20-events.json',\n '/Users/apple/pyprojects/project_data_modeling_postgres/data/log_data/2018/11/2018-11-12-events.json',\n '/Users/apple/pyprojects/project_data_modeling_postgres/data/log_data/2018/11/2018-11-09-events.json',\n '/Users/apple/pyprojects/project_data_modeling_postgres/data/log_data/2018/11/2018-11-27-events.json',\n '/Users/apple/pyprojects/project_data_modeling_postgres/data/log_data/2018/11/2018-11-15-events.json',\n '/Users/apple/pyprojects/project_data_modeling_postgres/data/log_data/2018/11/2018-11-05-events.json',\n '/Users/apple/pyprojects/project_data_modeling_postgres/data/log_data/2018/11/2018-11-19-events.json',\n '/Users/apple/pyprojects/project_data_modeling_postgres/data/log_data/2018/11/2018-11-22-events.json',\n '/Users/apple/pyprojects/project_data_modeling_postgres/data/log_data/2018/11/2018-11-10-events.json',\n '/Users/apple/pyprojects/project_data_modeling_postgres/data/log_data/2018/11/2018-11-13-events.json',\n '/Users/apple/pyprojects/project_data_modeling_postgres/data/log_data/2018/11/2018-11-21-events.json',\n '/Users/apple/pyprojects/project_data_modeling_postgres/data/log_data/2018/11/2018-11-06-events.json',\n '/Users/apple/pyprojects/project_data_modeling_postgres/data/log_data/2018/11/2018-11-28-events.json',\n '/Users/apple/pyprojects/project_data_modeling_postgres/data/log_data/2018/11/2018-11-03-events.json',\n '/Users/apple/pyprojects/project_data_modeling_postgres/data/log_data/2018/11/2018-11-16-events.json',\n '/Users/apple/pyprojects/project_data_modeling_postgres/data/log_data/2018/11/2018-11-24-events.json']"
     },
     "execution_count": 10,
     "metadata": {},
     "output_type": "execute_result"
    }
   ],
   "source": [
    "filepath = get_files('data/log_data')\n",
    "filepath\n"
   ]
  },
  {
   "cell_type": "code",
   "execution_count": 102,
   "outputs": [
    {
     "data": {
      "text/plain": "('SONHOTT12A8C13493C',\n 'Something Girls',\n 'AR7G5I41187FB4CE6C',\n 1982,\n 233.40363)"
     },
     "execution_count": 102,
     "metadata": {},
     "output_type": "execute_result"
    }
   ],
   "source": [
    "df_test = pd.read_json(filepath[0], lines=True)\n",
    "\n",
    "tuple(df_test[['song_id', 'title', 'artist_id', 'year', 'duration']].values[0])\n",
    "# tuple(df_test[['song_id', 'title', 'artist_id', 'year', 'duration']].values[0][1:])"
   ],
   "metadata": {
    "collapsed": false,
    "pycharm": {
     "name": "#%%\n"
    }
   }
  },
  {
   "cell_type": "code",
   "execution_count": 13,
   "outputs": [],
   "source": [
    "song_files\n",
    "\n",
    "dfs = []\n",
    "\n",
    "for file in song_files:\n",
    "    x = pd.read_json(file, lines=True)\n",
    "    dfs.append(x)\n",
    "\n"
   ],
   "metadata": {
    "collapsed": false,
    "pycharm": {
     "name": "#%%\n"
    }
   }
  },
  {
   "cell_type": "code",
   "execution_count": 18,
   "outputs": [
    {
     "data": {
      "text/plain": "    num_songs           artist_id  artist_latitude  artist_longitude  \\\n0           1  AR7G5I41187FB4CE6C              NaN               NaN   \n0           1  AR8ZCNI1187B9A069B              NaN               NaN   \n0           1  ARXR32B1187FB57099              NaN               NaN   \n0           1  AR10USD1187B99F3F1              NaN               NaN   \n0           1  ARGSJW91187B9B1D6B         35.21962         -80.01955   \n..        ...                 ...              ...               ...   \n0           1  ARAGB2O1187FB3A161              NaN               NaN   \n0           1  AR62SOJ1187FB47BB5              NaN               NaN   \n0           1  ARBEBBY1187B9B43DB              NaN               NaN   \n0           1  ARNNKDK1187B98BBD5         45.80726          15.96760   \n0           1  ARGCY1Y1187B9A4FA5         36.16778         -86.77836   \n\n                artist_location                      artist_name  \\\n0               London, England                         Adam Ant   \n0                                               Planet P Project   \n0                                                            Gob   \n0   Burlington, Ontario, Canada            Tweeterfriendly Music   \n0                North Carolina                     JennyAnyKind   \n..                          ...                              ...   \n0                                Pucho & His Latin Soul Brothers   \n0                                                 Chase & Status   \n0               Gainesville, FL                        Tom Petty   \n0                Zagreb Croatia                             Jinx   \n0                Nashville, TN.                         Gloriana   \n\n               song_id                           title   duration  year  \n0   SONHOTT12A8C13493C                 Something Girls  233.40363  1982  \n0   SOIAZJW12AB01853F1                      Pink World  269.81832  1984  \n0   SOFSOCN12A8C143F5D                  Face the Ashes  209.60608  2007  \n0   SOHKNRJ12A6701D1F8                    Drop of Rain  189.57016     0  \n0   SOQHXMF12AB0182363                 Young Boy Blues  218.77506     0  \n..                 ...                             ...        ...   ...  \n0   SOLEYHO12AB0188A85              Got My Mojo Workin  338.23302     0  \n0   SOGVQGJ12AB017F169                       Ten Tonne  337.68444  2005  \n0   SOFFKZS12AB017F194  A Higher Place (Album Version)  236.17261  1994  \n0   SOFNOQK12AB01840FC     Kutt Free (DJ Volume Remix)  407.37914     0  \n0   SOQOTLQ12AB01868D0              Clementina Santafè  153.33832     0  \n\n[71 rows x 10 columns]",
      "text/html": "<div>\n<style scoped>\n    .dataframe tbody tr th:only-of-type {\n        vertical-align: middle;\n    }\n\n    .dataframe tbody tr th {\n        vertical-align: top;\n    }\n\n    .dataframe thead th {\n        text-align: right;\n    }\n</style>\n<table border=\"1\" class=\"dataframe\">\n  <thead>\n    <tr style=\"text-align: right;\">\n      <th></th>\n      <th>num_songs</th>\n      <th>artist_id</th>\n      <th>artist_latitude</th>\n      <th>artist_longitude</th>\n      <th>artist_location</th>\n      <th>artist_name</th>\n      <th>song_id</th>\n      <th>title</th>\n      <th>duration</th>\n      <th>year</th>\n    </tr>\n  </thead>\n  <tbody>\n    <tr>\n      <th>0</th>\n      <td>1</td>\n      <td>AR7G5I41187FB4CE6C</td>\n      <td>NaN</td>\n      <td>NaN</td>\n      <td>London, England</td>\n      <td>Adam Ant</td>\n      <td>SONHOTT12A8C13493C</td>\n      <td>Something Girls</td>\n      <td>233.40363</td>\n      <td>1982</td>\n    </tr>\n    <tr>\n      <th>0</th>\n      <td>1</td>\n      <td>AR8ZCNI1187B9A069B</td>\n      <td>NaN</td>\n      <td>NaN</td>\n      <td></td>\n      <td>Planet P Project</td>\n      <td>SOIAZJW12AB01853F1</td>\n      <td>Pink World</td>\n      <td>269.81832</td>\n      <td>1984</td>\n    </tr>\n    <tr>\n      <th>0</th>\n      <td>1</td>\n      <td>ARXR32B1187FB57099</td>\n      <td>NaN</td>\n      <td>NaN</td>\n      <td></td>\n      <td>Gob</td>\n      <td>SOFSOCN12A8C143F5D</td>\n      <td>Face the Ashes</td>\n      <td>209.60608</td>\n      <td>2007</td>\n    </tr>\n    <tr>\n      <th>0</th>\n      <td>1</td>\n      <td>AR10USD1187B99F3F1</td>\n      <td>NaN</td>\n      <td>NaN</td>\n      <td>Burlington, Ontario, Canada</td>\n      <td>Tweeterfriendly Music</td>\n      <td>SOHKNRJ12A6701D1F8</td>\n      <td>Drop of Rain</td>\n      <td>189.57016</td>\n      <td>0</td>\n    </tr>\n    <tr>\n      <th>0</th>\n      <td>1</td>\n      <td>ARGSJW91187B9B1D6B</td>\n      <td>35.21962</td>\n      <td>-80.01955</td>\n      <td>North Carolina</td>\n      <td>JennyAnyKind</td>\n      <td>SOQHXMF12AB0182363</td>\n      <td>Young Boy Blues</td>\n      <td>218.77506</td>\n      <td>0</td>\n    </tr>\n    <tr>\n      <th>...</th>\n      <td>...</td>\n      <td>...</td>\n      <td>...</td>\n      <td>...</td>\n      <td>...</td>\n      <td>...</td>\n      <td>...</td>\n      <td>...</td>\n      <td>...</td>\n      <td>...</td>\n    </tr>\n    <tr>\n      <th>0</th>\n      <td>1</td>\n      <td>ARAGB2O1187FB3A161</td>\n      <td>NaN</td>\n      <td>NaN</td>\n      <td></td>\n      <td>Pucho &amp; His Latin Soul Brothers</td>\n      <td>SOLEYHO12AB0188A85</td>\n      <td>Got My Mojo Workin</td>\n      <td>338.23302</td>\n      <td>0</td>\n    </tr>\n    <tr>\n      <th>0</th>\n      <td>1</td>\n      <td>AR62SOJ1187FB47BB5</td>\n      <td>NaN</td>\n      <td>NaN</td>\n      <td></td>\n      <td>Chase &amp; Status</td>\n      <td>SOGVQGJ12AB017F169</td>\n      <td>Ten Tonne</td>\n      <td>337.68444</td>\n      <td>2005</td>\n    </tr>\n    <tr>\n      <th>0</th>\n      <td>1</td>\n      <td>ARBEBBY1187B9B43DB</td>\n      <td>NaN</td>\n      <td>NaN</td>\n      <td>Gainesville, FL</td>\n      <td>Tom Petty</td>\n      <td>SOFFKZS12AB017F194</td>\n      <td>A Higher Place (Album Version)</td>\n      <td>236.17261</td>\n      <td>1994</td>\n    </tr>\n    <tr>\n      <th>0</th>\n      <td>1</td>\n      <td>ARNNKDK1187B98BBD5</td>\n      <td>45.80726</td>\n      <td>15.96760</td>\n      <td>Zagreb Croatia</td>\n      <td>Jinx</td>\n      <td>SOFNOQK12AB01840FC</td>\n      <td>Kutt Free (DJ Volume Remix)</td>\n      <td>407.37914</td>\n      <td>0</td>\n    </tr>\n    <tr>\n      <th>0</th>\n      <td>1</td>\n      <td>ARGCY1Y1187B9A4FA5</td>\n      <td>36.16778</td>\n      <td>-86.77836</td>\n      <td>Nashville, TN.</td>\n      <td>Gloriana</td>\n      <td>SOQOTLQ12AB01868D0</td>\n      <td>Clementina Santafè</td>\n      <td>153.33832</td>\n      <td>0</td>\n    </tr>\n  </tbody>\n</table>\n<p>71 rows × 10 columns</p>\n</div>"
     },
     "execution_count": 18,
     "metadata": {},
     "output_type": "execute_result"
    }
   ],
   "source": [
    "df_songs = pd.concat(dfs)\n",
    "\n",
    "df_songs"
   ],
   "metadata": {
    "collapsed": false,
    "pycharm": {
     "name": "#%%\n"
    }
   }
  },
  {
   "cell_type": "code",
   "execution_count": 80,
   "outputs": [
    {
     "data": {
      "text/plain": "[('SONHOTT12A8C13493C', 'Something Girls', 'AR7G5I41187FB4CE6C', 1982, 233.40363),\n ('SOIAZJW12AB01853F1', 'Pink World', 'AR8ZCNI1187B9A069B', 1984, 269.81832),\n ('SOFSOCN12A8C143F5D', 'Face the Ashes', 'ARXR32B1187FB57099', 2007, 209.60608),\n ('SOHKNRJ12A6701D1F8', 'Drop of Rain', 'AR10USD1187B99F3F1', 0, 189.57016),\n ('SOQHXMF12AB0182363', 'Young Boy Blues', 'ARGSJW91187B9B1D6B', 0, 218.77506),\n ('SOCIWDW12A8C13D406', 'Soul Deep', 'ARMJAGH1187FB546F3', 1969, 148.03546),\n ('SOMZWCG12A8C13C480', \"I Didn't Mean To\", 'ARD7TVE1187B99BFB1', 0, 218.93179),\n ('SOXVLOJ12AB0189215', 'Amor De Cabaret', 'ARKRRTF1187B9984DA', 0, 177.47546),\n ('SOUDSGM12AC9618304', 'Insatiable (Instrumental Version)', 'ARNTLGG11E2835DDB9', 0, 266.39628),\n ('SOYMRWW12A6D4FAB14', 'The Moon And I (Ordinary Day Album Version)', 'ARKFYS91187B98E58F', 0, 267.7024),\n ('SOMJBYD12A6D4F8557', 'Keepin It Real (Skit)', 'ARD0S291187B9B7BF5', 0, 114.78159),\n ('SOVYKGO12AB0187199', 'Crazy Mixed Up World', 'ARH4Z031187B9A71F2', 1961, 156.39465),\n ('SOGNCJP12A58A80271', 'Do You Finally Need A Friend', 'ARB29H41187B98F0EF', 1972, 342.56934),\n ('SOGXHEG12AB018653E', 'It Makes No Difference Now', 'AR0RCMP1187FB3F427', 1992, 133.32853),\n ('SOBLGCN12AB0183212', 'James (Hold The Ladder Steady)', 'AR47JEX1187B995D81', 1985, 124.86485),\n ('SOZQDIU12A58A7BCF6', 'Superconfidential', 'ARNTLGG11E2835DDB9', 0, 338.31138),\n ('SOOLYAZ12A6701F4A6', 'Laws Patrolling (Album Version)', 'AREBBGV1187FB523D2', 0, 173.66159),\n ('SOBBUGU12A8C13E95D', 'Setting Fire to Sleeping Giants', 'ARMAC4T1187FB3FA4C', 2004, 207.77751),\n ('SOYTPEP12AB0180E7B', 'Twist and Shout', 'ARAJPHH1187FB5566A', 1964, 164.80608),\n ('SOPSWQW12A6D4F8781', 'Made Like This (Live)', 'ARGIWFO1187B9B55B7', 0, 225.09669),\n ('SONYPOM12A8C13B2D7', 'I Think My Wife Is Running Around On Me (Taco Hell)', 'ARDNS031187B9924F0', 2005, 186.48771),\n ('SOGOSOV12AF72A285E', '¿Dónde va Chichi?', 'ARGUVEV1187B98BA17', 1997, 313.12934),\n ('SOZCTXZ12AB0182364', 'Setanta matins', 'AR5KOSW1187FB35FF4', 0, 269.58322),\n ('SOLLHMX12AB01846DC', 'The Emperor Falls', 'AR1Y2PT1187FB5B9CE', 0, 484.62322),\n ('SOBZBAZ12A6D4F8742', 'Spanish Grease', 'AROUOZZ1187B9ABE51', 1997, 168.25424),\n ('SOMUYGI12AB0188633', 'La Culpa', 'ARL7K851187B99ACD2', 0, 226.35057),\n ('SOZVMJI12AB01808AF', 'Synthetic Dream', 'ARNPAGP1241B9C7FD4', 0, 165.69424),\n ('SOWTBJW12AC468AC6E', 'Broken-Down Merry-Go-Round', 'ARQGYP71187FB44566', 0, 151.84934),\n ('SOUQQEA12A8C134B1B', 'High Tide', 'ARIG6O41187B988BDD', 0, 228.5971),\n ('SORAMLE12AB017C8B0', 'Auguri Cha Cha', 'ARHHO3O1187B989413', 0, 191.84281),\n ('SOKEJEJ12A8C13E0D0', 'The Urgency (LP Version)', 'ARC43071187B990240', 0, 245.21098),\n ('SOBEBDG12A58A76D60', 'Kassie Jones', 'ARI3BMM1187FB4255E', 0, 220.78649),\n ('SOBONFF12A6D4F84D8', 'Tonight Will Be Alright', 'ARIK43K1187B9AE54C', 1986, 307.3824),\n ('SOHUOAP12A8AE488E9', 'Floating', 'ARD842G1187B997376', 1987, 491.12771),\n ('SOILPQQ12AB017E82A', 'Sohna Nee Sohna Data', 'AR1ZHYZ1187FB3C717', 0, 599.24853),\n ('SOXLBJT12A8C140925', 'Caught In A Dream', 'ARYKCQI1187FB3B18F', 2004, 290.29832),\n ('SOTTDKS12AB018D69B', 'It Wont Be Christmas', 'ARMBR4Y1187B9990EB', 0, 241.47546),\n ('SOZHPGD12A8C1394FE', 'Baby Come To Me', 'AR9AWNF1187B9AB0B4', 0, 236.93016),\n ('SOMVWWT12A58A7AE05', 'Knocked Out Of The Park', 'ARQ9BO41187FB5CF1F', 0, 183.17016),\n ('SOPVXLX12A8C1402D5', 'Larger Than Life', 'AR3JMC51187B9AE49D', 1999, 236.25098),\n ('SOBBXLX12A58A79DDA', 'Erica (2005 Digital Remaster)', 'AREDBBQ1187B98AFF5', 0, 138.63138),\n ('SOAOIBZ12AB01815BE', 'I Hold Your Hand In Mine [Live At Royal Albert Hall]', 'ARPBNLO1187FB3D52F', 2000, 43.36281),\n ('SOQVMXR12A81C21483', 'Salt In NYC', 'ARKULSX1187FB45F84', 0, 424.12363),\n ('SOSLAVG12A8C13397F', 'Den Pai Alo', 'AROGWRA122988FEE45', 0, 243.82649),\n ('SODUJBS12A8C132150', 'Wessex Loses a Bride', 'ARI2JSK1187FB496EF', 0, 111.62077),\n ('SOQLGFP12A58A7800E', 'OAKtown', 'ARD7TVE1187B99BFB1', 0, 259.44771),\n ('SOTUKVB12AB0181477', 'Blessed Assurance', 'AR7ZKHQ1187B98DD73', 1993, 270.602),\n ('SODREIN12A58A7F2E5', 'A Whiter Shade Of Pale (Live @ Fillmore West)', 'ARLTWXK1187FB5A3F8', 0, 326.00771),\n ('SOSWKAV12AB018FC91', 'Midnight Star', 'ARULZCI1241B9C8611', 0, 335.51628),\n ('SOWQTQZ12A58A7B63E', 'Streets On Fire (Explicit Album Version)', 'ARPFHN61187FB575F6', 0, 279.97995),\n ('SOUPIRU12A6D4FA1E1', 'Der Kleine Dompfaff', 'ARJIE2Y1187B994AB7', 0, 152.92036),\n ('SONSKXP12A8C13A2C9', 'Native Soul', 'AR0IAWL1187B9A96D0', 2003, 197.19791),\n ('SORRZGD12A6310DBC3', 'Harajuku Girls', 'ARVBRGZ1187FB4675A', 2004, 290.55955),\n ('SOINLJW12A8C13314C', 'City Slickers', 'AR8IEZO1187B99055E', 2008, 149.86404),\n ('SODAUVL12A8C13D184', 'Prognosis', 'ARWB3G61187FB49404', 2000, 363.85914),\n ('SOLYIBD12A8C135045', 'Music is what we love', 'AR051KA1187B98B2FF', 0, 261.51138),\n ('SOFCHDR12AB01866EF', 'Living Hell', 'AREVWGE1187B9B890A', 0, 282.43546),\n ('SONWXQJ12A8C134D94', 'The Ballad Of Sleeping Beauty', 'ARNF6401187FB57032', 1994, 305.162),\n ('SOGDBUF12A8C140FAA', 'Intro', 'AR558FS1187FB45658', 2003, 75.67628),\n ('SOBKWDJ12A8C13B2F3', 'Wild Rose (Back 2 Basics Mix)', 'AR36F9J1187FB406F1', 0, 230.71302),\n ('SOBCOSW12A8C13D398', 'Rumba De Barcelona', 'AR7SMBG1187B9B9066', 0, 218.38322),\n ('SOBAYLL12A8C138AF9', 'Sono andati? Fingevo di dormire', 'ARDR4AC1187FB371A1', 0, 511.16363),\n ('SOOJPRH12A8C141995', 'Loaded Like A Gun', 'ARBGXIG122988F409D', 0, 173.19138),\n ('SOPEGZN12AB0181B3D', 'Get Your Head Stuck On Your Neck', 'AREDL271187FB40F44', 0, 45.66159),\n ('SOXILUQ12A58A7C72A', 'Jenny Take a Ride', 'ARP6N5A1187B99D1A3', 2004, 207.43791),\n ('SOTCKKY12AB018A141', 'Sonnerie lalaleulé hi houuu', 'ARGSAFR1269FB35070', 0, 29.54404),\n ('SOLEYHO12AB0188A85', 'Got My Mojo Workin', 'ARAGB2O1187FB3A161', 0, 338.23302),\n ('SOGVQGJ12AB017F169', 'Ten Tonne', 'AR62SOJ1187FB47BB5', 2005, 337.68444),\n ('SOFFKZS12AB017F194', 'A Higher Place (Album Version)', 'ARBEBBY1187B9B43DB', 1994, 236.17261),\n ('SOFNOQK12AB01840FC', 'Kutt Free (DJ Volume Remix)', 'ARNNKDK1187B98BBD5', 0, 407.37914),\n ('SOQOTLQ12AB01868D0', 'Clementina Santafè', 'ARGCY1Y1187B9A4FA5', 0, 153.33832)]"
     },
     "execution_count": 80,
     "metadata": {},
     "output_type": "execute_result"
    }
   ],
   "source": [
    "# song data\n",
    "\n",
    "# songs - songs in music database\n",
    "# song_id, title, artist_id, year, duration\n",
    "\n",
    "song_data = df_songs[['song_id', 'title', 'artist_id', 'year', 'duration']]\n",
    "\n",
    "song_data = song_data.drop_duplicates('song_id')\n",
    "\n",
    "song_data = song_data.set_index('song_id')\n",
    "\n",
    "song_data = song_data.to_records()\n",
    "\n",
    "song_data = list(song_data)\n",
    "\n",
    "song_data"
   ],
   "metadata": {
    "collapsed": false,
    "pycharm": {
     "name": "#%%\n"
    }
   }
  },
  {
   "cell_type": "code",
   "execution_count": 78,
   "outputs": [
    {
     "data": {
      "text/plain": "[('AR7G5I41187FB4CE6C', 'Adam Ant', 'London, England', nan, nan),\n ('AR8ZCNI1187B9A069B', 'Planet P Project', '', nan, nan),\n ('ARXR32B1187FB57099', 'Gob', '', nan, nan),\n ('AR10USD1187B99F3F1', 'Tweeterfriendly Music', 'Burlington, Ontario, Canada', nan, nan),\n ('ARGSJW91187B9B1D6B', 'JennyAnyKind', 'North Carolina', 35.21962, -80.01955),\n ('ARMJAGH1187FB546F3', 'The Box Tops', 'Memphis, TN', 35.14968, -90.04892),\n ('ARD7TVE1187B99BFB1', 'Casual', 'California - LA', nan, nan),\n ('ARKRRTF1187B9984DA', 'Sonora Santanera', '', nan, nan),\n ('ARNTLGG11E2835DDB9', 'Clp', '', nan, nan),\n ('ARKFYS91187B98E58F', 'Jeff And Sheri Easter', '', nan, nan),\n ('ARD0S291187B9B7BF5', 'Rated R', 'Ohio', nan, nan),\n ('ARH4Z031187B9A71F2', 'Faye Adams', 'Newark, NJ', 40.73197, -74.17418),\n ('ARB29H41187B98F0EF', 'Terry Callier', 'Chicago', 41.88415, -87.63241),\n ('AR0RCMP1187FB3F427', 'Billie Jo Spears', 'Beaumont, TX', 30.08615, -94.10158),\n ('AR47JEX1187B995D81', 'SUE THOMPSON', 'Nevada, MO', 37.83721, -94.35868),\n ('AREBBGV1187FB523D2', \"Mike Jones (Featuring CJ_ Mello & Lil' Bran)\", 'Houston, TX', nan, nan),\n ('ARMAC4T1187FB3FA4C', 'The Dillinger Escape Plan', 'Morris Plains, NJ', 40.82624, -74.47995),\n ('ARAJPHH1187FB5566A', 'The Shangri-Las', 'Queens, NY', 40.7038, -73.83168),\n ('ARGIWFO1187B9B55B7', 'Five Bolt Main', '', nan, nan),\n ('ARDNS031187B9924F0', 'Tim Wilson', 'Georgia', 32.67828, -83.22295),\n ('ARGUVEV1187B98BA17', 'Sierra Maestra', '', nan, nan),\n ('AR5KOSW1187FB35FF4', 'Elena', 'Dubai UAE', 49.80388, 15.47491),\n ('AR1Y2PT1187FB5B9CE', 'John Wesley', 'Brandon', 27.94017, -82.32547),\n ('AROUOZZ1187B9ABE51', 'Willie Bobo', 'New York, NY [Spanish Harlem]', 40.79195, -73.94512),\n ('ARL7K851187B99ACD2', 'Andy Andy', '', nan, nan),\n ('ARNPAGP1241B9C7FD4', 'lextrical', '', nan, nan),\n ('ARQGYP71187FB44566', 'Jimmy Wakely', 'Mineola, AR', 34.31109, -94.02978),\n ('ARIG6O41187B988BDD', 'Richard Souther', 'United States', 37.16793, -95.84502),\n ('ARHHO3O1187B989413', 'Bob Azzam', '', nan, nan),\n ('ARC43071187B990240', 'Wayne Watson', 'Wisner, LA', nan, nan),\n ('ARI3BMM1187FB4255E', 'Alice Stuart', 'Washington', 38.8991, -77.029),\n ('ARIK43K1187B9AE54C', 'Lionel Richie', 'Beverly Hills, CA', nan, nan),\n ('ARD842G1187B997376', 'Blue Rodeo', 'Toronto, Ontario, Canada', 43.64856, -79.38533),\n ('AR1ZHYZ1187FB3C717', 'Faiz Ali Faiz', '', nan, nan),\n ('ARYKCQI1187FB3B18F', 'Tesla', '', nan, nan),\n ('ARMBR4Y1187B9990EB', 'David Martin', 'California - SF', 37.77916, -122.42005),\n ('AR9AWNF1187B9AB0B4', 'Kenny G featuring Daryl Hall', 'Seattle, Washington USA', nan, nan),\n ('ARQ9BO41187FB5CF1F', 'John Davis', 'Pennsylvania', 40.99471, -77.60454),\n ('AR3JMC51187B9AE49D', 'Backstreet Boys', 'Orlando, FL', 28.53823, -81.37739),\n ('AREDBBQ1187B98AFF5', 'Eddie Calvert', '', nan, nan),\n ('ARPBNLO1187FB3D52F', 'Tiny Tim', 'New York, NY', 40.71455, -74.00712),\n ('ARKULSX1187FB45F84', 'Trafik', 'Utah', 39.49974, -111.54732),\n ('AROGWRA122988FEE45', 'Christos Dantis', '', nan, nan),\n ('ARI2JSK1187FB496EF', 'Nick Ingman;Gavyn Wright', 'London, England', 51.50632, -0.12714),\n ('AR7ZKHQ1187B98DD73', 'Glad', '', nan, nan),\n ('ARLTWXK1187FB5A3F8', 'King Curtis', 'Fort Worth, TX', 32.74863, -97.32925),\n ('ARULZCI1241B9C8611', 'Luna Orbit Project', '', nan, nan),\n ('ARPFHN61187FB575F6', 'Lupe Fiasco', 'Chicago, IL', 41.88415, -87.63241),\n ('ARJIE2Y1187B994AB7', 'Line Renaud', '', nan, nan),\n ('AR0IAWL1187B9A96D0', 'Danilo Perez', 'Panama', 8.4177, -80.11278),\n ('ARVBRGZ1187FB4675A', 'Gwen Stefani', '', nan, nan),\n ('AR8IEZO1187B99055E', 'Marc Shaiman', '', nan, nan),\n ('ARWB3G61187FB49404', 'Steve Morse', 'Hamilton, Ohio', nan, nan),\n ('AR051KA1187B98B2FF', 'Wilks', '', nan, nan),\n ('AREVWGE1187B9B890A', 'Bitter End', 'Noci (BA)', -13.442, -41.9952),\n ('ARNF6401187FB57032', 'Sophie B. Hawkins', 'New York, NY [Manhattan]', 40.79086, -73.96644),\n ('AR558FS1187FB45658', '40 Grit', '', nan, nan),\n ('AR36F9J1187FB406F1', 'Bombay Rockers', 'Denmark', 56.27609, 9.51695),\n ('AR7SMBG1187B9B9066', 'Los Manolos', '', nan, nan),\n ('ARDR4AC1187FB371A1', 'Montserrat Caballé;Placido Domingo;Vicente Sardinero;Judith Blegen;Sherrill Milnes;Georg Solti', '', nan, nan),\n ('ARBGXIG122988F409D', 'Steel Rain', 'California - SF', 37.77916, -122.42005),\n ('AREDL271187FB40F44', 'Soul Mekanik', '', nan, nan),\n ('ARP6N5A1187B99D1A3', 'Mitch Ryder', 'Hamtramck, MI', nan, nan),\n ('ARGSAFR1269FB35070', 'Blingtones', '', nan, nan),\n ('ARAGB2O1187FB3A161', 'Pucho & His Latin Soul Brothers', '', nan, nan),\n ('AR62SOJ1187FB47BB5', 'Chase & Status', '', nan, nan),\n ('ARBEBBY1187B9B43DB', 'Tom Petty', 'Gainesville, FL', nan, nan),\n ('ARNNKDK1187B98BBD5', 'Jinx', 'Zagreb Croatia', 45.80726, 15.9676),\n ('ARGCY1Y1187B9A4FA5', 'Gloriana', 'Nashville, TN.', 36.16778, -86.77836)]"
     },
     "execution_count": 78,
     "metadata": {},
     "output_type": "execute_result"
    }
   ],
   "source": [
    "# artist data\n",
    "\n",
    "# artist_id, name, location, latitude, longitude\n",
    "\n",
    "artist_data = df_songs[['artist_id', 'artist_name', 'artist_location', 'artist_latitude', 'artist_longitude']]\n",
    "\n",
    "artist_data = artist_data.drop_duplicates('artist_id')\n",
    "\n",
    "artist_data = artist_data.set_index('artist_id')\n",
    "\n",
    "artist_data = artist_data.to_records()\n",
    "\n",
    "artist_data = list(artist_data)"
   ],
   "metadata": {
    "collapsed": false,
    "pycharm": {
     "name": "#%%\n"
    }
   }
  },
  {
   "cell_type": "code",
   "execution_count": 141,
   "outputs": [
    {
     "data": {
      "text/plain": "                       artist       auth firstName gender  itemInSession  \\\n0                    Frumpies  Logged In  Anabelle      F              0   \n1   Kenny G with Peabo Bryson  Logged In  Anabelle      F              1   \n2                 Biffy Clyro  Logged In  Anabelle      F              2   \n3                        None  Logged In      Lily      F              0   \n4                         HIM  Logged In      Lily      F              1   \n..                        ...        ...       ...    ...            ...   \n90          Sidewalk Prophets  Logged In     Molly      F              0   \n91               Rise Against  Logged In     Molly      F              1   \n92                     K'Naan  Logged In     Molly      F              2   \n93             Patrick Jumpen  Logged In      Ryan      M              0   \n94                Alicia Keys  Logged In      Ryan      M              1   \n\n   lastName     length level                                     location  \\\n0   Simpson  134.47791  free  Philadelphia-Camden-Wilmington, PA-NJ-DE-MD   \n1   Simpson  264.75057  free  Philadelphia-Camden-Wilmington, PA-NJ-DE-MD   \n2   Simpson  189.83138  free  Philadelphia-Camden-Wilmington, PA-NJ-DE-MD   \n3     Burns        NaN  free        New York-Newark-Jersey City, NY-NJ-PA   \n4     Burns  212.06159  free        New York-Newark-Jersey City, NY-NJ-PA   \n..      ...        ...   ...                                          ...   \n90   Taylor  260.62322  free                             St. Louis, MO-IL   \n91   Taylor  221.17832  free                             St. Louis, MO-IL   \n92   Taylor  220.49914  free                             St. Louis, MO-IL   \n93    Smith  208.87465  free           San Jose-Sunnyvale-Santa Clara, CA   \n94    Smith  216.47628  free           San Jose-Sunnyvale-Santa Clara, CA   \n\n   method      page  registration  sessionId  \\\n0     PUT  NextSong  1.541044e+12        455   \n1     PUT  NextSong  1.541044e+12        455   \n2     PUT  NextSong  1.541044e+12        455   \n3     GET      Home  1.540621e+12        456   \n4     PUT  NextSong  1.540621e+12        456   \n..    ...       ...           ...        ...   \n90    PUT  NextSong  1.540993e+12        464   \n91    PUT  NextSong  1.540993e+12        464   \n92    PUT  NextSong  1.540993e+12        464   \n93    PUT  NextSong  1.541017e+12        480   \n94    PUT  NextSong  1.541017e+12        480   \n\n                                          song  status             ts  \\\n0                                   Fuck Kitty     200  1541903636796   \n1               By The Time This Night Is Over     200  1541903770796   \n2                                  God & Satan     200  1541904034796   \n3                                         None     200  1541910841796   \n4                                    Beautiful     200  1541910973796   \n..                                         ...     ...            ...   \n90                  You Love Me Anyway (Album)     200  1541970568796   \n91                                     Torches     200  1541970828796   \n92                                Wavin'  Flag     200  1541971049796   \n93                                     Holiday     200  1541979540796   \n94  Empire State Of Mind (Part II) Broken Down     200  1541979748796   \n\n                                            userAgent userId  \n0   \"Mozilla/5.0 (Macintosh; Intel Mac OS X 10_9_4...     69  \n1   \"Mozilla/5.0 (Macintosh; Intel Mac OS X 10_9_4...     69  \n2   \"Mozilla/5.0 (Macintosh; Intel Mac OS X 10_9_4...     69  \n3   \"Mozilla/5.0 (Windows NT 6.1; WOW64) AppleWebK...     32  \n4   \"Mozilla/5.0 (Windows NT 6.1; WOW64) AppleWebK...     32  \n..                                                ...    ...  \n90  \"Mozilla/5.0 (X11; Linux x86_64) AppleWebKit/5...     35  \n91  \"Mozilla/5.0 (X11; Linux x86_64) AppleWebKit/5...     35  \n92  \"Mozilla/5.0 (X11; Linux x86_64) AppleWebKit/5...     35  \n93  \"Mozilla/5.0 (X11; Linux x86_64) AppleWebKit/5...     26  \n94  \"Mozilla/5.0 (X11; Linux x86_64) AppleWebKit/5...     26  \n\n[95 rows x 18 columns]",
      "text/html": "<div>\n<style scoped>\n    .dataframe tbody tr th:only-of-type {\n        vertical-align: middle;\n    }\n\n    .dataframe tbody tr th {\n        vertical-align: top;\n    }\n\n    .dataframe thead th {\n        text-align: right;\n    }\n</style>\n<table border=\"1\" class=\"dataframe\">\n  <thead>\n    <tr style=\"text-align: right;\">\n      <th></th>\n      <th>artist</th>\n      <th>auth</th>\n      <th>firstName</th>\n      <th>gender</th>\n      <th>itemInSession</th>\n      <th>lastName</th>\n      <th>length</th>\n      <th>level</th>\n      <th>location</th>\n      <th>method</th>\n      <th>page</th>\n      <th>registration</th>\n      <th>sessionId</th>\n      <th>song</th>\n      <th>status</th>\n      <th>ts</th>\n      <th>userAgent</th>\n      <th>userId</th>\n    </tr>\n  </thead>\n  <tbody>\n    <tr>\n      <th>0</th>\n      <td>Frumpies</td>\n      <td>Logged In</td>\n      <td>Anabelle</td>\n      <td>F</td>\n      <td>0</td>\n      <td>Simpson</td>\n      <td>134.47791</td>\n      <td>free</td>\n      <td>Philadelphia-Camden-Wilmington, PA-NJ-DE-MD</td>\n      <td>PUT</td>\n      <td>NextSong</td>\n      <td>1.541044e+12</td>\n      <td>455</td>\n      <td>Fuck Kitty</td>\n      <td>200</td>\n      <td>1541903636796</td>\n      <td>\"Mozilla/5.0 (Macintosh; Intel Mac OS X 10_9_4...</td>\n      <td>69</td>\n    </tr>\n    <tr>\n      <th>1</th>\n      <td>Kenny G with Peabo Bryson</td>\n      <td>Logged In</td>\n      <td>Anabelle</td>\n      <td>F</td>\n      <td>1</td>\n      <td>Simpson</td>\n      <td>264.75057</td>\n      <td>free</td>\n      <td>Philadelphia-Camden-Wilmington, PA-NJ-DE-MD</td>\n      <td>PUT</td>\n      <td>NextSong</td>\n      <td>1.541044e+12</td>\n      <td>455</td>\n      <td>By The Time This Night Is Over</td>\n      <td>200</td>\n      <td>1541903770796</td>\n      <td>\"Mozilla/5.0 (Macintosh; Intel Mac OS X 10_9_4...</td>\n      <td>69</td>\n    </tr>\n    <tr>\n      <th>2</th>\n      <td>Biffy Clyro</td>\n      <td>Logged In</td>\n      <td>Anabelle</td>\n      <td>F</td>\n      <td>2</td>\n      <td>Simpson</td>\n      <td>189.83138</td>\n      <td>free</td>\n      <td>Philadelphia-Camden-Wilmington, PA-NJ-DE-MD</td>\n      <td>PUT</td>\n      <td>NextSong</td>\n      <td>1.541044e+12</td>\n      <td>455</td>\n      <td>God &amp; Satan</td>\n      <td>200</td>\n      <td>1541904034796</td>\n      <td>\"Mozilla/5.0 (Macintosh; Intel Mac OS X 10_9_4...</td>\n      <td>69</td>\n    </tr>\n    <tr>\n      <th>3</th>\n      <td>None</td>\n      <td>Logged In</td>\n      <td>Lily</td>\n      <td>F</td>\n      <td>0</td>\n      <td>Burns</td>\n      <td>NaN</td>\n      <td>free</td>\n      <td>New York-Newark-Jersey City, NY-NJ-PA</td>\n      <td>GET</td>\n      <td>Home</td>\n      <td>1.540621e+12</td>\n      <td>456</td>\n      <td>None</td>\n      <td>200</td>\n      <td>1541910841796</td>\n      <td>\"Mozilla/5.0 (Windows NT 6.1; WOW64) AppleWebK...</td>\n      <td>32</td>\n    </tr>\n    <tr>\n      <th>4</th>\n      <td>HIM</td>\n      <td>Logged In</td>\n      <td>Lily</td>\n      <td>F</td>\n      <td>1</td>\n      <td>Burns</td>\n      <td>212.06159</td>\n      <td>free</td>\n      <td>New York-Newark-Jersey City, NY-NJ-PA</td>\n      <td>PUT</td>\n      <td>NextSong</td>\n      <td>1.540621e+12</td>\n      <td>456</td>\n      <td>Beautiful</td>\n      <td>200</td>\n      <td>1541910973796</td>\n      <td>\"Mozilla/5.0 (Windows NT 6.1; WOW64) AppleWebK...</td>\n      <td>32</td>\n    </tr>\n    <tr>\n      <th>...</th>\n      <td>...</td>\n      <td>...</td>\n      <td>...</td>\n      <td>...</td>\n      <td>...</td>\n      <td>...</td>\n      <td>...</td>\n      <td>...</td>\n      <td>...</td>\n      <td>...</td>\n      <td>...</td>\n      <td>...</td>\n      <td>...</td>\n      <td>...</td>\n      <td>...</td>\n      <td>...</td>\n      <td>...</td>\n      <td>...</td>\n    </tr>\n    <tr>\n      <th>90</th>\n      <td>Sidewalk Prophets</td>\n      <td>Logged In</td>\n      <td>Molly</td>\n      <td>F</td>\n      <td>0</td>\n      <td>Taylor</td>\n      <td>260.62322</td>\n      <td>free</td>\n      <td>St. Louis, MO-IL</td>\n      <td>PUT</td>\n      <td>NextSong</td>\n      <td>1.540993e+12</td>\n      <td>464</td>\n      <td>You Love Me Anyway (Album)</td>\n      <td>200</td>\n      <td>1541970568796</td>\n      <td>\"Mozilla/5.0 (X11; Linux x86_64) AppleWebKit/5...</td>\n      <td>35</td>\n    </tr>\n    <tr>\n      <th>91</th>\n      <td>Rise Against</td>\n      <td>Logged In</td>\n      <td>Molly</td>\n      <td>F</td>\n      <td>1</td>\n      <td>Taylor</td>\n      <td>221.17832</td>\n      <td>free</td>\n      <td>St. Louis, MO-IL</td>\n      <td>PUT</td>\n      <td>NextSong</td>\n      <td>1.540993e+12</td>\n      <td>464</td>\n      <td>Torches</td>\n      <td>200</td>\n      <td>1541970828796</td>\n      <td>\"Mozilla/5.0 (X11; Linux x86_64) AppleWebKit/5...</td>\n      <td>35</td>\n    </tr>\n    <tr>\n      <th>92</th>\n      <td>K'Naan</td>\n      <td>Logged In</td>\n      <td>Molly</td>\n      <td>F</td>\n      <td>2</td>\n      <td>Taylor</td>\n      <td>220.49914</td>\n      <td>free</td>\n      <td>St. Louis, MO-IL</td>\n      <td>PUT</td>\n      <td>NextSong</td>\n      <td>1.540993e+12</td>\n      <td>464</td>\n      <td>Wavin'  Flag</td>\n      <td>200</td>\n      <td>1541971049796</td>\n      <td>\"Mozilla/5.0 (X11; Linux x86_64) AppleWebKit/5...</td>\n      <td>35</td>\n    </tr>\n    <tr>\n      <th>93</th>\n      <td>Patrick Jumpen</td>\n      <td>Logged In</td>\n      <td>Ryan</td>\n      <td>M</td>\n      <td>0</td>\n      <td>Smith</td>\n      <td>208.87465</td>\n      <td>free</td>\n      <td>San Jose-Sunnyvale-Santa Clara, CA</td>\n      <td>PUT</td>\n      <td>NextSong</td>\n      <td>1.541017e+12</td>\n      <td>480</td>\n      <td>Holiday</td>\n      <td>200</td>\n      <td>1541979540796</td>\n      <td>\"Mozilla/5.0 (X11; Linux x86_64) AppleWebKit/5...</td>\n      <td>26</td>\n    </tr>\n    <tr>\n      <th>94</th>\n      <td>Alicia Keys</td>\n      <td>Logged In</td>\n      <td>Ryan</td>\n      <td>M</td>\n      <td>1</td>\n      <td>Smith</td>\n      <td>216.47628</td>\n      <td>free</td>\n      <td>San Jose-Sunnyvale-Santa Clara, CA</td>\n      <td>PUT</td>\n      <td>NextSong</td>\n      <td>1.541017e+12</td>\n      <td>480</td>\n      <td>Empire State Of Mind (Part II) Broken Down</td>\n      <td>200</td>\n      <td>1541979748796</td>\n      <td>\"Mozilla/5.0 (X11; Linux x86_64) AppleWebKit/5...</td>\n      <td>26</td>\n    </tr>\n  </tbody>\n</table>\n<p>95 rows × 18 columns</p>\n</div>"
     },
     "execution_count": 141,
     "metadata": {},
     "output_type": "execute_result"
    }
   ],
   "source": [
    "pd.read_json(filepath[0], lines=True)"
   ],
   "metadata": {
    "collapsed": false,
    "pycharm": {
     "name": "#%%\n"
    }
   }
  },
  {
   "cell_type": "code",
   "execution_count": 160,
   "outputs": [
    {
     "name": "stderr",
     "output_type": "stream",
     "text": [
      "/var/folders/z2/4x1xtsmd40sfmyp2ftrfbkfh0000gn/T/ipykernel_12062/361532148.py:15: SettingWithCopyWarning: \n",
      "A value is trying to be set on a copy of a slice from a DataFrame.\n",
      "Try using .loc[row_indexer,col_indexer] = value instead\n",
      "\n",
      "See the caveats in the documentation: https://pandas.pydata.org/pandas-docs/stable/user_guide/indexing.html#returning-a-view-versus-a-copy\n",
      "  df_time['hour'] = df_time['datetime'].apply(lambda x: x.hour)\n",
      "/var/folders/z2/4x1xtsmd40sfmyp2ftrfbkfh0000gn/T/ipykernel_12062/361532148.py:16: SettingWithCopyWarning: \n",
      "A value is trying to be set on a copy of a slice from a DataFrame.\n",
      "Try using .loc[row_indexer,col_indexer] = value instead\n",
      "\n",
      "See the caveats in the documentation: https://pandas.pydata.org/pandas-docs/stable/user_guide/indexing.html#returning-a-view-versus-a-copy\n",
      "  df_time['day'] = df_time['datetime'].apply(lambda x: x.day)\n",
      "/var/folders/z2/4x1xtsmd40sfmyp2ftrfbkfh0000gn/T/ipykernel_12062/361532148.py:17: SettingWithCopyWarning: \n",
      "A value is trying to be set on a copy of a slice from a DataFrame.\n",
      "Try using .loc[row_indexer,col_indexer] = value instead\n",
      "\n",
      "See the caveats in the documentation: https://pandas.pydata.org/pandas-docs/stable/user_guide/indexing.html#returning-a-view-versus-a-copy\n",
      "  df_time['week'] = df_time['datetime'].apply(lambda x: x.week)\n",
      "/var/folders/z2/4x1xtsmd40sfmyp2ftrfbkfh0000gn/T/ipykernel_12062/361532148.py:18: SettingWithCopyWarning: \n",
      "A value is trying to be set on a copy of a slice from a DataFrame.\n",
      "Try using .loc[row_indexer,col_indexer] = value instead\n",
      "\n",
      "See the caveats in the documentation: https://pandas.pydata.org/pandas-docs/stable/user_guide/indexing.html#returning-a-view-versus-a-copy\n",
      "  df_time['month'] = df_time['datetime'].apply(lambda x: x.month)\n",
      "/var/folders/z2/4x1xtsmd40sfmyp2ftrfbkfh0000gn/T/ipykernel_12062/361532148.py:19: SettingWithCopyWarning: \n",
      "A value is trying to be set on a copy of a slice from a DataFrame.\n",
      "Try using .loc[row_indexer,col_indexer] = value instead\n",
      "\n",
      "See the caveats in the documentation: https://pandas.pydata.org/pandas-docs/stable/user_guide/indexing.html#returning-a-view-versus-a-copy\n",
      "  df_time['year'] = df_time['datetime'].apply(lambda x: x.year)\n",
      "/var/folders/z2/4x1xtsmd40sfmyp2ftrfbkfh0000gn/T/ipykernel_12062/361532148.py:20: SettingWithCopyWarning: \n",
      "A value is trying to be set on a copy of a slice from a DataFrame.\n",
      "Try using .loc[row_indexer,col_indexer] = value instead\n",
      "\n",
      "See the caveats in the documentation: https://pandas.pydata.org/pandas-docs/stable/user_guide/indexing.html#returning-a-view-versus-a-copy\n",
      "  df_time['weekday'] = df_time['datetime'].apply(lambda x: x.weekday())\n"
     ]
    },
    {
     "data": {
      "text/plain": "array([[1541903636796,             2,            11,            45,\n                   11,          2018,             6],\n       [1541903770796,             2,            11,            45,\n                   11,          2018,             6],\n       [1541904034796,             2,            11,            45,\n                   11,          2018,             6],\n       [1541910973796,             4,            11,            45,\n                   11,          2018,             6],\n       [1541911006796,             4,            11,            45,\n                   11,          2018,             6],\n       [1541930188796,             9,            11,            45,\n                   11,          2018,             6],\n       [1541930447796,            10,            11,            45,\n                   11,          2018,             6],\n       [1541930647796,            10,            11,            45,\n                   11,          2018,             6],\n       [1541930908796,            10,            11,            45,\n                   11,          2018,             6],\n       [1541931120796,            10,            11,            45,\n                   11,          2018,             6],\n       [1541932063796,            10,            11,            45,\n                   11,          2018,             6],\n       [1541932424796,            10,            11,            45,\n                   11,          2018,             6],\n       [1541932582796,            10,            11,            45,\n                   11,          2018,             6],\n       [1541932814796,            10,            11,            45,\n                   11,          2018,             6],\n       [1541933003796,            10,            11,            45,\n                   11,          2018,             6],\n       [1541933178796,            10,            11,            45,\n                   11,          2018,             6],\n       [1541934891796,            11,            11,            45,\n                   11,          2018,             6],\n       [1541943682796,            13,            11,            45,\n                   11,          2018,             6],\n       [1541944343796,            13,            11,            45,\n                   11,          2018,             6],\n       [1541944702796,            13,            11,            45,\n                   11,          2018,             6],\n       [1541945143796,            14,            11,            45,\n                   11,          2018,             6],\n       [1541945274796,            14,            11,            45,\n                   11,          2018,             6],\n       [1541945376796,            14,            11,            45,\n                   11,          2018,             6],\n       [1541945669796,            14,            11,            45,\n                   11,          2018,             6],\n       [1541945706796,            14,            11,            45,\n                   11,          2018,             6],\n       [1541945872796,            14,            11,            45,\n                   11,          2018,             6],\n       [1541945977796,            14,            11,            45,\n                   11,          2018,             6],\n       [1541946298796,            14,            11,            45,\n                   11,          2018,             6],\n       [1541946605796,            14,            11,            45,\n                   11,          2018,             6],\n       [1541946833796,            14,            11,            45,\n                   11,          2018,             6],\n       [1541947036796,            14,            11,            45,\n                   11,          2018,             6],\n       [1541947258796,            14,            11,            45,\n                   11,          2018,             6],\n       [1541947469796,            14,            11,            45,\n                   11,          2018,             6],\n       [1541947644796,            14,            11,            45,\n                   11,          2018,             6],\n       [1541947662796,            14,            11,            45,\n                   11,          2018,             6],\n       [1541947915796,            14,            11,            45,\n                   11,          2018,             6],\n       [1541948047796,            14,            11,            45,\n                   11,          2018,             6],\n       [1541948181796,            14,            11,            45,\n                   11,          2018,             6],\n       [1541948244796,            14,            11,            45,\n                   11,          2018,             6],\n       [1541948412796,            15,            11,            45,\n                   11,          2018,             6],\n       [1541948437796,            15,            11,            45,\n                   11,          2018,             6],\n       [1541948666796,            15,            11,            45,\n                   11,          2018,             6],\n       [1541948846796,            15,            11,            45,\n                   11,          2018,             6],\n       [1541949012796,            15,            11,            45,\n                   11,          2018,             6],\n       [1541949296796,            15,            11,            45,\n                   11,          2018,             6],\n       [1541952079796,            16,            11,            45,\n                   11,          2018,             6],\n       [1541952335796,            16,            11,            45,\n                   11,          2018,             6],\n       [1541952552796,            16,            11,            45,\n                   11,          2018,             6],\n       [1541952823796,            16,            11,            45,\n                   11,          2018,             6],\n       [1541959713796,            18,            11,            45,\n                   11,          2018,             6],\n       [1541962092796,            18,            11,            45,\n                   11,          2018,             6],\n       [1541962141796,            18,            11,            45,\n                   11,          2018,             6],\n       [1541962316796,            18,            11,            45,\n                   11,          2018,             6],\n       [1541962416796,            18,            11,            45,\n                   11,          2018,             6],\n       [1541962486796,            18,            11,            45,\n                   11,          2018,             6],\n       [1541965305796,            19,            11,            45,\n                   11,          2018,             6],\n       [1541965525796,            19,            11,            45,\n                   11,          2018,             6],\n       [1541965733796,            19,            11,            45,\n                   11,          2018,             6],\n       [1541966183796,            19,            11,            45,\n                   11,          2018,             6],\n       [1541966358796,            19,            11,            45,\n                   11,          2018,             6],\n       [1541966589796,            20,            11,            45,\n                   11,          2018,             6],\n       [1541966762796,            20,            11,            45,\n                   11,          2018,             6],\n       [1541966932796,            20,            11,            45,\n                   11,          2018,             6],\n       [1541967202796,            20,            11,            45,\n                   11,          2018,             6],\n       [1541967355796,            20,            11,            45,\n                   11,          2018,             6],\n       [1541967558796,            20,            11,            45,\n                   11,          2018,             6],\n       [1541967723796,            20,            11,            45,\n                   11,          2018,             6],\n       [1541967940796,            20,            11,            45,\n                   11,          2018,             6],\n       [1541970568796,            21,            11,            45,\n                   11,          2018,             6],\n       [1541970828796,            21,            11,            45,\n                   11,          2018,             6],\n       [1541971049796,            21,            11,            45,\n                   11,          2018,             6],\n       [1541979540796,            23,            11,            45,\n                   11,          2018,             6],\n       [1541979748796,            23,            11,            45,\n                   11,          2018,             6]])"
     },
     "execution_count": 160,
     "metadata": {},
     "output_type": "execute_result"
    }
   ],
   "source": [
    "df_log = pd.read_json(filepath[0], lines=True)\n",
    "\n",
    "df_log = df_log[df_log['page'] == 'NextSong']\n",
    "\n",
    "df_log['datetime'] = df_log['ts'].apply(lambda x: datetime.utcfromtimestamp(x / 1000))\n",
    "\n",
    "# start_time, hour, day, week, month, year, weekday\n",
    "\n",
    "df_time = df_log[['ts', 'datetime']]\n",
    "\n",
    "df_time['hour'] = df_time['datetime'].apply(lambda x: x.hour)\n",
    "df_time['day'] = df_time['datetime'].apply(lambda x: x.day)\n",
    "df_time['week'] = df_time['datetime'].apply(lambda x: x.week)\n",
    "df_time['month'] = df_time['datetime'].apply(lambda x: x.month)\n",
    "df_time['year'] = df_time['datetime'].apply(lambda x: x.year)\n",
    "df_time['weekday'] = df_time['datetime'].apply(lambda x: x.weekday())\n",
    "#\n",
    "time_data = df_time[['ts', 'hour', 'day', 'week', 'month', 'year', 'weekday']].values\n",
    "\n",
    "time_data\n",
    "\n",
    "# time_data = list(time_data)\n",
    "# time_data\n",
    "\n",
    "# # hour\n",
    "# df_log.iloc[0].datetime.hour\n",
    "#\n",
    "# #\n",
    "# df_log.iloc[0].datetime.day\n",
    "#\n",
    "# #\n",
    "# df_log.iloc[0].datetime.week\n",
    "#\n",
    "# #\n",
    "# df_log.iloc[0].datetime.month\n",
    "#\n",
    "# #\n",
    "# df_log.iloc[0].datetime.year\n",
    "#\n",
    "# # week day\n",
    "# df_log.iloc[0].datetime.weekday()\n",
    "#\n",
    "# tuple()"
   ],
   "metadata": {
    "collapsed": false,
    "pycharm": {
     "name": "#%%\n"
    }
   }
  },
  {
   "cell_type": "code",
   "execution_count": 167,
   "outputs": [
    {
     "name": "stdout",
     "output_type": "stream",
     "text": [
      "('69', 'Anabelle', 'Simpson', 'F', 'free')\n",
      "('69', 'Anabelle', 'Simpson', 'F', 'free')\n",
      "('69', 'Anabelle', 'Simpson', 'F', 'free')\n",
      "('32', 'Lily', 'Burns', 'F', 'free')\n",
      "('75', 'Joseph', 'Gutierrez', 'M', 'free')\n",
      "('92', 'Ryann', 'Smith', 'F', 'free')\n",
      "('92', 'Ryann', 'Smith', 'F', 'free')\n",
      "('92', 'Ryann', 'Smith', 'F', 'free')\n",
      "('92', 'Ryann', 'Smith', 'F', 'free')\n",
      "('92', 'Ryann', 'Smith', 'F', 'free')\n",
      "('49', 'Chloe', 'Cuevas', 'F', 'free')\n",
      "('49', 'Chloe', 'Cuevas', 'F', 'free')\n",
      "('49', 'Chloe', 'Cuevas', 'F', 'free')\n",
      "('49', 'Chloe', 'Cuevas', 'F', 'free')\n",
      "('49', 'Chloe', 'Cuevas', 'F', 'free')\n",
      "('49', 'Chloe', 'Cuevas', 'F', 'free')\n",
      "('49', 'Chloe', 'Cuevas', 'F', 'free')\n",
      "('49', 'Chloe', 'Cuevas', 'F', 'free')\n",
      "('88', 'Mohammad', 'Rodriguez', 'M', 'free')\n",
      "('88', 'Mohammad', 'Rodriguez', 'M', 'free')\n",
      "('96', 'Cierra', 'Finley', 'F', 'free')\n",
      "('26', 'Ryan', 'Smith', 'M', 'free')\n",
      "('96', 'Cierra', 'Finley', 'F', 'free')\n",
      "('96', 'Cierra', 'Finley', 'F', 'free')\n",
      "('44', 'Aleena', 'Kirby', 'F', 'paid')\n",
      "('96', 'Cierra', 'Finley', 'F', 'free')\n",
      "('44', 'Aleena', 'Kirby', 'F', 'paid')\n",
      "('44', 'Aleena', 'Kirby', 'F', 'paid')\n",
      "('44', 'Aleena', 'Kirby', 'F', 'paid')\n",
      "('44', 'Aleena', 'Kirby', 'F', 'paid')\n",
      "('44', 'Aleena', 'Kirby', 'F', 'paid')\n",
      "('44', 'Aleena', 'Kirby', 'F', 'paid')\n",
      "('44', 'Aleena', 'Kirby', 'F', 'paid')\n",
      "('44', 'Aleena', 'Kirby', 'F', 'paid')\n",
      "('44', 'Aleena', 'Kirby', 'F', 'paid')\n",
      "('44', 'Aleena', 'Kirby', 'F', 'paid')\n",
      "('67', 'Colm', 'Santana', 'M', 'free')\n",
      "('44', 'Aleena', 'Kirby', 'F', 'paid')\n",
      "('67', 'Colm', 'Santana', 'M', 'free')\n",
      "('44', 'Aleena', 'Kirby', 'F', 'paid')\n",
      "('67', 'Colm', 'Santana', 'M', 'free')\n",
      "('67', 'Colm', 'Santana', 'M', 'free')\n",
      "('67', 'Colm', 'Santana', 'M', 'free')\n",
      "('67', 'Colm', 'Santana', 'M', 'free')\n",
      "('67', 'Colm', 'Santana', 'M', 'free')\n",
      "('62', 'Connar', 'Moreno', 'M', 'free')\n",
      "('62', 'Connar', 'Moreno', 'M', 'free')\n",
      "('62', 'Connar', 'Moreno', 'M', 'free')\n",
      "('62', 'Connar', 'Moreno', 'M', 'free')\n",
      "('14', 'Theodore', 'Harris', 'M', 'free')\n",
      "('26', 'Ryan', 'Smith', 'M', 'free')\n",
      "('16', 'Rylan', 'George', 'M', 'free')\n",
      "('26', 'Ryan', 'Smith', 'M', 'free')\n",
      "('16', 'Rylan', 'George', 'M', 'free')\n",
      "('26', 'Ryan', 'Smith', 'M', 'free')\n",
      "('80', 'Tegan', 'Levine', 'F', 'paid')\n",
      "('80', 'Tegan', 'Levine', 'F', 'paid')\n",
      "('80', 'Tegan', 'Levine', 'F', 'paid')\n",
      "('80', 'Tegan', 'Levine', 'F', 'paid')\n",
      "('80', 'Tegan', 'Levine', 'F', 'paid')\n",
      "('80', 'Tegan', 'Levine', 'F', 'paid')\n",
      "('80', 'Tegan', 'Levine', 'F', 'paid')\n",
      "('80', 'Tegan', 'Levine', 'F', 'paid')\n",
      "('80', 'Tegan', 'Levine', 'F', 'paid')\n",
      "('80', 'Tegan', 'Levine', 'F', 'paid')\n",
      "('80', 'Tegan', 'Levine', 'F', 'paid')\n",
      "('80', 'Tegan', 'Levine', 'F', 'paid')\n",
      "('80', 'Tegan', 'Levine', 'F', 'paid')\n",
      "('35', 'Molly', 'Taylor', 'F', 'free')\n",
      "('35', 'Molly', 'Taylor', 'F', 'free')\n",
      "('35', 'Molly', 'Taylor', 'F', 'free')\n",
      "('26', 'Ryan', 'Smith', 'M', 'free')\n",
      "('26', 'Ryan', 'Smith', 'M', 'free')\n"
     ]
    }
   ],
   "source": [
    "# load user table\n",
    "user_df = df_log[['userId', 'firstName', 'lastName', 'gender', 'level']]\n",
    "\n",
    "for i, row in user_df.iterrows():\n",
    "    print(tuple(row))\n",
    "\n"
   ],
   "metadata": {
    "collapsed": false,
    "pycharm": {
     "name": "#%%\n"
    }
   }
  },
  {
   "cell_type": "code",
   "execution_count": null,
   "outputs": [],
   "source": [
    "# load songplay table\n",
    "user_df = df_log[['userId', 'firstName', 'lastName', 'gender', 'level']]\n",
    "\n",
    "for i, row in user_df.iterrows():\n",
    "    print(tuple(row))"
   ],
   "metadata": {
    "collapsed": false,
    "pycharm": {
     "name": "#%%\n"
    }
   }
  },
  {
   "cell_type": "code",
   "execution_count": null,
   "metadata": {},
   "outputs": [],
   "source": [
    "df =\n",
    "df.head()"
   ]
  },
  {
   "cell_type": "markdown",
   "metadata": {},
   "source": [
    "## #1: `songs` Table\n",
    "#### Extract Data for Songs Table\n",
    "- Select columns for song ID, title, artist ID, year, and duration\n",
    "- Use `df.values` to select just the values from the dataframe\n",
    "- Index to select the first (only) record in the dataframe\n",
    "- Convert the array to a list and set it to `song_data`"
   ]
  },
  {
   "cell_type": "code",
   "execution_count": 30,
   "outputs": [
    {
     "data": {
      "text/plain": "   num_songs           artist_id  artist_latitude  artist_longitude  \\\n0          1  ARMJAGH1187FB546F3         35.14968         -90.04892   \n0          1  ARD7TVE1187B99BFB1              NaN               NaN   \n\n   artist_location   artist_name             song_id             title  \\\n0      Memphis, TN  The Box Tops  SOCIWDW12A8C13D406         Soul Deep   \n0  California - LA        Casual  SOMZWCG12A8C13C480  I Didn't Mean To   \n\n    duration  year  \n0  148.03546  1969  \n0  218.93179     0  ",
      "text/html": "<div>\n<style scoped>\n    .dataframe tbody tr th:only-of-type {\n        vertical-align: middle;\n    }\n\n    .dataframe tbody tr th {\n        vertical-align: top;\n    }\n\n    .dataframe thead th {\n        text-align: right;\n    }\n</style>\n<table border=\"1\" class=\"dataframe\">\n  <thead>\n    <tr style=\"text-align: right;\">\n      <th></th>\n      <th>num_songs</th>\n      <th>artist_id</th>\n      <th>artist_latitude</th>\n      <th>artist_longitude</th>\n      <th>artist_location</th>\n      <th>artist_name</th>\n      <th>song_id</th>\n      <th>title</th>\n      <th>duration</th>\n      <th>year</th>\n    </tr>\n  </thead>\n  <tbody>\n    <tr>\n      <th>0</th>\n      <td>1</td>\n      <td>ARMJAGH1187FB546F3</td>\n      <td>35.14968</td>\n      <td>-90.04892</td>\n      <td>Memphis, TN</td>\n      <td>The Box Tops</td>\n      <td>SOCIWDW12A8C13D406</td>\n      <td>Soul Deep</td>\n      <td>148.03546</td>\n      <td>1969</td>\n    </tr>\n    <tr>\n      <th>0</th>\n      <td>1</td>\n      <td>ARD7TVE1187B99BFB1</td>\n      <td>NaN</td>\n      <td>NaN</td>\n      <td>California - LA</td>\n      <td>Casual</td>\n      <td>SOMZWCG12A8C13C480</td>\n      <td>I Didn't Mean To</td>\n      <td>218.93179</td>\n      <td>0</td>\n    </tr>\n  </tbody>\n</table>\n</div>"
     },
     "execution_count": 30,
     "metadata": {},
     "output_type": "execute_result"
    }
   ],
   "source": [
    "pd.read_json(song_files[5], lines=True)\n",
    "\n",
    "pd.read_json(song_files[6], lines=True)\n",
    "\n",
    "pd.concat([pd.read_json(song_files[5], lines=True), pd.read_json(song_files[6], lines=True)])"
   ],
   "metadata": {
    "collapsed": false,
    "pycharm": {
     "name": "#%%\n"
    }
   }
  },
  {
   "cell_type": "code",
   "execution_count": 32,
   "outputs": [
    {
     "data": {
      "text/plain": "   num_songs           artist_id  artist_latitude  artist_longitude  \\\n0          1  ARMJAGH1187FB546F3         35.14968         -90.04892   \n\n  artist_location   artist_name             song_id      title   duration  \\\n0     Memphis, TN  The Box Tops  SOCIWDW12A8C13D406  Soul Deep  148.03546   \n\n   year  \n0  1969  ",
      "text/html": "<div>\n<style scoped>\n    .dataframe tbody tr th:only-of-type {\n        vertical-align: middle;\n    }\n\n    .dataframe tbody tr th {\n        vertical-align: top;\n    }\n\n    .dataframe thead th {\n        text-align: right;\n    }\n</style>\n<table border=\"1\" class=\"dataframe\">\n  <thead>\n    <tr style=\"text-align: right;\">\n      <th></th>\n      <th>num_songs</th>\n      <th>artist_id</th>\n      <th>artist_latitude</th>\n      <th>artist_longitude</th>\n      <th>artist_location</th>\n      <th>artist_name</th>\n      <th>song_id</th>\n      <th>title</th>\n      <th>duration</th>\n      <th>year</th>\n    </tr>\n  </thead>\n  <tbody>\n    <tr>\n      <th>0</th>\n      <td>1</td>\n      <td>ARMJAGH1187FB546F3</td>\n      <td>35.14968</td>\n      <td>-90.04892</td>\n      <td>Memphis, TN</td>\n      <td>The Box Tops</td>\n      <td>SOCIWDW12A8C13D406</td>\n      <td>Soul Deep</td>\n      <td>148.03546</td>\n      <td>1969</td>\n    </tr>\n  </tbody>\n</table>\n</div>"
     },
     "execution_count": 32,
     "metadata": {},
     "output_type": "execute_result"
    }
   ],
   "source": [
    "pd.read_json(song_files[5], lines=True)"
   ],
   "metadata": {
    "collapsed": false,
    "pycharm": {
     "name": "#%%\n"
    }
   }
  },
  {
   "cell_type": "code",
   "execution_count": 31,
   "outputs": [
    {
     "data": {
      "text/plain": "   num_songs           artist_id  artist_latitude  artist_longitude  \\\n0          1  ARD7TVE1187B99BFB1              NaN               NaN   \n\n   artist_location artist_name             song_id             title  \\\n0  California - LA      Casual  SOMZWCG12A8C13C480  I Didn't Mean To   \n\n    duration  year  \n0  218.93179     0  ",
      "text/html": "<div>\n<style scoped>\n    .dataframe tbody tr th:only-of-type {\n        vertical-align: middle;\n    }\n\n    .dataframe tbody tr th {\n        vertical-align: top;\n    }\n\n    .dataframe thead th {\n        text-align: right;\n    }\n</style>\n<table border=\"1\" class=\"dataframe\">\n  <thead>\n    <tr style=\"text-align: right;\">\n      <th></th>\n      <th>num_songs</th>\n      <th>artist_id</th>\n      <th>artist_latitude</th>\n      <th>artist_longitude</th>\n      <th>artist_location</th>\n      <th>artist_name</th>\n      <th>song_id</th>\n      <th>title</th>\n      <th>duration</th>\n      <th>year</th>\n    </tr>\n  </thead>\n  <tbody>\n    <tr>\n      <th>0</th>\n      <td>1</td>\n      <td>ARD7TVE1187B99BFB1</td>\n      <td>NaN</td>\n      <td>NaN</td>\n      <td>California - LA</td>\n      <td>Casual</td>\n      <td>SOMZWCG12A8C13C480</td>\n      <td>I Didn't Mean To</td>\n      <td>218.93179</td>\n      <td>0</td>\n    </tr>\n  </tbody>\n</table>\n</div>"
     },
     "execution_count": 31,
     "metadata": {},
     "output_type": "execute_result"
    }
   ],
   "source": [
    "pd.read_json(song_files[6], lines=True)"
   ],
   "metadata": {
    "collapsed": false,
    "pycharm": {
     "name": "#%%\n"
    }
   }
  },
  {
   "cell_type": "code",
   "execution_count": 33,
   "outputs": [
    {
     "data": {
      "text/plain": "   num_songs           artist_id  artist_latitude  artist_longitude  \\\n0          1  ARMJAGH1187FB546F3         35.14968         -90.04892   \n0          1  ARD7TVE1187B99BFB1              NaN               NaN   \n\n   artist_location   artist_name             song_id             title  \\\n0      Memphis, TN  The Box Tops  SOCIWDW12A8C13D406         Soul Deep   \n0  California - LA        Casual  SOMZWCG12A8C13C480  I Didn't Mean To   \n\n    duration  year  \n0  148.03546  1969  \n0  218.93179     0  ",
      "text/html": "<div>\n<style scoped>\n    .dataframe tbody tr th:only-of-type {\n        vertical-align: middle;\n    }\n\n    .dataframe tbody tr th {\n        vertical-align: top;\n    }\n\n    .dataframe thead th {\n        text-align: right;\n    }\n</style>\n<table border=\"1\" class=\"dataframe\">\n  <thead>\n    <tr style=\"text-align: right;\">\n      <th></th>\n      <th>num_songs</th>\n      <th>artist_id</th>\n      <th>artist_latitude</th>\n      <th>artist_longitude</th>\n      <th>artist_location</th>\n      <th>artist_name</th>\n      <th>song_id</th>\n      <th>title</th>\n      <th>duration</th>\n      <th>year</th>\n    </tr>\n  </thead>\n  <tbody>\n    <tr>\n      <th>0</th>\n      <td>1</td>\n      <td>ARMJAGH1187FB546F3</td>\n      <td>35.14968</td>\n      <td>-90.04892</td>\n      <td>Memphis, TN</td>\n      <td>The Box Tops</td>\n      <td>SOCIWDW12A8C13D406</td>\n      <td>Soul Deep</td>\n      <td>148.03546</td>\n      <td>1969</td>\n    </tr>\n    <tr>\n      <th>0</th>\n      <td>1</td>\n      <td>ARD7TVE1187B99BFB1</td>\n      <td>NaN</td>\n      <td>NaN</td>\n      <td>California - LA</td>\n      <td>Casual</td>\n      <td>SOMZWCG12A8C13C480</td>\n      <td>I Didn't Mean To</td>\n      <td>218.93179</td>\n      <td>0</td>\n    </tr>\n  </tbody>\n</table>\n</div>"
     },
     "execution_count": 33,
     "metadata": {},
     "output_type": "execute_result"
    }
   ],
   "source": [
    "pd.concat([pd.read_json(song_files[5], lines=True), pd.read_json(song_files[6], lines=True)])"
   ],
   "metadata": {
    "collapsed": false,
    "pycharm": {
     "name": "#%%\n"
    }
   }
  },
  {
   "cell_type": "code",
   "execution_count": null,
   "metadata": {},
   "outputs": [],
   "source": [
    "song_data =\n",
    "song_data"
   ]
  },
  {
   "cell_type": "markdown",
   "metadata": {},
   "source": [
    "#### Insert Record into Song Table\n",
    "Implement the `song_table_insert` query in `sql_queries.py` and run the cell below to insert a record for this song into the `songs` table. Remember to run `create_tables.py` before running the cell below to ensure you've created/resetted the `songs` table in the sparkify database."
   ]
  },
  {
   "cell_type": "code",
   "execution_count": null,
   "metadata": {},
   "outputs": [],
   "source": [
    "cur.execute(song_table_insert, song_data)\n",
    "conn.commit()"
   ]
  },
  {
   "cell_type": "markdown",
   "metadata": {},
   "source": [
    "Run `test.ipynb` to see if you've successfully added a record to this table."
   ]
  },
  {
   "cell_type": "markdown",
   "metadata": {},
   "source": [
    "## #2: `artists` Table\n",
    "#### Extract Data for Artists Table\n",
    "- Select columns for artist ID, name, location, latitude, and longitude\n",
    "- Use `df.values` to select just the values from the dataframe\n",
    "- Index to select the first (only) record in the dataframe\n",
    "- Convert the array to a list and set it to `artist_data`"
   ]
  },
  {
   "cell_type": "code",
   "execution_count": null,
   "metadata": {},
   "outputs": [],
   "source": [
    "artist_data =\n",
    "artist_data"
   ]
  },
  {
   "cell_type": "markdown",
   "metadata": {},
   "source": [
    "#### Insert Record into Artist Table\n",
    "Implement the `artist_table_insert` query in `sql_queries.py` and run the cell below to insert a record for this song's artist into the `artists` table. Remember to run `create_tables.py` before running the cell below to ensure you've created/resetted the `artists` table in the sparkify database."
   ]
  },
  {
   "cell_type": "code",
   "execution_count": null,
   "metadata": {},
   "outputs": [],
   "source": [
    "cur.execute(artist_table_insert, artist_data)\n",
    "conn.commit()"
   ]
  },
  {
   "cell_type": "markdown",
   "metadata": {},
   "source": [
    "Run `test.ipynb` to see if you've successfully added a record to this table."
   ]
  },
  {
   "cell_type": "markdown",
   "metadata": {},
   "source": [
    "# Process `log_data`\n",
    "In this part, you'll perform ETL on the second dataset, `log_data`, to create the `time` and `users` dimensional tables, as well as the `songplays` fact table.\n",
    "\n",
    "Let's perform ETL on a single log file and load a single record into each table.\n",
    "- Use the `get_files` function provided above to get a list of all log JSON files in `data/log_data`\n",
    "- Select the first log file in this list\n",
    "- Read the log file and view the data"
   ]
  },
  {
   "cell_type": "code",
   "execution_count": null,
   "metadata": {},
   "outputs": [],
   "source": [
    "log_files ="
   ]
  },
  {
   "cell_type": "code",
   "execution_count": null,
   "metadata": {},
   "outputs": [],
   "source": [
    "filepath ="
   ]
  },
  {
   "cell_type": "code",
   "execution_count": null,
   "metadata": {},
   "outputs": [],
   "source": [
    "df =\n",
    "df.head()"
   ]
  },
  {
   "cell_type": "markdown",
   "metadata": {},
   "source": [
    "## #3: `time` Table\n",
    "#### Extract Data for Time Table\n",
    "- Filter records by `NextSong` action\n",
    "- Convert the `ts` timestamp column to datetime\n",
    "  - Hint: the current timestamp is in milliseconds\n",
    "- Extract the timestamp, hour, day, week of year, month, year, and weekday from the `ts` column and set `time_data` to a list containing these values in order\n",
    "  - Hint: use pandas' [`dt` attribute](https://pandas.pydata.org/pandas-docs/stable/reference/api/pandas.Series.dt.html) to access easily datetimelike properties.\n",
    "- Specify labels for these columns and set to `column_labels`\n",
    "- Create a dataframe, `time_df,` containing the time data for this file by combining `column_labels` and `time_data` into a dictionary and converting this into a dataframe"
   ]
  },
  {
   "cell_type": "code",
   "execution_count": null,
   "metadata": {},
   "outputs": [],
   "source": [
    "df =\n",
    "df.head()"
   ]
  },
  {
   "cell_type": "code",
   "execution_count": null,
   "metadata": {},
   "outputs": [],
   "source": [
    "t =\n",
    "t.head()"
   ]
  },
  {
   "cell_type": "code",
   "execution_count": null,
   "metadata": {},
   "outputs": [],
   "source": [
    "time_data = ()\n",
    "column_labels = ()"
   ]
  },
  {
   "cell_type": "code",
   "execution_count": null,
   "metadata": {},
   "outputs": [],
   "source": [
    "time_df =\n",
    "time_df.head()"
   ]
  },
  {
   "cell_type": "markdown",
   "metadata": {},
   "source": [
    "#### Insert Records into Time Table\n",
    "Implement the `time_table_insert` query in `sql_queries.py` and run the cell below to insert records for the timestamps in this log file into the `time` table. Remember to run `create_tables.py` before running the cell below to ensure you've created/resetted the `time` table in the sparkify database."
   ]
  },
  {
   "cell_type": "code",
   "execution_count": null,
   "metadata": {},
   "outputs": [],
   "source": [
    "for i, row in time_df.iterrows():\n",
    "    cur.execute(time_table_insert, list(row))\n",
    "    conn.commit()"
   ]
  },
  {
   "cell_type": "markdown",
   "metadata": {},
   "source": [
    "Run `test.ipynb` to see if you've successfully added records to this table."
   ]
  },
  {
   "cell_type": "markdown",
   "metadata": {},
   "source": [
    "## #4: `users` Table\n",
    "#### Extract Data for Users Table\n",
    "- Select columns for user ID, first name, last name, gender and level and set to `user_df`"
   ]
  },
  {
   "cell_type": "code",
   "execution_count": null,
   "metadata": {},
   "outputs": [],
   "source": [
    "user_df ="
   ]
  },
  {
   "cell_type": "markdown",
   "metadata": {},
   "source": [
    "#### Insert Records into Users Table\n",
    "Implement the `user_table_insert` query in `sql_queries.py` and run the cell below to insert records for the users in this log file into the `users` table. Remember to run `create_tables.py` before running the cell below to ensure you've created/resetted the `users` table in the sparkify database."
   ]
  },
  {
   "cell_type": "code",
   "execution_count": null,
   "metadata": {},
   "outputs": [],
   "source": [
    "for i, row in user_df.iterrows():\n",
    "    cur.execute(user_table_insert, row)\n",
    "    conn.commit()"
   ]
  },
  {
   "cell_type": "markdown",
   "metadata": {},
   "source": [
    "Run `test.ipynb` to see if you've successfully added records to this table."
   ]
  },
  {
   "cell_type": "markdown",
   "metadata": {},
   "source": [
    "## #5: `songplays` Table\n",
    "#### Extract Data and Songplays Table\n",
    "This one is a little more complicated since information from the songs table, artists table, and original log file are all needed for the `songplays` table. Since the log file does not specify an ID for either the song or the artist, you'll need to get the song ID and artist ID by querying the songs and artists tables to find matches based on song title, artist name, and song duration time.\n",
    "- Implement the `song_select` query in `sql_queries.py` to find the song ID and artist ID based on the title, artist name, and duration of a song.\n",
    "- Select the timestamp, user ID, level, song ID, artist ID, session ID, location, and user agent and set to `songplay_data`\n",
    "\n",
    "#### Insert Records into Songplays Table\n",
    "- Implement the `songplay_table_insert` query and run the cell below to insert records for the songplay actions in this log file into the `songplays` table. Remember to run `create_tables.py` before running the cell below to ensure you've created/resetted the `songplays` table in the sparkify database."
   ]
  },
  {
   "cell_type": "code",
   "execution_count": null,
   "metadata": {},
   "outputs": [],
   "source": [
    "for index, row in df.iterrows():\n",
    "\n",
    "    # get songid and artistid from song and artist tables\n",
    "    cur.execute(song_select, (row.song, row.artist, row.length))\n",
    "    results = cur.fetchone()\n",
    "\n",
    "    if results:\n",
    "        songid, artistid = results\n",
    "    else:\n",
    "        songid, artistid = None, None\n",
    "\n",
    "    # insert songplay record\n",
    "    songplay_data = ()\n",
    "    cur.execute(songplay_table_insert, songplay_data)\n",
    "    conn.commit()"
   ]
  },
  {
   "cell_type": "markdown",
   "metadata": {},
   "source": [
    "Run `test.ipynb` to see if you've successfully added records to this table."
   ]
  },
  {
   "cell_type": "markdown",
   "metadata": {},
   "source": [
    "# Close Connection to Sparkify Database"
   ]
  },
  {
   "cell_type": "code",
   "execution_count": null,
   "metadata": {},
   "outputs": [],
   "source": [
    "conn.close()"
   ]
  },
  {
   "cell_type": "markdown",
   "metadata": {},
   "source": [
    "# Implement `etl.py`\n",
    "Use what you've completed in this notebook to implement `etl.py`."
   ]
  },
  {
   "cell_type": "code",
   "execution_count": null,
   "metadata": {},
   "outputs": [],
   "source": []
  }
 ],
 "metadata": {
  "kernelspec": {
   "display_name": "Python 3",
   "language": "python",
   "name": "python3"
  },
  "language_info": {
   "codemirror_mode": {
    "name": "ipython",
    "version": 3
   },
   "file_extension": ".py",
   "mimetype": "text/x-python",
   "name": "python",
   "nbconvert_exporter": "python",
   "pygments_lexer": "ipython3",
   "version": "3.6.3"
  }
 },
 "nbformat": 4,
 "nbformat_minor": 2
}