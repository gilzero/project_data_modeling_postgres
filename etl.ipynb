{
 "cells": [
  {
   "cell_type": "markdown",
   "metadata": {},
   "source": [
    "# ETL Processes\n",
    "Use this notebook to develop the ETL process for each of your tables before completing the `etl.py` file to load the whole datasets."
   ]
  },
  {
   "cell_type": "code",
   "execution_count": 1,
   "metadata": {},
   "outputs": [],
   "source": [
    "import os\n",
    "import glob\n",
    "import psycopg2\n",
    "import pandas as pd\n",
    "from sql_queries import *"
   ]
  },
  {
   "cell_type": "code",
   "execution_count": 6,
   "metadata": {},
   "outputs": [],
   "source": [
    "conn = psycopg2.connect(\"host=127.0.0.1 dbname=sparkifydb user=newuser password=student\")\n",
    "cur = conn.cursor()"
   ]
  },
  {
   "cell_type": "code",
   "execution_count": 9,
   "metadata": {},
   "outputs": [],
   "source": [
    "def get_files(filepath):\n",
    "    all_files = []\n",
    "    for root, dirs, files in os.walk(filepath):\n",
    "        files = glob.glob(os.path.join(root,'*.json'))\n",
    "        for f in files :\n",
    "            all_files.append(os.path.abspath(f))\n",
    "    \n",
    "    return all_files"
   ]
  },
  {
   "cell_type": "markdown",
   "metadata": {},
   "source": [
    "# Process `song_data`\n",
    "In this first part, you'll perform ETL on the first dataset, `song_data`, to create the `songs` and `artists` dimensional tables.\n",
    "\n",
    "Let's perform ETL on a single song file and load a single record into each table to start.\n",
    "- Use the `get_files` function provided above to get a list of all song JSON files in `data/song_data`\n",
    "- Select the first song in this list\n",
    "- Read the song file and view the data"
   ]
  },
  {
   "cell_type": "code",
   "execution_count": 15,
   "metadata": {},
   "outputs": [],
   "source": [
    "song_files = get_files('data/song_data')"
   ]
  },
  {
   "cell_type": "code",
   "execution_count": 16,
   "outputs": [
    {
     "data": {
      "text/plain": "['/Users/apple/pyprojects/project_data_modeling_postgres/data/song_data/A/A/A/TRAAAEF128F4273421.json',\n '/Users/apple/pyprojects/project_data_modeling_postgres/data/song_data/A/A/A/TRAAARJ128F9320760.json',\n '/Users/apple/pyprojects/project_data_modeling_postgres/data/song_data/A/A/A/TRAAAFD128F92F423A.json',\n '/Users/apple/pyprojects/project_data_modeling_postgres/data/song_data/A/A/A/TRAAAPK128E0786D96.json',\n '/Users/apple/pyprojects/project_data_modeling_postgres/data/song_data/A/A/A/TRAAAVO128F93133D4.json',\n '/Users/apple/pyprojects/project_data_modeling_postgres/data/song_data/A/A/A/TRAAABD128F429CF47.json',\n '/Users/apple/pyprojects/project_data_modeling_postgres/data/song_data/A/A/A/TRAAAAW128F429D538.json',\n '/Users/apple/pyprojects/project_data_modeling_postgres/data/song_data/A/A/A/TRAAADZ128F9348C2E.json',\n '/Users/apple/pyprojects/project_data_modeling_postgres/data/song_data/A/A/A/TRAAAVG12903CFA543.json',\n '/Users/apple/pyprojects/project_data_modeling_postgres/data/song_data/A/A/A/TRAAAMO128F1481E7F.json',\n '/Users/apple/pyprojects/project_data_modeling_postgres/data/song_data/A/A/A/TRAAAMQ128F1460CD3.json',\n '/Users/apple/pyprojects/project_data_modeling_postgres/data/song_data/A/A/C/TRAACOW128F933E35F.json',\n '/Users/apple/pyprojects/project_data_modeling_postgres/data/song_data/A/A/C/TRAACPE128F421C1B9.json',\n '/Users/apple/pyprojects/project_data_modeling_postgres/data/song_data/A/A/C/TRAACTB12903CAAF15.json',\n '/Users/apple/pyprojects/project_data_modeling_postgres/data/song_data/A/A/C/TRAACFV128F935E50B.json',\n '/Users/apple/pyprojects/project_data_modeling_postgres/data/song_data/A/A/C/TRAACIW12903CC0F6D.json',\n '/Users/apple/pyprojects/project_data_modeling_postgres/data/song_data/A/A/C/TRAACVS128E078BE39.json',\n '/Users/apple/pyprojects/project_data_modeling_postgres/data/song_data/A/A/C/TRAACER128F4290F96.json',\n '/Users/apple/pyprojects/project_data_modeling_postgres/data/song_data/A/A/C/TRAACSL128F93462F4.json',\n '/Users/apple/pyprojects/project_data_modeling_postgres/data/song_data/A/A/C/TRAACHN128F1489601.json',\n '/Users/apple/pyprojects/project_data_modeling_postgres/data/song_data/A/A/C/TRAACLV128F427E123.json',\n '/Users/apple/pyprojects/project_data_modeling_postgres/data/song_data/A/A/C/TRAACZK128F4243829.json',\n '/Users/apple/pyprojects/project_data_modeling_postgres/data/song_data/A/A/C/TRAACCG128F92E8A55.json',\n '/Users/apple/pyprojects/project_data_modeling_postgres/data/song_data/A/A/C/TRAACQT128F9331780.json',\n '/Users/apple/pyprojects/project_data_modeling_postgres/data/song_data/A/A/C/TRAACNS128F14A2DF5.json',\n '/Users/apple/pyprojects/project_data_modeling_postgres/data/song_data/A/A/B/TRAABDL12903CAABBA.json',\n '/Users/apple/pyprojects/project_data_modeling_postgres/data/song_data/A/A/B/TRAABXG128F9318EBD.json',\n '/Users/apple/pyprojects/project_data_modeling_postgres/data/song_data/A/A/B/TRAABYN12903CFD305.json',\n '/Users/apple/pyprojects/project_data_modeling_postgres/data/song_data/A/A/B/TRAABNV128F425CEE1.json',\n '/Users/apple/pyprojects/project_data_modeling_postgres/data/song_data/A/A/B/TRAABJL12903CDCF1A.json',\n '/Users/apple/pyprojects/project_data_modeling_postgres/data/song_data/A/A/B/TRAABCL128F4286650.json',\n '/Users/apple/pyprojects/project_data_modeling_postgres/data/song_data/A/A/B/TRAABYW128F4244559.json',\n '/Users/apple/pyprojects/project_data_modeling_postgres/data/song_data/A/A/B/TRAABJV128F1460C49.json',\n '/Users/apple/pyprojects/project_data_modeling_postgres/data/song_data/A/A/B/TRAABLR128F423B7E3.json',\n '/Users/apple/pyprojects/project_data_modeling_postgres/data/song_data/A/A/B/TRAABRB128F9306DD5.json',\n '/Users/apple/pyprojects/project_data_modeling_postgres/data/song_data/A/A/B/TRAABVM128F92CA9DC.json',\n '/Users/apple/pyprojects/project_data_modeling_postgres/data/song_data/A/B/A/TRABAVQ12903CBF7E0.json',\n '/Users/apple/pyprojects/project_data_modeling_postgres/data/song_data/A/B/A/TRABAIO128F42938F9.json',\n '/Users/apple/pyprojects/project_data_modeling_postgres/data/song_data/A/B/A/TRABAWW128F4250A31.json',\n '/Users/apple/pyprojects/project_data_modeling_postgres/data/song_data/A/B/A/TRABAFJ128F42AF24E.json',\n '/Users/apple/pyprojects/project_data_modeling_postgres/data/song_data/A/B/A/TRABAXV128F92F6AE3.json',\n '/Users/apple/pyprojects/project_data_modeling_postgres/data/song_data/A/B/A/TRABAFP128F931E9A1.json',\n '/Users/apple/pyprojects/project_data_modeling_postgres/data/song_data/A/B/A/TRABAXL128F424FC50.json',\n '/Users/apple/pyprojects/project_data_modeling_postgres/data/song_data/A/B/A/TRABATO128F42627E9.json',\n '/Users/apple/pyprojects/project_data_modeling_postgres/data/song_data/A/B/A/TRABAXR128F426515F.json',\n '/Users/apple/pyprojects/project_data_modeling_postgres/data/song_data/A/B/A/TRABACN128F425B784.json',\n '/Users/apple/pyprojects/project_data_modeling_postgres/data/song_data/A/B/A/TRABAZH128F930419A.json',\n '/Users/apple/pyprojects/project_data_modeling_postgres/data/song_data/A/B/C/TRABCFL128F149BB0D.json',\n '/Users/apple/pyprojects/project_data_modeling_postgres/data/song_data/A/B/C/TRABCAJ12903CDFCC2.json',\n '/Users/apple/pyprojects/project_data_modeling_postgres/data/song_data/A/B/C/TRABCKL128F423A778.json',\n '/Users/apple/pyprojects/project_data_modeling_postgres/data/song_data/A/B/C/TRABCEI128F424C983.json',\n '/Users/apple/pyprojects/project_data_modeling_postgres/data/song_data/A/B/C/TRABCEC128F426456E.json',\n '/Users/apple/pyprojects/project_data_modeling_postgres/data/song_data/A/B/C/TRABCUQ128E0783E2B.json',\n '/Users/apple/pyprojects/project_data_modeling_postgres/data/song_data/A/B/C/TRABCRU128F423F449.json',\n '/Users/apple/pyprojects/project_data_modeling_postgres/data/song_data/A/B/C/TRABCXB128F4286BD3.json',\n '/Users/apple/pyprojects/project_data_modeling_postgres/data/song_data/A/B/C/TRABCPZ128F4275C32.json',\n '/Users/apple/pyprojects/project_data_modeling_postgres/data/song_data/A/B/C/TRABCYE128F934CE1D.json',\n '/Users/apple/pyprojects/project_data_modeling_postgres/data/song_data/A/B/C/TRABCIX128F4265903.json',\n '/Users/apple/pyprojects/project_data_modeling_postgres/data/song_data/A/B/C/TRABCTK128F934B224.json',\n '/Users/apple/pyprojects/project_data_modeling_postgres/data/song_data/A/B/B/TRABBKX128F4285205.json',\n '/Users/apple/pyprojects/project_data_modeling_postgres/data/song_data/A/B/B/TRABBBV128F42967D7.json',\n '/Users/apple/pyprojects/project_data_modeling_postgres/data/song_data/A/B/B/TRABBOR128F4286200.json',\n '/Users/apple/pyprojects/project_data_modeling_postgres/data/song_data/A/B/B/TRABBAM128F429D223.json',\n '/Users/apple/pyprojects/project_data_modeling_postgres/data/song_data/A/B/B/TRABBVJ128F92F7EAA.json',\n '/Users/apple/pyprojects/project_data_modeling_postgres/data/song_data/A/B/B/TRABBXU128F92FEF48.json',\n '/Users/apple/pyprojects/project_data_modeling_postgres/data/song_data/A/B/B/TRABBZN12903CD9297.json',\n '/Users/apple/pyprojects/project_data_modeling_postgres/data/song_data/A/B/B/TRABBTA128F933D304.json',\n '/Users/apple/pyprojects/project_data_modeling_postgres/data/song_data/A/B/B/TRABBNP128F932546F.json',\n '/Users/apple/pyprojects/project_data_modeling_postgres/data/song_data/A/B/B/TRABBOP128F931B50D.json',\n '/Users/apple/pyprojects/project_data_modeling_postgres/data/song_data/A/B/B/TRABBLU128F93349CF.json',\n '/Users/apple/pyprojects/project_data_modeling_postgres/data/song_data/A/B/B/TRABBJE12903CDB442.json']"
     },
     "execution_count": 16,
     "metadata": {},
     "output_type": "execute_result"
    }
   ],
   "source": [
    "song_files"
   ],
   "metadata": {
    "collapsed": false,
    "pycharm": {
     "name": "#%%\n"
    }
   }
  },
  {
   "cell_type": "code",
   "execution_count": 24,
   "outputs": [
    {
     "data": {
      "text/plain": "71"
     },
     "execution_count": 24,
     "metadata": {},
     "output_type": "execute_result"
    }
   ],
   "source": [
    "len(song_files)"
   ],
   "metadata": {
    "collapsed": false,
    "pycharm": {
     "name": "#%%\n"
    }
   }
  },
  {
   "cell_type": "code",
   "execution_count": 25,
   "outputs": [
    {
     "data": {
      "text/plain": "                                   0\nnum_songs                          1\nartist_id         ARMJAGH1187FB546F3\nartist_latitude             35.14968\nartist_longitude           -90.04892\nartist_location          Memphis, TN\nartist_name             The Box Tops\nsong_id           SOCIWDW12A8C13D406\ntitle                      Soul Deep\nduration                   148.03546\nyear                            1969",
      "text/html": "<div>\n<style scoped>\n    .dataframe tbody tr th:only-of-type {\n        vertical-align: middle;\n    }\n\n    .dataframe tbody tr th {\n        vertical-align: top;\n    }\n\n    .dataframe thead th {\n        text-align: right;\n    }\n</style>\n<table border=\"1\" class=\"dataframe\">\n  <thead>\n    <tr style=\"text-align: right;\">\n      <th></th>\n      <th>0</th>\n    </tr>\n  </thead>\n  <tbody>\n    <tr>\n      <th>num_songs</th>\n      <td>1</td>\n    </tr>\n    <tr>\n      <th>artist_id</th>\n      <td>ARMJAGH1187FB546F3</td>\n    </tr>\n    <tr>\n      <th>artist_latitude</th>\n      <td>35.14968</td>\n    </tr>\n    <tr>\n      <th>artist_longitude</th>\n      <td>-90.04892</td>\n    </tr>\n    <tr>\n      <th>artist_location</th>\n      <td>Memphis, TN</td>\n    </tr>\n    <tr>\n      <th>artist_name</th>\n      <td>The Box Tops</td>\n    </tr>\n    <tr>\n      <th>song_id</th>\n      <td>SOCIWDW12A8C13D406</td>\n    </tr>\n    <tr>\n      <th>title</th>\n      <td>Soul Deep</td>\n    </tr>\n    <tr>\n      <th>duration</th>\n      <td>148.03546</td>\n    </tr>\n    <tr>\n      <th>year</th>\n      <td>1969</td>\n    </tr>\n  </tbody>\n</table>\n</div>"
     },
     "execution_count": 25,
     "metadata": {},
     "output_type": "execute_result"
    }
   ],
   "source": [
    "pd.read_json(song_files[5], lines=True).T"
   ],
   "metadata": {
    "collapsed": false,
    "pycharm": {
     "name": "#%%\n"
    }
   }
  },
  {
   "cell_type": "code",
   "execution_count": 17,
   "metadata": {},
   "outputs": [
    {
     "data": {
      "text/plain": "['/Users/apple/pyprojects/project_data_modeling_postgres/data/log_data/2018/11/2018-11-11-events.json',\n '/Users/apple/pyprojects/project_data_modeling_postgres/data/log_data/2018/11/2018-11-23-events.json',\n '/Users/apple/pyprojects/project_data_modeling_postgres/data/log_data/2018/11/2018-11-18-events.json',\n '/Users/apple/pyprojects/project_data_modeling_postgres/data/log_data/2018/11/2018-11-04-events.json',\n '/Users/apple/pyprojects/project_data_modeling_postgres/data/log_data/2018/11/2018-11-01-events.json',\n '/Users/apple/pyprojects/project_data_modeling_postgres/data/log_data/2018/11/2018-11-14-events.json',\n '/Users/apple/pyprojects/project_data_modeling_postgres/data/log_data/2018/11/2018-11-08-events.json',\n '/Users/apple/pyprojects/project_data_modeling_postgres/data/log_data/2018/11/2018-11-26-events.json',\n '/Users/apple/pyprojects/project_data_modeling_postgres/data/log_data/2018/11/2018-11-25-events.json',\n '/Users/apple/pyprojects/project_data_modeling_postgres/data/log_data/2018/11/2018-11-17-events.json',\n '/Users/apple/pyprojects/project_data_modeling_postgres/data/log_data/2018/11/2018-11-02-events.json',\n '/Users/apple/pyprojects/project_data_modeling_postgres/data/log_data/2018/11/2018-11-30-events.json',\n '/Users/apple/pyprojects/project_data_modeling_postgres/data/log_data/2018/11/2018-11-07-events.json',\n '/Users/apple/pyprojects/project_data_modeling_postgres/data/log_data/2018/11/2018-11-29-events.json',\n '/Users/apple/pyprojects/project_data_modeling_postgres/data/log_data/2018/11/2018-11-20-events.json',\n '/Users/apple/pyprojects/project_data_modeling_postgres/data/log_data/2018/11/2018-11-12-events.json',\n '/Users/apple/pyprojects/project_data_modeling_postgres/data/log_data/2018/11/2018-11-09-events.json',\n '/Users/apple/pyprojects/project_data_modeling_postgres/data/log_data/2018/11/2018-11-27-events.json',\n '/Users/apple/pyprojects/project_data_modeling_postgres/data/log_data/2018/11/2018-11-15-events.json',\n '/Users/apple/pyprojects/project_data_modeling_postgres/data/log_data/2018/11/2018-11-05-events.json',\n '/Users/apple/pyprojects/project_data_modeling_postgres/data/log_data/2018/11/2018-11-19-events.json',\n '/Users/apple/pyprojects/project_data_modeling_postgres/data/log_data/2018/11/2018-11-22-events.json',\n '/Users/apple/pyprojects/project_data_modeling_postgres/data/log_data/2018/11/2018-11-10-events.json',\n '/Users/apple/pyprojects/project_data_modeling_postgres/data/log_data/2018/11/2018-11-13-events.json',\n '/Users/apple/pyprojects/project_data_modeling_postgres/data/log_data/2018/11/2018-11-21-events.json',\n '/Users/apple/pyprojects/project_data_modeling_postgres/data/log_data/2018/11/2018-11-06-events.json',\n '/Users/apple/pyprojects/project_data_modeling_postgres/data/log_data/2018/11/2018-11-28-events.json',\n '/Users/apple/pyprojects/project_data_modeling_postgres/data/log_data/2018/11/2018-11-03-events.json',\n '/Users/apple/pyprojects/project_data_modeling_postgres/data/log_data/2018/11/2018-11-16-events.json',\n '/Users/apple/pyprojects/project_data_modeling_postgres/data/log_data/2018/11/2018-11-24-events.json']"
     },
     "execution_count": 17,
     "metadata": {},
     "output_type": "execute_result"
    }
   ],
   "source": [
    "filepath = get_files('data/log_data')\n",
    "filepath\n"
   ]
  },
  {
   "cell_type": "code",
   "execution_count": 20,
   "outputs": [
    {
     "data": {
      "text/plain": "                       artist       auth firstName gender  itemInSession  \\\n0                    Frumpies  Logged In  Anabelle      F              0   \n1   Kenny G with Peabo Bryson  Logged In  Anabelle      F              1   \n2                 Biffy Clyro  Logged In  Anabelle      F              2   \n3                        None  Logged In      Lily      F              0   \n4                         HIM  Logged In      Lily      F              1   \n..                        ...        ...       ...    ...            ...   \n90          Sidewalk Prophets  Logged In     Molly      F              0   \n91               Rise Against  Logged In     Molly      F              1   \n92                     K'Naan  Logged In     Molly      F              2   \n93             Patrick Jumpen  Logged In      Ryan      M              0   \n94                Alicia Keys  Logged In      Ryan      M              1   \n\n   lastName     length level                                     location  \\\n0   Simpson  134.47791  free  Philadelphia-Camden-Wilmington, PA-NJ-DE-MD   \n1   Simpson  264.75057  free  Philadelphia-Camden-Wilmington, PA-NJ-DE-MD   \n2   Simpson  189.83138  free  Philadelphia-Camden-Wilmington, PA-NJ-DE-MD   \n3     Burns        NaN  free        New York-Newark-Jersey City, NY-NJ-PA   \n4     Burns  212.06159  free        New York-Newark-Jersey City, NY-NJ-PA   \n..      ...        ...   ...                                          ...   \n90   Taylor  260.62322  free                             St. Louis, MO-IL   \n91   Taylor  221.17832  free                             St. Louis, MO-IL   \n92   Taylor  220.49914  free                             St. Louis, MO-IL   \n93    Smith  208.87465  free           San Jose-Sunnyvale-Santa Clara, CA   \n94    Smith  216.47628  free           San Jose-Sunnyvale-Santa Clara, CA   \n\n   method      page  registration  sessionId  \\\n0     PUT  NextSong  1.541044e+12        455   \n1     PUT  NextSong  1.541044e+12        455   \n2     PUT  NextSong  1.541044e+12        455   \n3     GET      Home  1.540621e+12        456   \n4     PUT  NextSong  1.540621e+12        456   \n..    ...       ...           ...        ...   \n90    PUT  NextSong  1.540993e+12        464   \n91    PUT  NextSong  1.540993e+12        464   \n92    PUT  NextSong  1.540993e+12        464   \n93    PUT  NextSong  1.541017e+12        480   \n94    PUT  NextSong  1.541017e+12        480   \n\n                                          song  status             ts  \\\n0                                   Fuck Kitty     200  1541903636796   \n1               By The Time This Night Is Over     200  1541903770796   \n2                                  God & Satan     200  1541904034796   \n3                                         None     200  1541910841796   \n4                                    Beautiful     200  1541910973796   \n..                                         ...     ...            ...   \n90                  You Love Me Anyway (Album)     200  1541970568796   \n91                                     Torches     200  1541970828796   \n92                                Wavin'  Flag     200  1541971049796   \n93                                     Holiday     200  1541979540796   \n94  Empire State Of Mind (Part II) Broken Down     200  1541979748796   \n\n                                            userAgent userId  \n0   \"Mozilla/5.0 (Macintosh; Intel Mac OS X 10_9_4...     69  \n1   \"Mozilla/5.0 (Macintosh; Intel Mac OS X 10_9_4...     69  \n2   \"Mozilla/5.0 (Macintosh; Intel Mac OS X 10_9_4...     69  \n3   \"Mozilla/5.0 (Windows NT 6.1; WOW64) AppleWebK...     32  \n4   \"Mozilla/5.0 (Windows NT 6.1; WOW64) AppleWebK...     32  \n..                                                ...    ...  \n90  \"Mozilla/5.0 (X11; Linux x86_64) AppleWebKit/5...     35  \n91  \"Mozilla/5.0 (X11; Linux x86_64) AppleWebKit/5...     35  \n92  \"Mozilla/5.0 (X11; Linux x86_64) AppleWebKit/5...     35  \n93  \"Mozilla/5.0 (X11; Linux x86_64) AppleWebKit/5...     26  \n94  \"Mozilla/5.0 (X11; Linux x86_64) AppleWebKit/5...     26  \n\n[95 rows x 18 columns]",
      "text/html": "<div>\n<style scoped>\n    .dataframe tbody tr th:only-of-type {\n        vertical-align: middle;\n    }\n\n    .dataframe tbody tr th {\n        vertical-align: top;\n    }\n\n    .dataframe thead th {\n        text-align: right;\n    }\n</style>\n<table border=\"1\" class=\"dataframe\">\n  <thead>\n    <tr style=\"text-align: right;\">\n      <th></th>\n      <th>artist</th>\n      <th>auth</th>\n      <th>firstName</th>\n      <th>gender</th>\n      <th>itemInSession</th>\n      <th>lastName</th>\n      <th>length</th>\n      <th>level</th>\n      <th>location</th>\n      <th>method</th>\n      <th>page</th>\n      <th>registration</th>\n      <th>sessionId</th>\n      <th>song</th>\n      <th>status</th>\n      <th>ts</th>\n      <th>userAgent</th>\n      <th>userId</th>\n    </tr>\n  </thead>\n  <tbody>\n    <tr>\n      <th>0</th>\n      <td>Frumpies</td>\n      <td>Logged In</td>\n      <td>Anabelle</td>\n      <td>F</td>\n      <td>0</td>\n      <td>Simpson</td>\n      <td>134.47791</td>\n      <td>free</td>\n      <td>Philadelphia-Camden-Wilmington, PA-NJ-DE-MD</td>\n      <td>PUT</td>\n      <td>NextSong</td>\n      <td>1.541044e+12</td>\n      <td>455</td>\n      <td>Fuck Kitty</td>\n      <td>200</td>\n      <td>1541903636796</td>\n      <td>\"Mozilla/5.0 (Macintosh; Intel Mac OS X 10_9_4...</td>\n      <td>69</td>\n    </tr>\n    <tr>\n      <th>1</th>\n      <td>Kenny G with Peabo Bryson</td>\n      <td>Logged In</td>\n      <td>Anabelle</td>\n      <td>F</td>\n      <td>1</td>\n      <td>Simpson</td>\n      <td>264.75057</td>\n      <td>free</td>\n      <td>Philadelphia-Camden-Wilmington, PA-NJ-DE-MD</td>\n      <td>PUT</td>\n      <td>NextSong</td>\n      <td>1.541044e+12</td>\n      <td>455</td>\n      <td>By The Time This Night Is Over</td>\n      <td>200</td>\n      <td>1541903770796</td>\n      <td>\"Mozilla/5.0 (Macintosh; Intel Mac OS X 10_9_4...</td>\n      <td>69</td>\n    </tr>\n    <tr>\n      <th>2</th>\n      <td>Biffy Clyro</td>\n      <td>Logged In</td>\n      <td>Anabelle</td>\n      <td>F</td>\n      <td>2</td>\n      <td>Simpson</td>\n      <td>189.83138</td>\n      <td>free</td>\n      <td>Philadelphia-Camden-Wilmington, PA-NJ-DE-MD</td>\n      <td>PUT</td>\n      <td>NextSong</td>\n      <td>1.541044e+12</td>\n      <td>455</td>\n      <td>God &amp; Satan</td>\n      <td>200</td>\n      <td>1541904034796</td>\n      <td>\"Mozilla/5.0 (Macintosh; Intel Mac OS X 10_9_4...</td>\n      <td>69</td>\n    </tr>\n    <tr>\n      <th>3</th>\n      <td>None</td>\n      <td>Logged In</td>\n      <td>Lily</td>\n      <td>F</td>\n      <td>0</td>\n      <td>Burns</td>\n      <td>NaN</td>\n      <td>free</td>\n      <td>New York-Newark-Jersey City, NY-NJ-PA</td>\n      <td>GET</td>\n      <td>Home</td>\n      <td>1.540621e+12</td>\n      <td>456</td>\n      <td>None</td>\n      <td>200</td>\n      <td>1541910841796</td>\n      <td>\"Mozilla/5.0 (Windows NT 6.1; WOW64) AppleWebK...</td>\n      <td>32</td>\n    </tr>\n    <tr>\n      <th>4</th>\n      <td>HIM</td>\n      <td>Logged In</td>\n      <td>Lily</td>\n      <td>F</td>\n      <td>1</td>\n      <td>Burns</td>\n      <td>212.06159</td>\n      <td>free</td>\n      <td>New York-Newark-Jersey City, NY-NJ-PA</td>\n      <td>PUT</td>\n      <td>NextSong</td>\n      <td>1.540621e+12</td>\n      <td>456</td>\n      <td>Beautiful</td>\n      <td>200</td>\n      <td>1541910973796</td>\n      <td>\"Mozilla/5.0 (Windows NT 6.1; WOW64) AppleWebK...</td>\n      <td>32</td>\n    </tr>\n    <tr>\n      <th>...</th>\n      <td>...</td>\n      <td>...</td>\n      <td>...</td>\n      <td>...</td>\n      <td>...</td>\n      <td>...</td>\n      <td>...</td>\n      <td>...</td>\n      <td>...</td>\n      <td>...</td>\n      <td>...</td>\n      <td>...</td>\n      <td>...</td>\n      <td>...</td>\n      <td>...</td>\n      <td>...</td>\n      <td>...</td>\n      <td>...</td>\n    </tr>\n    <tr>\n      <th>90</th>\n      <td>Sidewalk Prophets</td>\n      <td>Logged In</td>\n      <td>Molly</td>\n      <td>F</td>\n      <td>0</td>\n      <td>Taylor</td>\n      <td>260.62322</td>\n      <td>free</td>\n      <td>St. Louis, MO-IL</td>\n      <td>PUT</td>\n      <td>NextSong</td>\n      <td>1.540993e+12</td>\n      <td>464</td>\n      <td>You Love Me Anyway (Album)</td>\n      <td>200</td>\n      <td>1541970568796</td>\n      <td>\"Mozilla/5.0 (X11; Linux x86_64) AppleWebKit/5...</td>\n      <td>35</td>\n    </tr>\n    <tr>\n      <th>91</th>\n      <td>Rise Against</td>\n      <td>Logged In</td>\n      <td>Molly</td>\n      <td>F</td>\n      <td>1</td>\n      <td>Taylor</td>\n      <td>221.17832</td>\n      <td>free</td>\n      <td>St. Louis, MO-IL</td>\n      <td>PUT</td>\n      <td>NextSong</td>\n      <td>1.540993e+12</td>\n      <td>464</td>\n      <td>Torches</td>\n      <td>200</td>\n      <td>1541970828796</td>\n      <td>\"Mozilla/5.0 (X11; Linux x86_64) AppleWebKit/5...</td>\n      <td>35</td>\n    </tr>\n    <tr>\n      <th>92</th>\n      <td>K'Naan</td>\n      <td>Logged In</td>\n      <td>Molly</td>\n      <td>F</td>\n      <td>2</td>\n      <td>Taylor</td>\n      <td>220.49914</td>\n      <td>free</td>\n      <td>St. Louis, MO-IL</td>\n      <td>PUT</td>\n      <td>NextSong</td>\n      <td>1.540993e+12</td>\n      <td>464</td>\n      <td>Wavin'  Flag</td>\n      <td>200</td>\n      <td>1541971049796</td>\n      <td>\"Mozilla/5.0 (X11; Linux x86_64) AppleWebKit/5...</td>\n      <td>35</td>\n    </tr>\n    <tr>\n      <th>93</th>\n      <td>Patrick Jumpen</td>\n      <td>Logged In</td>\n      <td>Ryan</td>\n      <td>M</td>\n      <td>0</td>\n      <td>Smith</td>\n      <td>208.87465</td>\n      <td>free</td>\n      <td>San Jose-Sunnyvale-Santa Clara, CA</td>\n      <td>PUT</td>\n      <td>NextSong</td>\n      <td>1.541017e+12</td>\n      <td>480</td>\n      <td>Holiday</td>\n      <td>200</td>\n      <td>1541979540796</td>\n      <td>\"Mozilla/5.0 (X11; Linux x86_64) AppleWebKit/5...</td>\n      <td>26</td>\n    </tr>\n    <tr>\n      <th>94</th>\n      <td>Alicia Keys</td>\n      <td>Logged In</td>\n      <td>Ryan</td>\n      <td>M</td>\n      <td>1</td>\n      <td>Smith</td>\n      <td>216.47628</td>\n      <td>free</td>\n      <td>San Jose-Sunnyvale-Santa Clara, CA</td>\n      <td>PUT</td>\n      <td>NextSong</td>\n      <td>1.541017e+12</td>\n      <td>480</td>\n      <td>Empire State Of Mind (Part II) Broken Down</td>\n      <td>200</td>\n      <td>1541979748796</td>\n      <td>\"Mozilla/5.0 (X11; Linux x86_64) AppleWebKit/5...</td>\n      <td>26</td>\n    </tr>\n  </tbody>\n</table>\n<p>95 rows × 18 columns</p>\n</div>"
     },
     "execution_count": 20,
     "metadata": {},
     "output_type": "execute_result"
    }
   ],
   "source": [
    "pd.read_json(filepath[0], lines=True)"
   ],
   "metadata": {
    "collapsed": false,
    "pycharm": {
     "name": "#%%\n"
    }
   }
  },
  {
   "cell_type": "code",
   "execution_count": null,
   "metadata": {},
   "outputs": [],
   "source": [
    "df =\n",
    "df.head()"
   ]
  },
  {
   "cell_type": "markdown",
   "metadata": {},
   "source": [
    "## #1: `songs` Table\n",
    "#### Extract Data for Songs Table\n",
    "- Select columns for song ID, title, artist ID, year, and duration\n",
    "- Use `df.values` to select just the values from the dataframe\n",
    "- Index to select the first (only) record in the dataframe\n",
    "- Convert the array to a list and set it to `song_data`"
   ]
  },
  {
   "cell_type": "code",
   "execution_count": 30,
   "outputs": [
    {
     "data": {
      "text/plain": "   num_songs           artist_id  artist_latitude  artist_longitude  \\\n0          1  ARMJAGH1187FB546F3         35.14968         -90.04892   \n0          1  ARD7TVE1187B99BFB1              NaN               NaN   \n\n   artist_location   artist_name             song_id             title  \\\n0      Memphis, TN  The Box Tops  SOCIWDW12A8C13D406         Soul Deep   \n0  California - LA        Casual  SOMZWCG12A8C13C480  I Didn't Mean To   \n\n    duration  year  \n0  148.03546  1969  \n0  218.93179     0  ",
      "text/html": "<div>\n<style scoped>\n    .dataframe tbody tr th:only-of-type {\n        vertical-align: middle;\n    }\n\n    .dataframe tbody tr th {\n        vertical-align: top;\n    }\n\n    .dataframe thead th {\n        text-align: right;\n    }\n</style>\n<table border=\"1\" class=\"dataframe\">\n  <thead>\n    <tr style=\"text-align: right;\">\n      <th></th>\n      <th>num_songs</th>\n      <th>artist_id</th>\n      <th>artist_latitude</th>\n      <th>artist_longitude</th>\n      <th>artist_location</th>\n      <th>artist_name</th>\n      <th>song_id</th>\n      <th>title</th>\n      <th>duration</th>\n      <th>year</th>\n    </tr>\n  </thead>\n  <tbody>\n    <tr>\n      <th>0</th>\n      <td>1</td>\n      <td>ARMJAGH1187FB546F3</td>\n      <td>35.14968</td>\n      <td>-90.04892</td>\n      <td>Memphis, TN</td>\n      <td>The Box Tops</td>\n      <td>SOCIWDW12A8C13D406</td>\n      <td>Soul Deep</td>\n      <td>148.03546</td>\n      <td>1969</td>\n    </tr>\n    <tr>\n      <th>0</th>\n      <td>1</td>\n      <td>ARD7TVE1187B99BFB1</td>\n      <td>NaN</td>\n      <td>NaN</td>\n      <td>California - LA</td>\n      <td>Casual</td>\n      <td>SOMZWCG12A8C13C480</td>\n      <td>I Didn't Mean To</td>\n      <td>218.93179</td>\n      <td>0</td>\n    </tr>\n  </tbody>\n</table>\n</div>"
     },
     "execution_count": 30,
     "metadata": {},
     "output_type": "execute_result"
    }
   ],
   "source": [
    "pd.read_json(song_files[5], lines=True)\n",
    "\n",
    "pd.read_json(song_files[6], lines=True)\n",
    "\n",
    "\n",
    "\n",
    "pd.concat([pd.read_json(song_files[5], lines=True), pd.read_json(song_files[6], lines=True)])"
   ],
   "metadata": {
    "collapsed": false,
    "pycharm": {
     "name": "#%%\n"
    }
   }
  },
  {
   "cell_type": "code",
   "execution_count": 32,
   "outputs": [
    {
     "data": {
      "text/plain": "   num_songs           artist_id  artist_latitude  artist_longitude  \\\n0          1  ARMJAGH1187FB546F3         35.14968         -90.04892   \n\n  artist_location   artist_name             song_id      title   duration  \\\n0     Memphis, TN  The Box Tops  SOCIWDW12A8C13D406  Soul Deep  148.03546   \n\n   year  \n0  1969  ",
      "text/html": "<div>\n<style scoped>\n    .dataframe tbody tr th:only-of-type {\n        vertical-align: middle;\n    }\n\n    .dataframe tbody tr th {\n        vertical-align: top;\n    }\n\n    .dataframe thead th {\n        text-align: right;\n    }\n</style>\n<table border=\"1\" class=\"dataframe\">\n  <thead>\n    <tr style=\"text-align: right;\">\n      <th></th>\n      <th>num_songs</th>\n      <th>artist_id</th>\n      <th>artist_latitude</th>\n      <th>artist_longitude</th>\n      <th>artist_location</th>\n      <th>artist_name</th>\n      <th>song_id</th>\n      <th>title</th>\n      <th>duration</th>\n      <th>year</th>\n    </tr>\n  </thead>\n  <tbody>\n    <tr>\n      <th>0</th>\n      <td>1</td>\n      <td>ARMJAGH1187FB546F3</td>\n      <td>35.14968</td>\n      <td>-90.04892</td>\n      <td>Memphis, TN</td>\n      <td>The Box Tops</td>\n      <td>SOCIWDW12A8C13D406</td>\n      <td>Soul Deep</td>\n      <td>148.03546</td>\n      <td>1969</td>\n    </tr>\n  </tbody>\n</table>\n</div>"
     },
     "execution_count": 32,
     "metadata": {},
     "output_type": "execute_result"
    }
   ],
   "source": [
    "pd.read_json(song_files[5], lines=True)"
   ],
   "metadata": {
    "collapsed": false,
    "pycharm": {
     "name": "#%%\n"
    }
   }
  },
  {
   "cell_type": "code",
   "execution_count": 31,
   "outputs": [
    {
     "data": {
      "text/plain": "   num_songs           artist_id  artist_latitude  artist_longitude  \\\n0          1  ARD7TVE1187B99BFB1              NaN               NaN   \n\n   artist_location artist_name             song_id             title  \\\n0  California - LA      Casual  SOMZWCG12A8C13C480  I Didn't Mean To   \n\n    duration  year  \n0  218.93179     0  ",
      "text/html": "<div>\n<style scoped>\n    .dataframe tbody tr th:only-of-type {\n        vertical-align: middle;\n    }\n\n    .dataframe tbody tr th {\n        vertical-align: top;\n    }\n\n    .dataframe thead th {\n        text-align: right;\n    }\n</style>\n<table border=\"1\" class=\"dataframe\">\n  <thead>\n    <tr style=\"text-align: right;\">\n      <th></th>\n      <th>num_songs</th>\n      <th>artist_id</th>\n      <th>artist_latitude</th>\n      <th>artist_longitude</th>\n      <th>artist_location</th>\n      <th>artist_name</th>\n      <th>song_id</th>\n      <th>title</th>\n      <th>duration</th>\n      <th>year</th>\n    </tr>\n  </thead>\n  <tbody>\n    <tr>\n      <th>0</th>\n      <td>1</td>\n      <td>ARD7TVE1187B99BFB1</td>\n      <td>NaN</td>\n      <td>NaN</td>\n      <td>California - LA</td>\n      <td>Casual</td>\n      <td>SOMZWCG12A8C13C480</td>\n      <td>I Didn't Mean To</td>\n      <td>218.93179</td>\n      <td>0</td>\n    </tr>\n  </tbody>\n</table>\n</div>"
     },
     "execution_count": 31,
     "metadata": {},
     "output_type": "execute_result"
    }
   ],
   "source": [
    "pd.read_json(song_files[6], lines=True)"
   ],
   "metadata": {
    "collapsed": false,
    "pycharm": {
     "name": "#%%\n"
    }
   }
  },
  {
   "cell_type": "code",
   "execution_count": 33,
   "outputs": [
    {
     "data": {
      "text/plain": "   num_songs           artist_id  artist_latitude  artist_longitude  \\\n0          1  ARMJAGH1187FB546F3         35.14968         -90.04892   \n0          1  ARD7TVE1187B99BFB1              NaN               NaN   \n\n   artist_location   artist_name             song_id             title  \\\n0      Memphis, TN  The Box Tops  SOCIWDW12A8C13D406         Soul Deep   \n0  California - LA        Casual  SOMZWCG12A8C13C480  I Didn't Mean To   \n\n    duration  year  \n0  148.03546  1969  \n0  218.93179     0  ",
      "text/html": "<div>\n<style scoped>\n    .dataframe tbody tr th:only-of-type {\n        vertical-align: middle;\n    }\n\n    .dataframe tbody tr th {\n        vertical-align: top;\n    }\n\n    .dataframe thead th {\n        text-align: right;\n    }\n</style>\n<table border=\"1\" class=\"dataframe\">\n  <thead>\n    <tr style=\"text-align: right;\">\n      <th></th>\n      <th>num_songs</th>\n      <th>artist_id</th>\n      <th>artist_latitude</th>\n      <th>artist_longitude</th>\n      <th>artist_location</th>\n      <th>artist_name</th>\n      <th>song_id</th>\n      <th>title</th>\n      <th>duration</th>\n      <th>year</th>\n    </tr>\n  </thead>\n  <tbody>\n    <tr>\n      <th>0</th>\n      <td>1</td>\n      <td>ARMJAGH1187FB546F3</td>\n      <td>35.14968</td>\n      <td>-90.04892</td>\n      <td>Memphis, TN</td>\n      <td>The Box Tops</td>\n      <td>SOCIWDW12A8C13D406</td>\n      <td>Soul Deep</td>\n      <td>148.03546</td>\n      <td>1969</td>\n    </tr>\n    <tr>\n      <th>0</th>\n      <td>1</td>\n      <td>ARD7TVE1187B99BFB1</td>\n      <td>NaN</td>\n      <td>NaN</td>\n      <td>California - LA</td>\n      <td>Casual</td>\n      <td>SOMZWCG12A8C13C480</td>\n      <td>I Didn't Mean To</td>\n      <td>218.93179</td>\n      <td>0</td>\n    </tr>\n  </tbody>\n</table>\n</div>"
     },
     "execution_count": 33,
     "metadata": {},
     "output_type": "execute_result"
    }
   ],
   "source": [
    "pd.concat([pd.read_json(song_files[5], lines=True), pd.read_json(song_files[6], lines=True)])"
   ],
   "metadata": {
    "collapsed": false,
    "pycharm": {
     "name": "#%%\n"
    }
   }
  },
  {
   "cell_type": "code",
   "execution_count": null,
   "metadata": {},
   "outputs": [],
   "source": [
    "song_data = \n",
    "song_data"
   ]
  },
  {
   "cell_type": "markdown",
   "metadata": {},
   "source": [
    "#### Insert Record into Song Table\n",
    "Implement the `song_table_insert` query in `sql_queries.py` and run the cell below to insert a record for this song into the `songs` table. Remember to run `create_tables.py` before running the cell below to ensure you've created/resetted the `songs` table in the sparkify database."
   ]
  },
  {
   "cell_type": "code",
   "execution_count": null,
   "metadata": {},
   "outputs": [],
   "source": [
    "cur.execute(song_table_insert, song_data)\n",
    "conn.commit()"
   ]
  },
  {
   "cell_type": "markdown",
   "metadata": {},
   "source": [
    "Run `test.ipynb` to see if you've successfully added a record to this table."
   ]
  },
  {
   "cell_type": "markdown",
   "metadata": {},
   "source": [
    "## #2: `artists` Table\n",
    "#### Extract Data for Artists Table\n",
    "- Select columns for artist ID, name, location, latitude, and longitude\n",
    "- Use `df.values` to select just the values from the dataframe\n",
    "- Index to select the first (only) record in the dataframe\n",
    "- Convert the array to a list and set it to `artist_data`"
   ]
  },
  {
   "cell_type": "code",
   "execution_count": null,
   "metadata": {},
   "outputs": [],
   "source": [
    "artist_data = \n",
    "artist_data"
   ]
  },
  {
   "cell_type": "markdown",
   "metadata": {},
   "source": [
    "#### Insert Record into Artist Table\n",
    "Implement the `artist_table_insert` query in `sql_queries.py` and run the cell below to insert a record for this song's artist into the `artists` table. Remember to run `create_tables.py` before running the cell below to ensure you've created/resetted the `artists` table in the sparkify database."
   ]
  },
  {
   "cell_type": "code",
   "execution_count": null,
   "metadata": {},
   "outputs": [],
   "source": [
    "cur.execute(artist_table_insert, artist_data)\n",
    "conn.commit()"
   ]
  },
  {
   "cell_type": "markdown",
   "metadata": {},
   "source": [
    "Run `test.ipynb` to see if you've successfully added a record to this table."
   ]
  },
  {
   "cell_type": "markdown",
   "metadata": {},
   "source": [
    "# Process `log_data`\n",
    "In this part, you'll perform ETL on the second dataset, `log_data`, to create the `time` and `users` dimensional tables, as well as the `songplays` fact table.\n",
    "\n",
    "Let's perform ETL on a single log file and load a single record into each table.\n",
    "- Use the `get_files` function provided above to get a list of all log JSON files in `data/log_data`\n",
    "- Select the first log file in this list\n",
    "- Read the log file and view the data"
   ]
  },
  {
   "cell_type": "code",
   "execution_count": null,
   "metadata": {},
   "outputs": [],
   "source": [
    "log_files = "
   ]
  },
  {
   "cell_type": "code",
   "execution_count": null,
   "metadata": {},
   "outputs": [],
   "source": [
    "filepath = "
   ]
  },
  {
   "cell_type": "code",
   "execution_count": null,
   "metadata": {},
   "outputs": [],
   "source": [
    "df = \n",
    "df.head()"
   ]
  },
  {
   "cell_type": "markdown",
   "metadata": {},
   "source": [
    "## #3: `time` Table\n",
    "#### Extract Data for Time Table\n",
    "- Filter records by `NextSong` action\n",
    "- Convert the `ts` timestamp column to datetime\n",
    "  - Hint: the current timestamp is in milliseconds\n",
    "- Extract the timestamp, hour, day, week of year, month, year, and weekday from the `ts` column and set `time_data` to a list containing these values in order\n",
    "  - Hint: use pandas' [`dt` attribute](https://pandas.pydata.org/pandas-docs/stable/reference/api/pandas.Series.dt.html) to access easily datetimelike properties.\n",
    "- Specify labels for these columns and set to `column_labels`\n",
    "- Create a dataframe, `time_df,` containing the time data for this file by combining `column_labels` and `time_data` into a dictionary and converting this into a dataframe"
   ]
  },
  {
   "cell_type": "code",
   "execution_count": null,
   "metadata": {},
   "outputs": [],
   "source": [
    "df = \n",
    "df.head()"
   ]
  },
  {
   "cell_type": "code",
   "execution_count": null,
   "metadata": {},
   "outputs": [],
   "source": [
    "t = \n",
    "t.head()"
   ]
  },
  {
   "cell_type": "code",
   "execution_count": null,
   "metadata": {},
   "outputs": [],
   "source": [
    "time_data = ()\n",
    "column_labels = ()"
   ]
  },
  {
   "cell_type": "code",
   "execution_count": null,
   "metadata": {},
   "outputs": [],
   "source": [
    "time_df = \n",
    "time_df.head()"
   ]
  },
  {
   "cell_type": "markdown",
   "metadata": {},
   "source": [
    "#### Insert Records into Time Table\n",
    "Implement the `time_table_insert` query in `sql_queries.py` and run the cell below to insert records for the timestamps in this log file into the `time` table. Remember to run `create_tables.py` before running the cell below to ensure you've created/resetted the `time` table in the sparkify database."
   ]
  },
  {
   "cell_type": "code",
   "execution_count": null,
   "metadata": {},
   "outputs": [],
   "source": [
    "for i, row in time_df.iterrows():\n",
    "    cur.execute(time_table_insert, list(row))\n",
    "    conn.commit()"
   ]
  },
  {
   "cell_type": "markdown",
   "metadata": {},
   "source": [
    "Run `test.ipynb` to see if you've successfully added records to this table."
   ]
  },
  {
   "cell_type": "markdown",
   "metadata": {},
   "source": [
    "## #4: `users` Table\n",
    "#### Extract Data for Users Table\n",
    "- Select columns for user ID, first name, last name, gender and level and set to `user_df`"
   ]
  },
  {
   "cell_type": "code",
   "execution_count": null,
   "metadata": {},
   "outputs": [],
   "source": [
    "user_df = "
   ]
  },
  {
   "cell_type": "markdown",
   "metadata": {},
   "source": [
    "#### Insert Records into Users Table\n",
    "Implement the `user_table_insert` query in `sql_queries.py` and run the cell below to insert records for the users in this log file into the `users` table. Remember to run `create_tables.py` before running the cell below to ensure you've created/resetted the `users` table in the sparkify database."
   ]
  },
  {
   "cell_type": "code",
   "execution_count": null,
   "metadata": {},
   "outputs": [],
   "source": [
    "for i, row in user_df.iterrows():\n",
    "    cur.execute(user_table_insert, row)\n",
    "    conn.commit()"
   ]
  },
  {
   "cell_type": "markdown",
   "metadata": {},
   "source": [
    "Run `test.ipynb` to see if you've successfully added records to this table."
   ]
  },
  {
   "cell_type": "markdown",
   "metadata": {},
   "source": [
    "## #5: `songplays` Table\n",
    "#### Extract Data and Songplays Table\n",
    "This one is a little more complicated since information from the songs table, artists table, and original log file are all needed for the `songplays` table. Since the log file does not specify an ID for either the song or the artist, you'll need to get the song ID and artist ID by querying the songs and artists tables to find matches based on song title, artist name, and song duration time.\n",
    "- Implement the `song_select` query in `sql_queries.py` to find the song ID and artist ID based on the title, artist name, and duration of a song.\n",
    "- Select the timestamp, user ID, level, song ID, artist ID, session ID, location, and user agent and set to `songplay_data`\n",
    "\n",
    "#### Insert Records into Songplays Table\n",
    "- Implement the `songplay_table_insert` query and run the cell below to insert records for the songplay actions in this log file into the `songplays` table. Remember to run `create_tables.py` before running the cell below to ensure you've created/resetted the `songplays` table in the sparkify database."
   ]
  },
  {
   "cell_type": "code",
   "execution_count": null,
   "metadata": {},
   "outputs": [],
   "source": [
    "for index, row in df.iterrows():\n",
    "\n",
    "    # get songid and artistid from song and artist tables\n",
    "    cur.execute(song_select, (row.song, row.artist, row.length))\n",
    "    results = cur.fetchone()\n",
    "    \n",
    "    if results:\n",
    "        songid, artistid = results\n",
    "    else:\n",
    "        songid, artistid = None, None\n",
    "\n",
    "    # insert songplay record\n",
    "    songplay_data = ()\n",
    "    cur.execute(songplay_table_insert, songplay_data)\n",
    "    conn.commit()"
   ]
  },
  {
   "cell_type": "markdown",
   "metadata": {},
   "source": [
    "Run `test.ipynb` to see if you've successfully added records to this table."
   ]
  },
  {
   "cell_type": "markdown",
   "metadata": {},
   "source": [
    "# Close Connection to Sparkify Database"
   ]
  },
  {
   "cell_type": "code",
   "execution_count": null,
   "metadata": {},
   "outputs": [],
   "source": [
    "conn.close()"
   ]
  },
  {
   "cell_type": "markdown",
   "metadata": {},
   "source": [
    "# Implement `etl.py`\n",
    "Use what you've completed in this notebook to implement `etl.py`."
   ]
  },
  {
   "cell_type": "code",
   "execution_count": null,
   "metadata": {},
   "outputs": [],
   "source": []
  }
 ],
 "metadata": {
  "kernelspec": {
   "display_name": "Python 3",
   "language": "python",
   "name": "python3"
  },
  "language_info": {
   "codemirror_mode": {
    "name": "ipython",
    "version": 3
   },
   "file_extension": ".py",
   "mimetype": "text/x-python",
   "name": "python",
   "nbconvert_exporter": "python",
   "pygments_lexer": "ipython3",
   "version": "3.6.3"
  }
 },
 "nbformat": 4,
 "nbformat_minor": 2
}